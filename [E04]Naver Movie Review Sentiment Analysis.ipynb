{
 "cells": [
  {
   "cell_type": "markdown",
   "metadata": {},
   "source": [
    "# 1. 프로젝트 : 네이버 영화리뷰 감성분석 도전하기"
   ]
  },
  {
   "cell_type": "markdown",
   "metadata": {},
   "source": [
    "이전 스텝까지는 영문 텍스트의 감정분석을 진행해 보았습니다. 그렇다면 이번에는 한국어 텍스트의 감정분석을 진행해 보면 어떨까요? 오늘 활용할 데이터셋은 네이버 영화의 댓글을 모아 구성된 Naver sentiment movie corpus입니다.https://github.com/e9t/nsmc\n",
    "아래와 같이 다운로드를 진행해 주세요.\n",
    "```\n",
    "$ wget https://raw.githubusercontent.com/e9t/nsmc/master/ratings_train.txt\n",
    "$ wget https://raw.githubusercontent.com/e9t/nsmc/master/ratings_test.txt\n",
    "$ mv ratings_*.txt ~/aiffel/sentiment_classification\n",
    "```\n"
   ]
  },
  {
   "cell_type": "markdown",
   "metadata": {},
   "source": [
    "# 1) 데이터 준비 확인"
   ]
  },
  {
   "cell_type": "code",
   "execution_count": 15,
   "metadata": {
    "scrolled": true
   },
   "outputs": [],
   "source": [
    "import pandas as pd\n",
    "import urllib.request\n",
    "%matplotlib inline\n",
    "import matplotlib.pyplot as plt\n",
    "import re\n",
    "from konlpy.tag import Okt\n",
    "from tensorflow import keras\n",
    "from tensorflow.keras.preprocessing.text import Tokenizer\n",
    "import numpy as np\n",
    "from tensorflow.keras.preprocessing.sequence import pad_sequences\n",
    "from collections import Counter\n",
    "\n",
    "# 데이터를 읽어봅시다. \n",
    "train_data = pd.read_table('~/aiffel/sentiment_classification/ratings_train.txt')\n",
    "test_data = pd.read_table('~/aiffel/sentiment_classification/ratings_test.txt')\n",
    "\n",
    "\n"
   ]
  },
  {
   "cell_type": "markdown",
   "metadata": {},
   "source": [
    " ### 상위 5개 출력"
   ]
  },
  {
   "cell_type": "code",
   "execution_count": 16,
   "metadata": {
    "scrolled": true
   },
   "outputs": [
    {
     "data": {
      "text/html": [
       "<div>\n",
       "<style scoped>\n",
       "    .dataframe tbody tr th:only-of-type {\n",
       "        vertical-align: middle;\n",
       "    }\n",
       "\n",
       "    .dataframe tbody tr th {\n",
       "        vertical-align: top;\n",
       "    }\n",
       "\n",
       "    .dataframe thead th {\n",
       "        text-align: right;\n",
       "    }\n",
       "</style>\n",
       "<table border=\"1\" class=\"dataframe\">\n",
       "  <thead>\n",
       "    <tr style=\"text-align: right;\">\n",
       "      <th></th>\n",
       "      <th>id</th>\n",
       "      <th>document</th>\n",
       "      <th>label</th>\n",
       "    </tr>\n",
       "  </thead>\n",
       "  <tbody>\n",
       "    <tr>\n",
       "      <th>0</th>\n",
       "      <td>9976970</td>\n",
       "      <td>아 더빙.. 진짜 짜증나네요 목소리</td>\n",
       "      <td>0</td>\n",
       "    </tr>\n",
       "    <tr>\n",
       "      <th>1</th>\n",
       "      <td>3819312</td>\n",
       "      <td>흠...포스터보고 초딩영화줄....오버연기조차 가볍지 않구나</td>\n",
       "      <td>1</td>\n",
       "    </tr>\n",
       "    <tr>\n",
       "      <th>2</th>\n",
       "      <td>10265843</td>\n",
       "      <td>너무재밓었다그래서보는것을추천한다</td>\n",
       "      <td>0</td>\n",
       "    </tr>\n",
       "    <tr>\n",
       "      <th>3</th>\n",
       "      <td>9045019</td>\n",
       "      <td>교도소 이야기구먼 ..솔직히 재미는 없다..평점 조정</td>\n",
       "      <td>0</td>\n",
       "    </tr>\n",
       "    <tr>\n",
       "      <th>4</th>\n",
       "      <td>6483659</td>\n",
       "      <td>사이몬페그의 익살스런 연기가 돋보였던 영화!스파이더맨에서 늙어보이기만 했던 커스틴 ...</td>\n",
       "      <td>1</td>\n",
       "    </tr>\n",
       "  </tbody>\n",
       "</table>\n",
       "</div>"
      ],
      "text/plain": [
       "         id                                           document  label\n",
       "0   9976970                                아 더빙.. 진짜 짜증나네요 목소리      0\n",
       "1   3819312                  흠...포스터보고 초딩영화줄....오버연기조차 가볍지 않구나      1\n",
       "2  10265843                                  너무재밓었다그래서보는것을추천한다      0\n",
       "3   9045019                      교도소 이야기구먼 ..솔직히 재미는 없다..평점 조정      0\n",
       "4   6483659  사이몬페그의 익살스런 연기가 돋보였던 영화!스파이더맨에서 늙어보이기만 했던 커스틴 ...      1"
      ]
     },
     "execution_count": 16,
     "metadata": {},
     "output_type": "execute_result"
    }
   ],
   "source": [
    "train_data.head()"
   ]
  },
  {
   "cell_type": "markdown",
   "metadata": {},
   "source": [
    "### 하위 5개 출력"
   ]
  },
  {
   "cell_type": "code",
   "execution_count": 17,
   "metadata": {
    "scrolled": true
   },
   "outputs": [
    {
     "data": {
      "text/html": [
       "<div>\n",
       "<style scoped>\n",
       "    .dataframe tbody tr th:only-of-type {\n",
       "        vertical-align: middle;\n",
       "    }\n",
       "\n",
       "    .dataframe tbody tr th {\n",
       "        vertical-align: top;\n",
       "    }\n",
       "\n",
       "    .dataframe thead th {\n",
       "        text-align: right;\n",
       "    }\n",
       "</style>\n",
       "<table border=\"1\" class=\"dataframe\">\n",
       "  <thead>\n",
       "    <tr style=\"text-align: right;\">\n",
       "      <th></th>\n",
       "      <th>id</th>\n",
       "      <th>document</th>\n",
       "      <th>label</th>\n",
       "    </tr>\n",
       "  </thead>\n",
       "  <tbody>\n",
       "    <tr>\n",
       "      <th>149995</th>\n",
       "      <td>6222902</td>\n",
       "      <td>인간이 문제지.. 소는 뭔죄인가..</td>\n",
       "      <td>0</td>\n",
       "    </tr>\n",
       "    <tr>\n",
       "      <th>149996</th>\n",
       "      <td>8549745</td>\n",
       "      <td>평점이 너무 낮아서...</td>\n",
       "      <td>1</td>\n",
       "    </tr>\n",
       "    <tr>\n",
       "      <th>149997</th>\n",
       "      <td>9311800</td>\n",
       "      <td>이게 뭐요? 한국인은 거들먹거리고 필리핀 혼혈은 착하다?</td>\n",
       "      <td>0</td>\n",
       "    </tr>\n",
       "    <tr>\n",
       "      <th>149998</th>\n",
       "      <td>2376369</td>\n",
       "      <td>청춘 영화의 최고봉.방황과 우울했던 날들의 자화상</td>\n",
       "      <td>1</td>\n",
       "    </tr>\n",
       "    <tr>\n",
       "      <th>149999</th>\n",
       "      <td>9619869</td>\n",
       "      <td>한국 영화 최초로 수간하는 내용이 담긴 영화</td>\n",
       "      <td>0</td>\n",
       "    </tr>\n",
       "  </tbody>\n",
       "</table>\n",
       "</div>"
      ],
      "text/plain": [
       "             id                         document  label\n",
       "149995  6222902              인간이 문제지.. 소는 뭔죄인가..      0\n",
       "149996  8549745                    평점이 너무 낮아서...      1\n",
       "149997  9311800  이게 뭐요? 한국인은 거들먹거리고 필리핀 혼혈은 착하다?      0\n",
       "149998  2376369      청춘 영화의 최고봉.방황과 우울했던 날들의 자화상      1\n",
       "149999  9619869         한국 영화 최초로 수간하는 내용이 담긴 영화      0"
      ]
     },
     "execution_count": 17,
     "metadata": {},
     "output_type": "execute_result"
    }
   ],
   "source": [
    "train_data.tail()"
   ]
  },
  {
   "cell_type": "markdown",
   "metadata": {},
   "source": [
    " ####  Nsmc데이터는 id, document, label 총 3개의 열로 구성"
   ]
  },
  {
   "cell_type": "code",
   "execution_count": 18,
   "metadata": {},
   "outputs": [
    {
     "name": "stdout",
     "output_type": "stream",
     "text": [
      "테스트용 리뷰 개수 : 150000\n"
     ]
    }
   ],
   "source": [
    "print('테스트용 리뷰 개수 :',len(train_data)) # 테스트용 리뷰 개수 출력"
   ]
  },
  {
   "cell_type": "code",
   "execution_count": 19,
   "metadata": {},
   "outputs": [
    {
     "name": "stdout",
     "output_type": "stream",
     "text": [
      "<class 'pandas.core.frame.DataFrame'>\n",
      "RangeIndex: 150000 entries, 0 to 149999\n",
      "Data columns (total 3 columns):\n",
      " #   Column    Non-Null Count   Dtype \n",
      "---  ------    --------------   ----- \n",
      " 0   id        150000 non-null  int64 \n",
      " 1   document  149995 non-null  object\n",
      " 2   label     150000 non-null  int64 \n",
      "dtypes: int64(2), object(1)\n",
      "memory usage: 3.4+ MB\n"
     ]
    }
   ],
   "source": [
    "train_data.info() # infor를 통해 train 정보 출력"
   ]
  },
  {
   "cell_type": "markdown",
   "metadata": {},
   "source": [
    "# 2) 데이터로더 구성    \n",
    "nsmc 데이터셋은 전혀 가공되지 않은 텍스트 파일이다.자신만의 data_loader를 만들어 보자 \n",
    "\n",
    "- 데이터의 중복 제거\n",
    "- NaN 결측치 제거\n",
    "- 각종 특수문자제거\n",
    "- 한국어 토크나이저로 토큰화\n",
    "- 불용어(Stopwords) 제거\n",
    "- 단어 집합 만들기(추가)\n",
    "- 노드 제공 코드 사용하기"
   ]
  },
  {
   "cell_type": "code",
   "execution_count": 20,
   "metadata": {},
   "outputs": [],
   "source": [
    "from konlpy.tag import Mecab\n",
    "tokenizer = Mecab()\n",
    "stopwords = ['의','가','이','은','들','는','좀','잘','걍','과','도','를','으로','자','에','와','한','하다']\n",
    "#데이터의 중복 제거\n",
    "#NaN 결측치 제거\n",
    "#각종 특수문자제거\n",
    "#한국어 토크나이저로 토큰화\n",
    "#불용어(Stopwords) 제거\n",
    "#사전word_to_index 구성\n",
    "#텍스트 스트링을 사전 인덱스 스트링으로 변환\n",
    "#X_train, y_train, X_test, y_test, word_to_index 리턴"
   ]
  },
  {
   "cell_type": "markdown",
   "metadata": {},
   "source": [
    "# 데이터의 중복 제거\n",
    "\n",
    "https://wikidocs.net/44249"
   ]
  },
  {
   "cell_type": "code",
   "execution_count": 21,
   "metadata": {
    "scrolled": true
   },
   "outputs": [
    {
     "data": {
      "text/plain": [
       "(146182, 2)"
      ]
     },
     "execution_count": 21,
     "metadata": {},
     "output_type": "execute_result"
    }
   ],
   "source": [
    "train_data['document'].nunique(), train_data['label'].nunique() # 중복을 제거한 단어수"
   ]
  },
  {
   "cell_type": "markdown",
   "metadata": {},
   "source": [
    "#### 총 150,000개의 샘플이 존재하는데 document열에서 중복을 제거한 샘플의 개수가 146,182개라는 것은 약 4,000개의 중복 샘플이 존재한다는 의미다.label 열은 0 또는 1의 값만을 가지므로 2가 출력됨"
   ]
  },
  {
   "cell_type": "code",
   "execution_count": 22,
   "metadata": {},
   "outputs": [],
   "source": [
    "train_data.drop_duplicates(subset=['document'], inplace=True) # document 열에서 중복인 내용이 있다면 중복 제거"
   ]
  },
  {
   "cell_type": "markdown",
   "metadata": {},
   "source": [
    "#### document 열에서 중복인 내용이 있다면 중복 제거한다."
   ]
  },
  {
   "cell_type": "code",
   "execution_count": 23,
   "metadata": {},
   "outputs": [
    {
     "name": "stdout",
     "output_type": "stream",
     "text": [
      "<class 'pandas.core.frame.DataFrame'>\n",
      "Int64Index: 146183 entries, 0 to 149999\n",
      "Data columns (total 3 columns):\n",
      " #   Column    Non-Null Count   Dtype \n",
      "---  ------    --------------   ----- \n",
      " 0   id        146183 non-null  int64 \n",
      " 1   document  146182 non-null  object\n",
      " 2   label     146183 non-null  int64 \n",
      "dtypes: int64(2), object(1)\n",
      "memory usage: 4.5+ MB\n"
     ]
    }
   ],
   "source": [
    "train_data.info() # infor를 통해 train 정보 출력"
   ]
  },
  {
   "cell_type": "markdown",
   "metadata": {},
   "source": [
    "#### 위는 중복 제거후 정보이다. 중복 제거 전 정보를 가져와 보겠다. 비교해보자\n",
    " ```\n",
    " 0   id        150000 non-null  int64    \n",
    " 1   document  149995 non-null  object  \n",
    " 2   label     150000 non-null  int64   \n",
    " ```\n",
    "####  중복데이터가 제거된것이 확인된다."
   ]
  },
  {
   "cell_type": "code",
   "execution_count": 24,
   "metadata": {},
   "outputs": [
    {
     "data": {
      "text/plain": [
       "<matplotlib.axes._subplots.AxesSubplot at 0x7f3dc571b410>"
      ]
     },
     "execution_count": 24,
     "metadata": {},
     "output_type": "execute_result"
    },
    {
     "data": {
      "image/png": "[encoded data removed]",
      "text/plain": [
       "<Figure size 432x288 with 1 Axes>"
      ]
     },
     "metadata": {
      "needs_background": "light"
     },
     "output_type": "display_data"
    }
   ],
   "source": [
    "train_data['label'].value_counts().plot(kind = 'bar')"
   ]
  },
  {
   "cell_type": "markdown",
   "metadata": {},
   "source": [
    "#### train_data에서 해당 리뷰의 긍, 부정 유무가 기재되어있는 레이블(label)분포그래프"
   ]
  },
  {
   "cell_type": "markdown",
   "metadata": {},
   "source": [
    "# NAN(not a NUMber)데이터 제거하기\n",
    "\n",
    "- #### NAN : 표현이 불가능한 수치형 데이터를 NAN이라고한다 NULL과 같은 의미\n",
    "- #### 참고 내용 :머신러닝 알고리즘이 작동하기 위해서는 각 feature수치형 데이터로 채워 feature vector로 만들어야 한다. 이 과정 feature engineering이라고 하며, 그 과정 중에 하나가 NaN데이터 처리를 처리하는 과정이다.\n",
    "\n",
    "https://dsbook.tistory.com/21  \n",
    "\n",
    "https://blog.naver.com/PostView.nhn?blogId=youji4ever&logNo=221712578078"
   ]
  },
  {
   "cell_type": "code",
   "execution_count": 25,
   "metadata": {},
   "outputs": [
    {
     "data": {
      "text/plain": [
       "id          0\n",
       "document    1\n",
       "label       0\n",
       "dtype: int64"
      ]
     },
     "execution_count": 25,
     "metadata": {},
     "output_type": "execute_result"
    }
   ],
   "source": [
    "train_data.isna().sum()\n",
    "#isna() NaN인지 아닌지 boolean데이터로 반환\n",
    "#sum() 반환된 boolean 데이터 중 True 값만 count\n"
   ]
  },
  {
   "cell_type": "markdown",
   "metadata": {},
   "source": [
    "#### Nsmc 에서 NAN 값은 document열에 1개가 있다는것을 알수 있다."
   ]
  },
  {
   "cell_type": "code",
   "execution_count": 26,
   "metadata": {
    "scrolled": false
   },
   "outputs": [
    {
     "data": {
      "text/html": [
       "<div>\n",
       "<style scoped>\n",
       "    .dataframe tbody tr th:only-of-type {\n",
       "        vertical-align: middle;\n",
       "    }\n",
       "\n",
       "    .dataframe tbody tr th {\n",
       "        vertical-align: top;\n",
       "    }\n",
       "\n",
       "    .dataframe thead th {\n",
       "        text-align: right;\n",
       "    }\n",
       "</style>\n",
       "<table border=\"1\" class=\"dataframe\">\n",
       "  <thead>\n",
       "    <tr style=\"text-align: right;\">\n",
       "      <th></th>\n",
       "      <th>id</th>\n",
       "      <th>document</th>\n",
       "      <th>label</th>\n",
       "    </tr>\n",
       "  </thead>\n",
       "  <tbody>\n",
       "    <tr>\n",
       "      <th>25857</th>\n",
       "      <td>2172111</td>\n",
       "      <td>NaN</td>\n",
       "      <td>1</td>\n",
       "    </tr>\n",
       "  </tbody>\n",
       "</table>\n",
       "</div>"
      ],
      "text/plain": [
       "            id document  label\n",
       "25857  2172111      NaN      1"
      ]
     },
     "execution_count": 26,
     "metadata": {},
     "output_type": "execute_result"
    }
   ],
   "source": [
    "train_data.loc[train_data.document.isnull()] # 특정열 NAN 확인하기"
   ]
  },
  {
   "cell_type": "markdown",
   "metadata": {},
   "source": [
    "#### docment에 NAN이 존재 확인됨"
   ]
  },
  {
   "cell_type": "code",
   "execution_count": 27,
   "metadata": {
    "scrolled": true
   },
   "outputs": [],
   "source": [
    "train_data = train_data.dropna(how = 'any') # Null 값이 존재하는 행 제거"
   ]
  },
  {
   "cell_type": "markdown",
   "metadata": {},
   "source": [
    "#### dropna함수 사용해서 NaN데이터가 있는 row를 삭제한다."
   ]
  },
  {
   "cell_type": "code",
   "execution_count": 28,
   "metadata": {},
   "outputs": [
    {
     "name": "stdout",
     "output_type": "stream",
     "text": [
      "False\n"
     ]
    }
   ],
   "source": [
    "print(train_data.isnull().values.any()) # Null 값이 존재하는지 확인"
   ]
  },
  {
   "cell_type": "code",
   "execution_count": 29,
   "metadata": {
    "scrolled": true
   },
   "outputs": [
    {
     "name": "stdout",
     "output_type": "stream",
     "text": [
      "<class 'pandas.core.frame.DataFrame'>\n",
      "Int64Index: 146182 entries, 0 to 149999\n",
      "Data columns (total 3 columns):\n",
      " #   Column    Non-Null Count   Dtype \n",
      "---  ------    --------------   ----- \n",
      " 0   id        146182 non-null  int64 \n",
      " 1   document  146182 non-null  object\n",
      " 2   label     146182 non-null  int64 \n",
      "dtypes: int64(2), object(1)\n",
      "memory usage: 4.5+ MB\n"
     ]
    }
   ],
   "source": [
    "train_data.info() # infor를 통해 train 정보 출력"
   ]
  },
  {
   "cell_type": "markdown",
   "metadata": {},
   "source": [
    "#### NAN값이 제거되어서 id,document,label 개수가 동일해짐"
   ]
  },
  {
   "cell_type": "markdown",
   "metadata": {},
   "source": [
    "#  각종 특수문자제거\n",
    " - #### 온점(.) 물음표(?),느낌표(!) 와 같은 각종 특수문자를 제거하자\n",
    " - #### 일반적으로 자음의 범위는 ㄱ ~ ㅎ, 모음의 범위는 ㅏ ~ ㅣ와 같이 지정할 수 있습니다\n",
    " ```\n",
    "ㄱ ~ ㅎ: 3131 ~ 314E\n",
    "ㅏ ~ ㅣ: 314F ~ 316위\n",
    "가 ~ 힣 : \n",
    "```\n",
    "#### 자음모음 범위: https://www.unicode.org/charts/PDF/U3130.pdf   \n",
    "#### 완성형 범위 :https://www.unicode.org/charts/PDF/UAC00.pdf"
   ]
  },
  {
   "cell_type": "code",
   "execution_count": 30,
   "metadata": {
    "scrolled": false
   },
   "outputs": [
    {
     "data": {
      "text/html": [
       "<div>\n",
       "<style scoped>\n",
       "    .dataframe tbody tr th:only-of-type {\n",
       "        vertical-align: middle;\n",
       "    }\n",
       "\n",
       "    .dataframe tbody tr th {\n",
       "        vertical-align: top;\n",
       "    }\n",
       "\n",
       "    .dataframe thead th {\n",
       "        text-align: right;\n",
       "    }\n",
       "</style>\n",
       "<table border=\"1\" class=\"dataframe\">\n",
       "  <thead>\n",
       "    <tr style=\"text-align: right;\">\n",
       "      <th></th>\n",
       "      <th>id</th>\n",
       "      <th>document</th>\n",
       "      <th>label</th>\n",
       "    </tr>\n",
       "  </thead>\n",
       "  <tbody>\n",
       "    <tr>\n",
       "      <th>0</th>\n",
       "      <td>9976970</td>\n",
       "      <td>아 더빙 진짜 짜증나네요 목소리</td>\n",
       "      <td>0</td>\n",
       "    </tr>\n",
       "    <tr>\n",
       "      <th>1</th>\n",
       "      <td>3819312</td>\n",
       "      <td>흠포스터보고 초딩영화줄오버연기조차 가볍지 않구나</td>\n",
       "      <td>1</td>\n",
       "    </tr>\n",
       "    <tr>\n",
       "      <th>2</th>\n",
       "      <td>10265843</td>\n",
       "      <td>너무재밓었다그래서보는것을추천한다</td>\n",
       "      <td>0</td>\n",
       "    </tr>\n",
       "    <tr>\n",
       "      <th>3</th>\n",
       "      <td>9045019</td>\n",
       "      <td>교도소 이야기구먼 솔직히 재미는 없다평점 조정</td>\n",
       "      <td>0</td>\n",
       "    </tr>\n",
       "    <tr>\n",
       "      <th>4</th>\n",
       "      <td>6483659</td>\n",
       "      <td>사이몬페그의 익살스런 연기가 돋보였던 영화스파이더맨에서 늙어보이기만 했던 커스틴 던...</td>\n",
       "      <td>1</td>\n",
       "    </tr>\n",
       "  </tbody>\n",
       "</table>\n",
       "</div>"
      ],
      "text/plain": [
       "         id                                           document  label\n",
       "0   9976970                                  아 더빙 진짜 짜증나네요 목소리      0\n",
       "1   3819312                         흠포스터보고 초딩영화줄오버연기조차 가볍지 않구나      1\n",
       "2  10265843                                  너무재밓었다그래서보는것을추천한다      0\n",
       "3   9045019                          교도소 이야기구먼 솔직히 재미는 없다평점 조정      0\n",
       "4   6483659  사이몬페그의 익살스런 연기가 돋보였던 영화스파이더맨에서 늙어보이기만 했던 커스틴 던...      1"
      ]
     },
     "execution_count": 30,
     "metadata": {},
     "output_type": "execute_result"
    }
   ],
   "source": [
    "train_data['document'] = train_data['document'].str.replace(\"[^ㄱ-ㅎㅏ-ㅣ가-힣 ]\",\"\")\n",
    "# 한글과 공백을 제외하고 모두 제거\n",
    "train_data[:5]"
   ]
  },
  {
   "cell_type": "markdown",
   "metadata": {},
   "source": [
    "#### 기존에 한글이 없는 리뷰였다면 이제 더 이상 아무런 값도 없는 빈(empty) 값을 가질것이다. (NULL과 다른의미)"
   ]
  },
  {
   "cell_type": "code",
   "execution_count": 31,
   "metadata": {
    "scrolled": true
   },
   "outputs": [
    {
     "name": "stdout",
     "output_type": "stream",
     "text": [
      "id            0\n",
      "document    391\n",
      "label         0\n",
      "dtype: int64\n"
     ]
    }
   ],
   "source": [
    "train_data['document'].replace('', np.nan, inplace=True) # 빈공간을 NULL로 적용하기\n",
    "print(train_data.isnull().sum())"
   ]
  },
  {
   "cell_type": "markdown",
   "metadata": {},
   "source": [
    "#### 빈 값을 가진 행이 있다면 Null 값으로 변경하고 개수를 확인하면 NAN를 가진 document가 391개나 된다."
   ]
  },
  {
   "cell_type": "code",
   "execution_count": 32,
   "metadata": {
    "scrolled": true
   },
   "outputs": [
    {
     "data": {
      "text/html": [
       "<div>\n",
       "<style scoped>\n",
       "    .dataframe tbody tr th:only-of-type {\n",
       "        vertical-align: middle;\n",
       "    }\n",
       "\n",
       "    .dataframe tbody tr th {\n",
       "        vertical-align: top;\n",
       "    }\n",
       "\n",
       "    .dataframe thead th {\n",
       "        text-align: right;\n",
       "    }\n",
       "</style>\n",
       "<table border=\"1\" class=\"dataframe\">\n",
       "  <thead>\n",
       "    <tr style=\"text-align: right;\">\n",
       "      <th></th>\n",
       "      <th>id</th>\n",
       "      <th>document</th>\n",
       "      <th>label</th>\n",
       "    </tr>\n",
       "  </thead>\n",
       "  <tbody>\n",
       "    <tr>\n",
       "      <th>584</th>\n",
       "      <td>7117896</td>\n",
       "      <td>NaN</td>\n",
       "      <td>0</td>\n",
       "    </tr>\n",
       "    <tr>\n",
       "      <th>593</th>\n",
       "      <td>6478189</td>\n",
       "      <td>NaN</td>\n",
       "      <td>0</td>\n",
       "    </tr>\n",
       "    <tr>\n",
       "      <th>638</th>\n",
       "      <td>9364602</td>\n",
       "      <td>NaN</td>\n",
       "      <td>0</td>\n",
       "    </tr>\n",
       "    <tr>\n",
       "      <th>668</th>\n",
       "      <td>1600635</td>\n",
       "      <td>NaN</td>\n",
       "      <td>0</td>\n",
       "    </tr>\n",
       "    <tr>\n",
       "      <th>1559</th>\n",
       "      <td>6918082</td>\n",
       "      <td>NaN</td>\n",
       "      <td>1</td>\n",
       "    </tr>\n",
       "    <tr>\n",
       "      <th>1840</th>\n",
       "      <td>7095375</td>\n",
       "      <td>NaN</td>\n",
       "      <td>1</td>\n",
       "    </tr>\n",
       "    <tr>\n",
       "      <th>2073</th>\n",
       "      <td>384233</td>\n",
       "      <td>NaN</td>\n",
       "      <td>1</td>\n",
       "    </tr>\n",
       "  </tbody>\n",
       "</table>\n",
       "</div>"
      ],
      "text/plain": [
       "           id document  label\n",
       "584   7117896      NaN      0\n",
       "593   6478189      NaN      0\n",
       "638   9364602      NaN      0\n",
       "668   1600635      NaN      0\n",
       "1559  6918082      NaN      1\n",
       "1840  7095375      NaN      1\n",
       "2073   384233      NaN      1"
      ]
     },
     "execution_count": 32,
     "metadata": {},
     "output_type": "execute_result"
    }
   ],
   "source": [
    "train_data.loc[train_data.document.isnull()][:7]"
   ]
  },
  {
   "cell_type": "markdown",
   "metadata": {},
   "source": [
    "#### 391개 중 7개 출력"
   ]
  },
  {
   "cell_type": "code",
   "execution_count": 33,
   "metadata": {},
   "outputs": [
    {
     "name": "stdout",
     "output_type": "stream",
     "text": [
      "145791\n"
     ]
    }
   ],
   "source": [
    "train_data = train_data.dropna(how = 'any')\n",
    "print(len(train_data))"
   ]
  },
  {
   "cell_type": "markdown",
   "metadata": {},
   "source": [
    "#### NAN값 모두 제거"
   ]
  },
  {
   "cell_type": "code",
   "execution_count": 34,
   "metadata": {},
   "outputs": [
    {
     "name": "stdout",
     "output_type": "stream",
     "text": [
      "False\n"
     ]
    }
   ],
   "source": [
    "print(train_data.isnull().values.any()) # Null 값이 존재하는지 확인"
   ]
  },
  {
   "cell_type": "code",
   "execution_count": 35,
   "metadata": {
    "scrolled": true
   },
   "outputs": [
    {
     "name": "stdout",
     "output_type": "stream",
     "text": [
      "<class 'pandas.core.frame.DataFrame'>\n",
      "Int64Index: 145791 entries, 0 to 149999\n",
      "Data columns (total 3 columns):\n",
      " #   Column    Non-Null Count   Dtype \n",
      "---  ------    --------------   ----- \n",
      " 0   id        145791 non-null  int64 \n",
      " 1   document  145791 non-null  object\n",
      " 2   label     145791 non-null  int64 \n",
      "dtypes: int64(2), object(1)\n",
      "memory usage: 4.4+ MB\n"
     ]
    }
   ],
   "source": [
    "train_data.info() # infor를 통해 train 정보 출력"
   ]
  },
  {
   "cell_type": "markdown",
   "metadata": {},
   "source": [
    "## test_data 테스트데이터도 똑같은 전처리 적용하기"
   ]
  },
  {
   "cell_type": "code",
   "execution_count": 36,
   "metadata": {
    "scrolled": true
   },
   "outputs": [
    {
     "name": "stdout",
     "output_type": "stream",
     "text": [
      "전처리 후 테스트용 샘플의 개수 : 48995\n",
      "<class 'pandas.core.frame.DataFrame'>\n",
      "Int64Index: 48995 entries, 0 to 49999\n",
      "Data columns (total 3 columns):\n",
      " #   Column    Non-Null Count  Dtype \n",
      "---  ------    --------------  ----- \n",
      " 0   id        48995 non-null  int64 \n",
      " 1   document  48995 non-null  object\n",
      " 2   label     48995 non-null  int64 \n",
      "dtypes: int64(2), object(1)\n",
      "memory usage: 1.5+ MB\n"
     ]
    }
   ],
   "source": [
    "### \n",
    "test_data.drop_duplicates(subset = ['document'], inplace=True) # 중복제거\n",
    "test_data['document'] = test_data['document'].str.replace(\"[^ㄱ-ㅎㅏ-ㅣ가-힣 ]\",\"\") # 한글 외 특수문제 제거\n",
    "test_data['document'].replace('', np.nan, inplace=True) # 빈(empty)공간 NAN로 변경\n",
    "test_data = test_data.dropna(how='any') # NAN(NULL)값 제거\n",
    "print('전처리 후 테스트용 샘플의 개수 :',len(test_data))\n",
    "test_data.info() # infor를 통해 test 정보 출력"
   ]
  },
  {
   "cell_type": "markdown",
   "metadata": {},
   "source": [
    "### 테스트 데이터 : 48417개"
   ]
  },
  {
   "cell_type": "markdown",
   "metadata": {},
   "source": [
    "# 한국어 토크나이저로 토큰화 & 불용어(Stopwords) 제거"
   ]
  },
  {
   "cell_type": "markdown",
   "metadata": {},
   "source": [
    " - 토큰화 과정에서 불용어를 제거한다. \n",
    " - 불용어 : 한국어의 조사, 접속사 등(문장에 자주 등장하지만 문자자체에 큰 의미가 없는 문자)https://wikidocs.net/22530\n",
    " - 딥러닝에는 불용어는 그 환경에 맞게 문제의 데이터를 지속 검토하면서 계속해서 추가하는 경우 또한 많다.\n",
    " - 토큰화를 위한 형태소 분석기는 KoNLPy의 Mecab()를 사용 /Okt\n",
    " - 형태소 분석기 종류 https://passerby14.tistory.com/3\n",
    " - 영어는 띄어쓰기 기준으로 토큰화한다. 한국어는 띄어쓰기가 아닌 형태소 분석기로 토큰화한다.\n",
    "\n"
   ]
  },
  {
   "cell_type": "code",
   "execution_count": 37,
   "metadata": {},
   "outputs": [],
   "source": [
    "from konlpy.tag import Mecab\n",
    "mecab = Mecab()\n",
    "stopwords = ['의','가','이','은','들','는','좀','잘','걍','과','도','를','으로','자','에','와','한','하다']"
   ]
  },
  {
   "cell_type": "markdown",
   "metadata": {},
   "source": [
    "### mecab형태소 분석기로 토큰화"
   ]
  },
  {
   "cell_type": "code",
   "execution_count": 38,
   "metadata": {
    "scrolled": true
   },
   "outputs": [
    {
     "name": "stdout",
     "output_type": "stream",
     "text": [
      "['와', '주말', '인데', '컴퓨터', '앞', '에서', '과제', '하', '는', '나', '레전드', '다', '.']\n"
     ]
    }
   ],
   "source": [
    "sample = mecab.morphs('와 주말인데 컴퓨터 앞에서 과제하는 나 레전드다.')\n",
    "print(sample)"
   ]
  },
  {
   "cell_type": "markdown",
   "metadata": {},
   "source": [
    "### 불용어 제거  ( '와' ,'는'  제거 )"
   ]
  },
  {
   "cell_type": "code",
   "execution_count": 39,
   "metadata": {
    "scrolled": true
   },
   "outputs": [
    {
     "name": "stdout",
     "output_type": "stream",
     "text": [
      "['주말', '인데', '컴퓨터', '앞', '에서', '과제', '하', '나', '레전드', '다', '.']\n"
     ]
    }
   ],
   "source": [
    "sample = [word for word in sample if not word in stopwords] # 불용어(Stopwords) 제거\n",
    "print(sample)"
   ]
  },
  {
   "cell_type": "markdown",
   "metadata": {},
   "source": [
    "## 한국어 토크나이저로 토큰화 & 불용어(Stopwords) 제거 코드"
   ]
  },
  {
   "cell_type": "code",
   "execution_count": 40,
   "metadata": {},
   "outputs": [],
   "source": [
    "# Mecab()사용\n",
    "from konlpy.tag import Mecab\n",
    "mecab = Mecab()\n",
    "okt = Okt()\n",
    "stopwords = ['의','가','이','은','들','는','좀','잘','걍','과','도','를','으로','자','에','와','한','하다']\n",
    "\n",
    "X_train = []\n",
    "for sentence in train_data['document']:\n",
    "    temp_X = []\n",
    "    temp_X = mecab.morphs(sentence) # 토큰화(Tokenization)\n",
    "    #temp_X = mecab.morphs(sentence, stem=True) # 토큰화(Tokenization)\n",
    "    temp_X = [word for word in temp_X if not word in stopwords] # 불용어(Stopwords) 제거\n",
    "    X_train.append(temp_X)\n",
    "\n",
    "X_test = []\n",
    "for sentence in test_data['document']:\n",
    "    temp_X = []\n",
    "    temp_X = mecab.morphs(sentence) # 토큰화(Tokenization)\n",
    "    temp_X = [word for word in temp_X if not word in stopwords]# 불용어(Stopwords) 제거\n",
    "    X_test.append(temp_X)"
   ]
  },
  {
   "cell_type": "markdown",
   "metadata": {},
   "source": [
    "# 훈련 데이터에 대해서 단어 집합(vocaburary)\n"
   ]
  },
  {
   "cell_type": "code",
   "execution_count": 41,
   "metadata": {},
   "outputs": [],
   "source": [
    "tokenizer = Tokenizer()\n",
    "tokenizer.fit_on_texts(X_train)"
   ]
  },
  {
   "cell_type": "markdown",
   "metadata": {},
   "source": [
    "### 단어 집합이 생성되는 동시에 각 단어에 고유한 정수가 부여되었습니다. "
   ]
  },
  {
   "cell_type": "code",
   "execution_count": 42,
   "metadata": {
    "scrolled": false
   },
   "outputs": [],
   "source": [
    "#print(tokenizer.word_index) 단어가 49946개가 존재\n",
    "total_cnt = len(tokenizer.word_index) # 단어의 수"
   ]
  },
  {
   "cell_type": "markdown",
   "metadata": {},
   "source": [
    "#### 각 정수들은 등장 빈도수가 높은 순서대로 분여됨. 그래서 우리는 빈도가 낮은 단어들을 자연어 처리에서 배재하겠다.\n",
    "#### 밑 코드를 활용하여 등장 빈도수가 3회 미만인 단어들이 이 데이터의 비중을 확인해 보겠다."
   ]
  },
  {
   "cell_type": "code",
   "execution_count": 43,
   "metadata": {
    "scrolled": false
   },
   "outputs": [
    {
     "name": "stdout",
     "output_type": "stream",
     "text": [
      "단어 집합(vocabulary)의 크기 : 49946\n",
      "등장 빈도가 2번 이하인 희귀 단어의 수: 28320\n",
      "단어 집합에서 희귀 단어의 비율: 56.70123733632323\n",
      "전체 등장 빈도에서 희귀 단어 등장 빈도 비율: 1.7606762208782198\n"
     ]
    }
   ],
   "source": [
    "threshold = 3 # 빈도가 threshold 값인 3회 미만 판별을 위한 변수\n",
    "total_cnt = len(tokenizer.word_index) # 단어의 수\n",
    "rare_cnt = 0 # 등장 빈도수가 threshold보다 작은 단어의 개수를 카운트\n",
    "total_freq = 0 # 훈련 데이터의 전체 단어 빈도수 총 합\n",
    "rare_freq = 0 # 등장 빈도수가 threshold보다 작은 단어의 등장 빈도수의 총 합\n",
    "\n",
    "# 단어와 빈도수의 쌍(pair)을 key와 value로 받는다.\n",
    "for key, value in tokenizer.word_counts.items():\n",
    "    total_freq = total_freq + value\n",
    "\n",
    "    # 단어의 등장 빈도수가 threshold보다 작으면\n",
    "    if(value < threshold):\n",
    "        rare_cnt = rare_cnt + 1\n",
    "        rare_freq = rare_freq + value\n",
    "\n",
    "print('단어 집합(vocabulary)의 크기 :',total_cnt)\n",
    "print('등장 빈도가 %s번 이하인 희귀 단어의 수: %s'%(threshold - 1, rare_cnt))\n",
    "print(\"단어 집합에서 희귀 단어의 비율:\", (rare_cnt / total_cnt)*100)\n",
    "print(\"전체 등장 빈도에서 희귀 단어 등장 빈도 비율:\", (rare_freq / total_freq)*100)"
   ]
  },
  {
   "cell_type": "markdown",
   "metadata": {},
   "source": [
    "#### 등장빈도가 2번 이하인 단어수는 28320개로 절반이상수를 가지고 있다.\n",
    "#### 하지만 전제 등장 빈도는 1.87%밖에 되지 않는다.즉 2회 이하의 단어들은 자연어 처리에 중요하지 않다는 의미이다. 이 2회 이하인 단어들은 제거하겠다.\n"
   ]
  },
  {
   "cell_type": "code",
   "execution_count": 44,
   "metadata": {},
   "outputs": [
    {
     "name": "stdout",
     "output_type": "stream",
     "text": [
      "단어 집합의 크기 : 21628\n"
     ]
    }
   ],
   "source": [
    "# 전체 단어 개수 중 빈도수 2이하인 단어 개수는 제거.\n",
    "# 0번 패딩 토큰과 1번 OOV 토큰을 고려하여 +2\n",
    "vocab_size = total_cnt - rare_cnt + 2\n",
    "print('단어 집합의 크기 :',vocab_size)"
   ]
  },
  {
   "cell_type": "markdown",
   "metadata": {},
   "source": [
    "#### 49946 - 28320 로써 21628값만 남게 된다."
   ]
  },
  {
   "cell_type": "markdown",
   "metadata": {},
   "source": [
    "### 케라스 토크나이저는 텍스트 시퀀스를 숫자 시퀀스로 변환합니다.https://wikidocs.net/44249\n",
    "```\n",
    "tokenizer = Tokenizer(vocab_size, oov_token = 'OOV') \n",
    "tokenizer.fit_on_texts(X_train)\n",
    "X_train = tokenizer.texts_to_sequences(X_train)\n",
    "X_test = tokenizer.texts_to_sequences(X_test)\n",
    "```\n",
    "### 허나 노드에서는 다른 방식을 사용함으로 노드 방식 따르겠다.\n",
    "예시답안이 없는줄 알고 일일히 찾다가 있다는걸 알았다. 지금부터 노드에서 제공하는 코드를 활용하자.\n"
   ]
  },
  {
   "cell_type": "markdown",
   "metadata": {},
   "source": [
    "\n",
    "# 노드 제공 코드 사용하기\n"
   ]
  },
  {
   "cell_type": "code",
   "execution_count": 192,
   "metadata": {},
   "outputs": [],
   "source": [
    "import pandas as pd\n",
    "import urllib.request\n",
    "%matplotlib inline\n",
    "import matplotlib.pyplot as plt\n",
    "import re\n",
    "from konlpy.tag import Okt\n",
    "from tensorflow import keras\n",
    "from tensorflow.keras.preprocessing.text import Tokenizer\n",
    "import numpy as np\n",
    "from tensorflow.keras.preprocessing.sequence import pad_sequences\n",
    "from collections import Counter\n",
    "\n",
    "# 데이터를 읽어봅시다. \n",
    "train_data = pd.read_table('~/aiffel/sentiment_classification/ratings_train.txt')\n",
    "test_data = pd.read_table('~/aiffel/sentiment_classification/ratings_test.txt')\n"
   ]
  },
  {
   "cell_type": "markdown",
   "metadata": {},
   "source": [
    "# 2) 데이터로더 구성"
   ]
  },
  {
   "cell_type": "code",
   "execution_count": 193,
   "metadata": {},
   "outputs": [],
   "source": [
    "from konlpy.tag import Mecab\n",
    "tokenizer = Mecab()\n",
    "stopwords = ['의','가','이','은','들','는','좀','잘','걍','과','도','를','으로','자','에','와','한','하다']\n",
    "# 데이터의 중복 제거   \n",
    "# NaN 결측치 제거   \n",
    "# 한국어 토크나이저로 토큰화   \n",
    "# 불용어(Stopwords) 제거   \n",
    "# 사전word_to_index 구성   \n",
    "# 텍스트 스트링을 사전 인덱스 스트링으로 변환   \n",
    "# X_train, y_train, X_test, y_test, word_to_index 리턴  \n",
    "\n",
    "def load_data(train_data, test_data, num_words=10000):\n",
    "    train_data.drop_duplicates(subset=['document'], inplace=True)\n",
    "    train_data = train_data.dropna(how = 'any') \n",
    "    test_data.drop_duplicates(subset=['document'], inplace=True)\n",
    "    test_data = test_data.dropna(how = 'any') \n",
    "\n",
    "    X_train = []\n",
    "    for sentence in train_data['document']:\n",
    "        temp_X = tokenizer.morphs(sentence) # 토큰화\n",
    "        temp_X = [word for word in temp_X if not word in stopwords] # 불용어 제거\n",
    "        X_train.append(temp_X)\n",
    "\n",
    "    X_test = []\n",
    "    for sentence in test_data['document']:\n",
    "        temp_X = tokenizer.morphs(sentence) # 토큰화\n",
    "        temp_X = [word for word in temp_X if not word in stopwords] # 불용어 제거\n",
    "        X_test.append(temp_X)\n",
    "\n",
    "    words = np.concatenate(X_train).tolist()\n",
    "    counter = Counter(words)\n",
    "    counter = counter.most_common(10000-4)\n",
    "    vocab = ['<PAD>', '<BOS>', '<UNK>', '<UNUSED>'] + [key for key, _ in counter]\n",
    "    word_to_index = {word:index for index, word in enumerate(vocab)}\n",
    "\n",
    "    def wordlist_to_indexlist(wordlist):\n",
    "        return [word_to_index[word] if word in word_to_index else word_to_index['<UNK>'] for word in wordlist]\n",
    "\n",
    "    X_train = list(map(wordlist_to_indexlist, X_train))\n",
    "    X_test = list(map(wordlist_to_indexlist, X_test))\n",
    "    ## X_train, y_train, X_test, y_test, word_to_index 리턴    \n",
    "    return X_train, np.array(list(train_data['label'])), X_test, np.array(list(test_data['label'])), word_to_index\n",
    "\n",
    "X_train, y_train, X_test, y_test, word_to_index = load_data(train_data, test_data)"
   ]
  },
  {
   "cell_type": "code",
   "execution_count": 194,
   "metadata": {},
   "outputs": [],
   "source": [
    "# index to text 사전\n",
    "index_to_word = {index:word for word, index in word_to_index.items()}"
   ]
  },
  {
   "cell_type": "code",
   "execution_count": 195,
   "metadata": {},
   "outputs": [],
   "source": [
    "# 문장 1개를 활용할 딕셔너리와 함께 주면, 단어 인덱스 리스트 벡터로 변환해 주는 함수입니다. \n",
    "# 단, 모든 문장은 <BOS>로 시작하는 것으로 합니다. \n",
    "def get_encoded_sentence(sentence, word_to_index):\n",
    "    return [word_to_index['<BOS>']]+[word_to_index[word] if word in word_to_index else word_to_index['<UNK>'] for word in sentence.split()]\n",
    "\n",
    "# 여러 개의 문장 리스트를 한꺼번에 단어 인덱스 리스트 벡터로 encode해 주는 함수입니다. \n",
    "def get_encoded_sentences(sentences, word_to_index):\n",
    "    return [get_encoded_sentence(sentence, word_to_index) for sentence in sentences]\n",
    "\n",
    "# 숫자 벡터로 encode된 문장을 원래대로 decode하는 함수입니다. \n",
    "def get_decoded_sentence(encoded_sentence, index_to_word):\n",
    "    return ' '.join(index_to_word[index] if index in index_to_word else '<UNK>' for index in encoded_sentence[1:])  #[1:]를 통해 <BOS>를 제외\n",
    "\n",
    "# 여러개의 숫자 벡터로 encode된 문장을 한꺼번에 원래대로 decode하는 함수입니다. \n",
    "def get_decoded_sentences(encoded_sentences, index_to_word):\n",
    "    return [get_decoded_sentence(encoded_sentence, index_to_word) for encoded_sentence in encoded_sentences]"
   ]
  },
  {
   "cell_type": "markdown",
   "metadata": {},
   "source": [
    "# 3) 모델구성을 위한 데이터 분석 및 가공\n",
    "- 데이터셋 내 문장 길이 분포\n",
    "- 적절한 최대 문장 길이 지정"
   ]
  },
  {
   "cell_type": "markdown",
   "metadata": {},
   "source": [
    "### pad_sequences를 통해 데이터셋의 문장 길이 통일\n",
    "### 문장 최대 길이 maxlen의 값 설정도 전체 모델 성능에 영향 미친다. "
   ]
  },
  {
   "cell_type": "code",
   "execution_count": 196,
   "metadata": {},
   "outputs": [
    {
     "name": "stdout",
     "output_type": "stream",
     "text": [
      "문장길이 평균 :  15.96938143432699\n",
      "문장길이 최대 :  116\n",
      "문장길이 표준편차 :  12.843571939469296\n",
      "pad_sequences maxlen :  41\n",
      "전체 문장의 0.9342988343341575%가 maxlen 설정값 이내에 포함됩니다. \n"
     ]
    }
   ],
   "source": [
    "total_data_text = list(X_train) + list(X_test)\n",
    "# 텍스트데이터 문장길이의 리스트를 생성한 후\n",
    "num_tokens = [len(tokens) for tokens in total_data_text]\n",
    "num_tokens = np.array(num_tokens)\n",
    "# 문장길이의 평균값, 최대값, 표준편차를 계산해 본다. \n",
    "print('문장길이 평균 : ', np.mean(num_tokens))\n",
    "print('문장길이 최대 : ', np.max(num_tokens))\n",
    "print('문장길이 표준편차 : ', np.std(num_tokens))\n",
    "\n",
    "# 예를들어, 최대 길이를 (평균 + 2*표준편차)로 한다면,  \n",
    "max_tokens = np.mean(num_tokens) + 2 * np.std(num_tokens)\n",
    "maxlen = int(max_tokens)\n",
    "print('pad_sequences maxlen : ', maxlen)\n",
    "print('전체 문장의 {}%가 maxlen 설정값 이내에 포함됩니다. '.format(np.sum(num_tokens < max_tokens) / len(num_tokens)))"
   ]
  },
  {
   "cell_type": "code",
   "execution_count": 197,
   "metadata": {},
   "outputs": [
    {
     "name": "stdout",
     "output_type": "stream",
     "text": [
      "(146182, 41)\n"
     ]
    }
   ],
   "source": [
    "#RNN은 입력데이터가 순차적으로 처리되기 때문에 뒤부분 입력이 패딩값(padding)으로 채워지면 비효율적이다.\n",
    "X_train = keras.preprocessing.sequence.pad_sequences(X_train,\n",
    "                                                     value=word_to_index[\"<PAD>\"],\n",
    "                                                     padding='pre',# 혹은'post'\n",
    "                                                     maxlen=maxlen)\n",
    "\n",
    "X_test = keras.preprocessing.sequence.pad_sequences(X_test,\n",
    "                                                    value=word_to_index[\"<PAD>\"],\n",
    "                                                    padding='pre', # 혹은 'post'\n",
    "                                                    maxlen=maxlen)\n",
    "print(X_train.shape)"
   ]
  },
  {
   "cell_type": "markdown",
   "metadata": {},
   "source": [
    "### RNN은 입력데이터가 순차적으로 처리되기 때문에 뒤부분 입력이 패딩값(padding)으로 채워지면 비효율적이다. "
   ]
  },
  {
   "cell_type": "markdown",
   "metadata": {},
   "source": [
    "# 4) 모델구성 및 validation set 구성\n",
    " - 모델은 3가지 이상 다양하게 구성하여 실험해 보세요."
   ]
  },
  {
   "cell_type": "code",
   "execution_count": 15,
   "metadata": {},
   "outputs": [
    {
     "name": "stdout",
     "output_type": "stream",
     "text": [
      "Model: \"sequential_3\"\n",
      "_________________________________________________________________\n",
      "Layer (type)                 Output Shape              Param #   \n",
      "=================================================================\n",
      "embedding_3 (Embedding)      (None, None, 16)          160000    \n",
      "_________________________________________________________________\n",
      "spatial_dropout1d_1 (Spatial (None, None, 16)          0         \n",
      "_________________________________________________________________\n",
      "lstm_1 (LSTM)                (None, 16)                2112      \n",
      "_________________________________________________________________\n",
      "dense_6 (Dense)              (None, 8)                 136       \n",
      "_________________________________________________________________\n",
      "dense_7 (Dense)              (None, 1)                 9         \n",
      "=================================================================\n",
      "Total params: 162,257\n",
      "Trainable params: 162,257\n",
      "Non-trainable params: 0\n",
      "_________________________________________________________________\n",
      "Model: \"sequential_4\"\n",
      "_________________________________________________________________\n",
      "Layer (type)                 Output Shape              Param #   \n",
      "=================================================================\n",
      "embedding_4 (Embedding)      (None, None, 16)          160000    \n",
      "_________________________________________________________________\n",
      "conv1d_2 (Conv1D)            (None, None, 16)          1808      \n",
      "_________________________________________________________________\n",
      "max_pooling1d_1 (MaxPooling1 (None, None, 16)          0         \n",
      "_________________________________________________________________\n",
      "conv1d_3 (Conv1D)            (None, None, 16)          1808      \n",
      "_________________________________________________________________\n",
      "global_max_pooling1d_2 (Glob (None, 16)                0         \n",
      "_________________________________________________________________\n",
      "dense_8 (Dense)              (None, 8)                 136       \n",
      "_________________________________________________________________\n",
      "dense_9 (Dense)              (None, 1)                 9         \n",
      "=================================================================\n",
      "Total params: 163,761\n",
      "Trainable params: 163,761\n",
      "Non-trainable params: 0\n",
      "_________________________________________________________________\n",
      "Model: \"sequential_5\"\n",
      "_________________________________________________________________\n",
      "Layer (type)                 Output Shape              Param #   \n",
      "=================================================================\n",
      "embedding_5 (Embedding)      (None, None, 16)          160000    \n",
      "_________________________________________________________________\n",
      "global_max_pooling1d_3 (Glob (None, 16)                0         \n",
      "_________________________________________________________________\n",
      "dense_10 (Dense)             (None, 8)                 136       \n",
      "_________________________________________________________________\n",
      "dense_11 (Dense)             (None, 1)                 9         \n",
      "=================================================================\n",
      "Total params: 160,145\n",
      "Trainable params: 160,145\n",
      "Non-trainable params: 0\n",
      "_________________________________________________________________\n"
     ]
    }
   ],
   "source": [
    "# model 설계\n",
    "\n",
    "vocab_size = 10000    # 어휘 사전의 크기입니다(10,000개의 단어)\n",
    "word_vector_dim = 16  # 워드 벡터의 차원수 (변경가능한 하이퍼파라미터)\n",
    "\n",
    "\n",
    "#LSTM\n",
    "model_LSTM = keras.Sequential()\n",
    "model_LSTM.add(keras.layers.Embedding(vocab_size, word_vector_dim, input_shape=(None,)))\n",
    "model_LSTM.add(keras.layers.SpatialDropout1D(0.4))\n",
    "model_LSTM.add(keras.layers.LSTM(word_vector_dim, dropout=0.2, recurrent_dropout=0.2))   # 가장 널리 쓰이는 RNN인 LSTM 레이어를 사용하였습니다.\n",
    "model_LSTM.add(keras.layers.Dense(8, activation='relu'))\n",
    "model_LSTM.add(keras.layers.Dense(1, activation='sigmoid'))  # 최종 출력은 긍정/부정을 나타내는 1dim 입니다.\n",
    "\n",
    "\n",
    "#Conv1D\n",
    "model_CNN = keras.Sequential()\n",
    "model_CNN.add(keras.layers.Embedding(vocab_size, word_vector_dim, input_shape=(None,)))\n",
    "model_CNN.add(keras.layers.Conv1D(16, 7, activation='relu'))\n",
    "model_CNN.add(keras.layers.MaxPooling1D(5))\n",
    "model_CNN.add(keras.layers.Conv1D(16, 7, activation='relu'))\n",
    "model_CNN.add(keras.layers.GlobalMaxPooling1D())\n",
    "model_CNN.add(keras.layers.Dense(8, activation='relu'))\n",
    "model_CNN.add(keras.layers.Dense(1, activation='sigmoid'))  # 최종 출력은 긍정/부정을 나타내는 1dim 입니다.\n",
    "\n",
    "\n",
    "#GlobalMaxPooling1D() 레이어 하나만 사용하는 방법\n",
    "#전체 문장 중에서 단 하나의 가장 중요한 단어만 피처로 추출하여 그것으로 문장의 긍정/부정을 평가하는 방식\n",
    "model_GlobMP = keras.Sequential()\n",
    "model_GlobMP.add(keras.layers.Embedding(vocab_size, word_vector_dim, input_shape=(None,)))\n",
    "model_GlobMP.add(keras.layers.GlobalMaxPooling1D())\n",
    "#model_GlobMP.add(keras.layers.Dropout(0.3))\n",
    "model_GlobMP.add(keras.layers.Dense(8, activation='relu'))\n",
    "#model_GlobMP.add(keras.layers.Dropout(0.3))\n",
    "model_GlobMP.add(keras.layers.Dense(1, activation='sigmoid'))  # 최종 출력은 긍정/부정을 나타내는 1dim 입니다.\n",
    "\n",
    "model_LSTM.summary()\n",
    "model_CNN.summary()\n",
    "model_GlobMP.summary()\n",
    "\n",
    "\n"
   ]
  },
  {
   "cell_type": "code",
   "execution_count": 16,
   "metadata": {},
   "outputs": [
    {
     "name": "stdout",
     "output_type": "stream",
     "text": [
      "(146182, 41)\n",
      "(146182,)\n",
      "(136182, 41)\n",
      "(136182,)\n"
     ]
    }
   ],
   "source": [
    "# validation set 10000건 분리\n",
    "X_val = X_train[:10000]   \n",
    "y_val = y_train[:10000]\n",
    "\n",
    "# validation set을 제외한 나머지 15000건\n",
    "partial_X_train = X_train[10000:]  \n",
    "partial_y_train = y_train[10000:]\n",
    "\n",
    "print(X_train.shape)\n",
    "print(y_train.shape)\n",
    "print(partial_X_train.shape)\n",
    "print(partial_y_train.shape)"
   ]
  },
  {
   "cell_type": "markdown",
   "metadata": {},
   "source": [
    "# 5) 모델 훈련 개시"
   ]
  },
  {
   "cell_type": "code",
   "execution_count": 17,
   "metadata": {
    "scrolled": true
   },
   "outputs": [
    {
     "name": "stdout",
     "output_type": "stream",
     "text": [
      "Epoch 1/10\n",
      "266/266 [==============================] - 7s 21ms/step - loss: 0.6036 - accuracy: 0.6527 - val_loss: 0.3639 - val_accuracy: 0.8474\n",
      "Epoch 2/10\n",
      "266/266 [==============================] - 5s 20ms/step - loss: 0.3649 - accuracy: 0.8455 - val_loss: 0.3416 - val_accuracy: 0.8517\n",
      "Epoch 3/10\n",
      "266/266 [==============================] - 5s 19ms/step - loss: 0.3406 - accuracy: 0.8572 - val_loss: 0.3397 - val_accuracy: 0.8541\n",
      "Epoch 4/10\n",
      "266/266 [==============================] - 5s 20ms/step - loss: 0.3251 - accuracy: 0.8648 - val_loss: 0.3352 - val_accuracy: 0.8546\n",
      "Epoch 5/10\n",
      "266/266 [==============================] - 5s 20ms/step - loss: 0.3171 - accuracy: 0.8685 - val_loss: 0.3359 - val_accuracy: 0.8542\n",
      "Epoch 6/10\n",
      "266/266 [==============================] - 5s 20ms/step - loss: 0.3137 - accuracy: 0.8699 - val_loss: 0.3346 - val_accuracy: 0.8563\n",
      "Epoch 7/10\n",
      "266/266 [==============================] - 5s 20ms/step - loss: 0.3054 - accuracy: 0.8719 - val_loss: 0.3362 - val_accuracy: 0.8550\n",
      "Epoch 8/10\n",
      "266/266 [==============================] - 5s 20ms/step - loss: 0.2980 - accuracy: 0.8748 - val_loss: 0.3365 - val_accuracy: 0.8567\n",
      "Epoch 9/10\n",
      "266/266 [==============================] - 5s 20ms/step - loss: 0.2952 - accuracy: 0.8772 - val_loss: 0.3414 - val_accuracy: 0.8556\n",
      "Epoch 10/10\n",
      "266/266 [==============================] - 5s 20ms/step - loss: 0.2932 - accuracy: 0.8784 - val_loss: 0.3392 - val_accuracy: 0.8573\n",
      "1537/1537 - 5s - loss: 0.3519 - accuracy: 0.8503\n",
      "[0.3518781065940857, 0.8502756357192993]\n"
     ]
    }
   ],
   "source": [
    "model_LSTM.compile(optimizer='adam',\n",
    "              loss='binary_crossentropy',\n",
    "              metrics=['accuracy'])\n",
    "              \n",
    "epochs=10  # 몇 epoch를 훈련하면 좋을지 결과를 보면서 바꾸어 봅시다. \n",
    "\n",
    "history_model_LSTM = model_LSTM.fit(partial_X_train,\n",
    "                    partial_y_train,\n",
    "                    epochs=epochs,\n",
    "                    batch_size=512,\n",
    "                    validation_data=(X_val, y_val),\n",
    "                    verbose=1)\n",
    "\n",
    "results = model_LSTM.evaluate(X_test,  y_test, verbose=2)\n",
    "print(results)"
   ]
  },
  {
   "cell_type": "code",
   "execution_count": 18,
   "metadata": {},
   "outputs": [
    {
     "name": "stdout",
     "output_type": "stream",
     "text": [
      "Epoch 1/10\n",
      "266/266 [==============================] - 2s 5ms/step - loss: 0.5666 - accuracy: 0.6999 - val_loss: 0.3422 - val_accuracy: 0.8513\n",
      "Epoch 2/10\n",
      "266/266 [==============================] - 1s 5ms/step - loss: 0.3177 - accuracy: 0.8661 - val_loss: 0.3332 - val_accuracy: 0.8557\n",
      "Epoch 3/10\n",
      "266/266 [==============================] - 1s 5ms/step - loss: 0.2766 - accuracy: 0.8867 - val_loss: 0.3353 - val_accuracy: 0.8581\n",
      "Epoch 4/10\n",
      "266/266 [==============================] - 1s 5ms/step - loss: 0.2493 - accuracy: 0.9010 - val_loss: 0.3497 - val_accuracy: 0.8520\n",
      "Epoch 5/10\n",
      "266/266 [==============================] - 1s 5ms/step - loss: 0.2135 - accuracy: 0.9203 - val_loss: 0.3665 - val_accuracy: 0.8536\n",
      "Epoch 6/10\n",
      "266/266 [==============================] - 1s 5ms/step - loss: 0.1790 - accuracy: 0.9366 - val_loss: 0.3922 - val_accuracy: 0.8456\n",
      "Epoch 7/10\n",
      "266/266 [==============================] - 1s 5ms/step - loss: 0.1482 - accuracy: 0.9502 - val_loss: 0.4316 - val_accuracy: 0.8407\n",
      "Epoch 8/10\n",
      "266/266 [==============================] - 1s 5ms/step - loss: 0.1212 - accuracy: 0.9609 - val_loss: 0.4662 - val_accuracy: 0.8347\n",
      "Epoch 9/10\n",
      "266/266 [==============================] - 1s 5ms/step - loss: 0.1035 - accuracy: 0.9685 - val_loss: 0.5142 - val_accuracy: 0.8334\n",
      "Epoch 10/10\n",
      "266/266 [==============================] - 1s 5ms/step - loss: 0.0868 - accuracy: 0.9740 - val_loss: 0.5638 - val_accuracy: 0.8316\n",
      "1537/1537 - 0s - loss: 0.5680 - accuracy: 0.8317\n",
      "[0.567984402179718, 0.8317228555679321]\n"
     ]
    }
   ],
   "source": [
    "model_CNN.compile(optimizer='adam',\n",
    "              loss='binary_crossentropy',\n",
    "              metrics=['accuracy'])\n",
    "              \n",
    "epochs=10  # 몇 epoch를 훈련하면 좋을지 결과를 보면서 바꾸어 봅시다. \n",
    "\n",
    "history_model_CNN= model_CNN.fit(partial_X_train,\n",
    "                    partial_y_train,\n",
    "                    epochs=epochs,\n",
    "                    batch_size=512,\n",
    "                    validation_data=(X_val, y_val),\n",
    "                    verbose=1)\n",
    "                           \n",
    "# 테스트셋을 통한 모델 평가\n",
    "results = model_CNN.evaluate(X_test,  y_test, verbose=2)\n",
    "print(results)\n"
   ]
  },
  {
   "cell_type": "code",
   "execution_count": 19,
   "metadata": {
    "scrolled": false
   },
   "outputs": [
    {
     "name": "stdout",
     "output_type": "stream",
     "text": [
      "Epoch 1/10\n",
      "266/266 [==============================] - 1s 2ms/step - loss: 0.6560 - accuracy: 0.6938 - val_loss: 0.4244 - val_accuracy: 0.8198\n",
      "Epoch 2/10\n",
      "266/266 [==============================] - 0s 2ms/step - loss: 0.3905 - accuracy: 0.8363 - val_loss: 0.3541 - val_accuracy: 0.8402\n",
      "Epoch 3/10\n",
      "266/266 [==============================] - 0s 2ms/step - loss: 0.3254 - accuracy: 0.8631 - val_loss: 0.3432 - val_accuracy: 0.8455\n",
      "Epoch 4/10\n",
      "266/266 [==============================] - 0s 2ms/step - loss: 0.2958 - accuracy: 0.8766 - val_loss: 0.3434 - val_accuracy: 0.8492\n",
      "Epoch 5/10\n",
      "266/266 [==============================] - 0s 2ms/step - loss: 0.2793 - accuracy: 0.8854 - val_loss: 0.3476 - val_accuracy: 0.8492\n",
      "Epoch 6/10\n",
      "266/266 [==============================] - 0s 2ms/step - loss: 0.2599 - accuracy: 0.8947 - val_loss: 0.3562 - val_accuracy: 0.8483\n",
      "Epoch 7/10\n",
      "266/266 [==============================] - 0s 2ms/step - loss: 0.2467 - accuracy: 0.9019 - val_loss: 0.3644 - val_accuracy: 0.8473\n",
      "Epoch 8/10\n",
      "266/266 [==============================] - 1s 2ms/step - loss: 0.2324 - accuracy: 0.9081 - val_loss: 0.3731 - val_accuracy: 0.8436\n",
      "Epoch 9/10\n",
      "266/266 [==============================] - 0s 2ms/step - loss: 0.2211 - accuracy: 0.9142 - val_loss: 0.3826 - val_accuracy: 0.8437\n",
      "Epoch 10/10\n",
      "266/266 [==============================] - 0s 2ms/step - loss: 0.2134 - accuracy: 0.9185 - val_loss: 0.3935 - val_accuracy: 0.8432\n",
      "1537/1537 - 0s - loss: 0.4056 - accuracy: 0.8389\n",
      "1537/1537 - 0s - loss: 0.4056 - accuracy: 0.8389\n",
      "[0.40558937191963196, 0.8389039039611816]\n"
     ]
    }
   ],
   "source": [
    "model_GlobMP.compile(optimizer='adam',\n",
    "              loss='binary_crossentropy',\n",
    "              metrics=['accuracy'])\n",
    "              \n",
    "epochs=10  # 몇 epoch를 훈련하면 좋을지 결과를 보면서 바꾸어 봅시다. \n",
    "\n",
    "history_model_GlobMP= model_GlobMP.fit(partial_X_train,\n",
    "                    partial_y_train,\n",
    "                    epochs=epochs,\n",
    "                    batch_size=512,\n",
    "                    validation_data=(X_val, y_val),\n",
    "                    verbose=1)\n",
    "\n",
    "               \n",
    "# 테스트셋을 통한 모델 평가\n",
    "results = model_GlobMP.evaluate(X_test,  y_test, verbose=2)\n",
    "print(results)"
   ]
  },
  {
   "cell_type": "markdown",
   "metadata": {},
   "source": [
    "### 실행속도가 global_max_pooling > CNN > LSTM 으로 빠르다."
   ]
  },
  {
   "cell_type": "markdown",
   "metadata": {},
   "source": [
    "# 6) Loss, Accuracy 그래프 시각화"
   ]
  },
  {
   "cell_type": "markdown",
   "metadata": {},
   "source": [
    "### 3개의 모델에 대한 history 가져오기"
   ]
  },
  {
   "cell_type": "code",
   "execution_count": 245,
   "metadata": {
    "scrolled": true
   },
   "outputs": [
    {
     "name": "stdout",
     "output_type": "stream",
     "text": [
      "dict_keys(['loss', 'accuracy', 'val_loss', 'val_accuracy'])\n"
     ]
    }
   ],
   "source": [
    "#history_model_CNN\n",
    "#history_model_LSTM\n",
    "#history_model_GlobMP\n",
    "history_dict_CNN = history_model_CNN.history\n",
    "history_dict_LSTM = history_model_LSTM.history\n",
    "history_dict_GlobMP = history_model_GlobMP.history\n",
    "print(history_dict_GlobMP.keys()) # epoch에 따른 그래프를 그려볼 수 있는 항목들"
   ]
  },
  {
   "cell_type": "markdown",
   "metadata": {},
   "source": [
    "history에 4개의 값이 존재한다."
   ]
  },
  {
   "cell_type": "code",
   "execution_count": 246,
   "metadata": {},
   "outputs": [
    {
     "data": {
      "image/png": "[encoded data removed]",
      "text/plain": [
       "<Figure size 432x288 with 1 Axes>"
      ]
     },
     "metadata": {
      "needs_background": "light"
     },
     "output_type": "display_data"
    },
    {
     "data": {
      "image/png": "[encoded data removed]",
      "text/plain": [
       "<Figure size 432x288 with 1 Axes>"
      ]
     },
     "metadata": {
      "needs_background": "light"
     },
     "output_type": "display_data"
    }
   ],
   "source": [
    "import matplotlib.pyplot as plt\n",
    "\n",
    "acc = history_dict_LSTM['accuracy']\n",
    "val_acc = history_dict_LSTM['val_accuracy']\n",
    "loss = history_dict_LSTM['loss']\n",
    "val_loss = history_dict_LSTM['val_loss']\n",
    "\n",
    "epochs = range(1, len(acc) + 1)\n",
    "\n",
    "#fig, ax = plt.subplots(1, 2, sharex=True) \n",
    "# fig란 figure로써 - 전체 subplot을 말한다. \n",
    "# ex) 서브플로안에 몇개의 그래프가 있던지 상관없이  그걸 담는 하나.전체 사이즈를 말한다.\n",
    "# ax는 axe로써 - 전체 중 낱낱개를 말한다 \n",
    "# ex) 서브플롯 안에 2개(a1,a2)의 그래프가 있다면 a1, a2 를 일컬음\n",
    "\n",
    "\n",
    "\n",
    "\n",
    "# \"bo\"는 \"파란색 점\"입니다\n",
    "plt.plot(epochs, loss, 'bo', label='Training loss')\n",
    "# b는 \"파란 실선\"입니다\n",
    "plt.plot(epochs, val_loss, 'b', label='Validation loss')\n",
    "plt.title('LSTM Training and validation loss')\n",
    "plt.xlabel('Epochs')\n",
    "plt.ylabel('Loss')\n",
    "plt.legend()\n",
    "\n",
    "plt.show()\n",
    "\n",
    "plt.clf()   # 그림을 초기화합니다\n",
    "\n",
    "plt.plot(epochs, acc, 'bo', label='Training acc')\n",
    "plt.plot(epochs, val_acc, 'b', label='Validation acc')\n",
    "plt.title('LSTM Training and validation accuracy')\n",
    "plt.xlabel('Epochs')\n",
    "plt.ylabel('Accuracy')\n",
    "plt.legend()\n",
    "\n",
    "plt.show()"
   ]
  },
  {
   "cell_type": "code",
   "execution_count": 247,
   "metadata": {
    "scrolled": false
   },
   "outputs": [
    {
     "data": {
      "image/png": "[encoded data removed]",
      "text/plain": [
       "<Figure size 432x288 with 1 Axes>"
      ]
     },
     "metadata": {
      "needs_background": "light"
     },
     "output_type": "display_data"
    },
    {
     "data": {
      "image/png": "[encoded data removed]",
      "text/plain": [
       "<Figure size 432x288 with 1 Axes>"
      ]
     },
     "metadata": {
      "needs_background": "light"
     },
     "output_type": "display_data"
    }
   ],
   "source": [
    "import matplotlib.pyplot as plt\n",
    "\n",
    "acc = history_dict_CNN['accuracy']\n",
    "val_acc = history_dict_CNN['val_accuracy']\n",
    "loss = history_dict_CNN['loss']\n",
    "val_loss = history_dict_CNN['val_loss']\n",
    "\n",
    "epochs = range(1, len(acc) + 1)\n",
    "\n",
    "#fig, ax = plt.subplots(1, 2, sharex=True) \n",
    "# fig란 figure로써 - 전체 subplot을 말한다. \n",
    "# ex) 서브플로안에 몇개의 그래프가 있던지 상관없이  그걸 담는 하나.전체 사이즈를 말한다.\n",
    "# ax는 axe로써 - 전체 중 낱낱개를 말한다 \n",
    "# ex) 서브플롯 안에 2개(a1,a2)의 그래프가 있다면 a1, a2 를 일컬음\n",
    "\n",
    "\n",
    "# \"bo\"는 \"파란색 점\"입니다\n",
    "plt.plot(epochs, loss, 'bo', label='Training loss')\n",
    "# b는 \"파란 실선\"입니다\n",
    "plt.plot(epochs, val_loss, 'b', label='Validation loss')\n",
    "plt.title('CNN Training and validation loss')\n",
    "plt.xlabel('Epochs')\n",
    "plt.ylabel('Loss')\n",
    "plt.legend()\n",
    "\n",
    "plt.show()\n",
    "\n",
    "plt.clf()   # 그림을 초기화합니다\n",
    "\n",
    "plt.plot(epochs, acc, 'bo', label='Training acc')\n",
    "plt.plot(epochs, val_acc, 'b', label='Validation acc')\n",
    "plt.title('CNN Training and validation accuracy')\n",
    "plt.xlabel('Epochs')\n",
    "plt.ylabel('Accuracy')\n",
    "plt.legend()\n",
    "\n",
    "plt.show()"
   ]
  },
  {
   "cell_type": "code",
   "execution_count": 248,
   "metadata": {},
   "outputs": [
    {
     "data": {
      "image/png": "[encoded data removed]",
      "text/plain": [
       "<Figure size 432x288 with 1 Axes>"
      ]
     },
     "metadata": {
      "needs_background": "light"
     },
     "output_type": "display_data"
    },
    {
     "data": {
      "image/png": "[encoded data removed]",
      "text/plain": [
       "<Figure size 432x288 with 1 Axes>"
      ]
     },
     "metadata": {
      "needs_background": "light"
     },
     "output_type": "display_data"
    }
   ],
   "source": [
    "import matplotlib.pyplot as plt\n",
    "\n",
    "acc = history_dict_GlobMP['accuracy']\n",
    "val_acc = history_dict_GlobMP['val_accuracy']\n",
    "loss = history_dict_GlobMP['loss']\n",
    "val_loss = history_dict_GlobMP['val_loss']\n",
    "\n",
    "epochs = range(1, len(acc) + 1)\n",
    "\n",
    "#fig, ax = plt.subplots(1, 2, sharex=True) \n",
    "# fig란 figure로써 - 전체 subplot을 말한다. \n",
    "# ex) 서브플로안에 몇개의 그래프가 있던지 상관없이  그걸 담는 하나.전체 사이즈를 말한다.\n",
    "# ax는 axe로써 - 전체 중 낱낱개를 말한다 \n",
    "# ex) 서브플롯 안에 2개(a1,a2)의 그래프가 있다면 a1, a2 를 일컬음\n",
    "\n",
    "\n",
    "\n",
    "\n",
    "# \"bo\"는 \"파란색 점\"입니다\n",
    "plt.plot(epochs, loss, 'bo', label='Training loss')\n",
    "# b는 \"파란 실선\"입니다\n",
    "plt.plot(epochs, val_loss, 'b', label='Validation loss')\n",
    "plt.title('GlobMP Training and validation loss')\n",
    "plt.xlabel('Epochs')\n",
    "plt.ylabel('Loss')\n",
    "plt.legend()\n",
    "\n",
    "plt.show()\n",
    "\n",
    "plt.clf()   # 그림을 초기화합니다\n",
    "\n",
    "plt.plot(epochs, acc, 'bo', label='Training acc')\n",
    "plt.plot(epochs, val_acc, 'b', label='Validation acc')\n",
    "plt.title('GlobMP Training and validation accuracy')\n",
    "plt.xlabel('Epochs')\n",
    "plt.ylabel('Accuracy')\n",
    "plt.legend()\n",
    "\n",
    "plt.show()"
   ]
  },
  {
   "cell_type": "markdown",
   "metadata": {},
   "source": [
    "# 7) 학습된 Embedding 레이어 분석"
   ]
  },
  {
   "cell_type": "code",
   "execution_count": 100,
   "metadata": {},
   "outputs": [
    {
     "name": "stdout",
     "output_type": "stream",
     "text": [
      "(10000, 16)\n"
     ]
    }
   ],
   "source": [
    "#history_model_LSTM\n",
    "#history_model_CNN\n",
    "#history_model_GlobMP\n",
    "embedding_layer = model_LSTM.layers[0]\n",
    "weights = embedding_layer.get_weights()[0]\n",
    "print(weights.shape)    # shape: (vocab_size, embedding_dim)"
   ]
  },
  {
   "cell_type": "markdown",
   "metadata": {},
   "source": [
    "### LSTM학습된 임베딩 파라미터를 word2vec_project01.txt에 저장"
   ]
  },
  {
   "cell_type": "code",
   "execution_count": 101,
   "metadata": {},
   "outputs": [],
   "source": [
    "import os\n",
    "\n",
    "# 학습한 Embedding 파라미터를 파일에 써서 저장합니다.(word2vec_project파일명) \n",
    "word2vec_file_path01 = os.getenv('HOME')+'/aiffel/sentiment_classification/word2vec_project01.txt'\n",
    "f = open(word2vec_file_path, 'w')\n",
    "f.write('{} {}\\n'.format(vocab_size-4, word_vector_dim))  # 몇개의 벡터를 얼마 사이즈로 기재할지 타이틀을 씁니다.\n",
    "\n",
    "# 단어 개수(에서 특수문자 4개는 제외하고)만큼의 워드 벡터를 파일에 기록합니다. \n",
    "vectors01 = model_LSTM.get_weights()[0]\n",
    "for i in range(4,vocab_size):\n",
    "    f.write('{} {}\\n'.format(index_to_word[i], ' '.join(map(str, list(vectors01[i, :])))))\n",
    "f.close()"
   ]
  },
  {
   "cell_type": "markdown",
   "metadata": {},
   "source": [
    "### CNN학습된 임베딩 파라미터를 word2vec_project02.txt에 저장"
   ]
  },
  {
   "cell_type": "code",
   "execution_count": 102,
   "metadata": {},
   "outputs": [],
   "source": [
    "import os\n",
    "\n",
    "# 학습한 Embedding 파라미터를 파일에 써서 저장합니다.(word2vec_project파일명) \n",
    "word2vec_file_path02 = os.getenv('HOME')+'/aiffel/sentiment_classification/word2vec_project02.txt'\n",
    "f = open(word2vec_file_path, 'w')\n",
    "f.write('{} {}\\n'.format(vocab_size-4, word_vector_dim))  # 몇개의 벡터를 얼마 사이즈로 기재할지 타이틀을 씁니다.\n",
    "\n",
    "# 단어 개수(에서 특수문자 4개는 제외하고)만큼의 워드 벡터를 파일에 기록합니다. \n",
    "vectors02 = model_CNN.get_weights()[0]\n",
    "for i in range(4,vocab_size):\n",
    "    f.write('{} {}\\n'.format(index_to_word[i], ' '.join(map(str, list(vectors02[i, :])))))\n",
    "f.close()"
   ]
  },
  {
   "cell_type": "markdown",
   "metadata": {},
   "source": [
    "### global_max_pooling 학습된 임베딩 파라미터를 word2vec_project03.txt에 저장"
   ]
  },
  {
   "cell_type": "code",
   "execution_count": 109,
   "metadata": {},
   "outputs": [],
   "source": [
    "import os\n",
    "\n",
    "# 학습한 Embedding 파라미터를 파일에 써서 저장합니다.(word2vec_project파일명) \n",
    "word2vec_file_path03 = os.getenv('HOME')+'/aiffel/sentiment_classification/word2vec_project03.txt'\n",
    "f = open(word2vec_file_path03, 'w')\n",
    "f.write('{} {}\\n'.format(vocab_size-4, word_vector_dim))  # 몇개의 벡터를 얼마 사이즈로 기재할지 타이틀을 씁니다.\n",
    "\n",
    "# 단어 개수(에서 특수문자 4개는 제외하고)만큼의 워드 벡터를 파일에 기록합니다. \n",
    "vectors03 = model_GlobMP.get_weights()[0]\n",
    "for i in range(4,vocab_size):\n",
    "    f.write('{} {}\\n'.format(index_to_word[i], ' '.join(map(str, list(vectors03[i, :])))))\n",
    "f.close()"
   ]
  },
  {
   "cell_type": "code",
   "execution_count": 154,
   "metadata": {},
   "outputs": [
    {
     "data": {
      "text/plain": [
       "array([ 0.00927197, -0.01331215,  0.03787285, -0.02050133,  0.00080399,\n",
       "       -0.02366315,  0.02305913, -0.02599505, -0.11519729,  0.08263649,\n",
       "        0.00386505, -0.06740163, -0.00581918,  0.01631113, -0.01235886,\n",
       "       -0.07964398], dtype=float32)"
      ]
     },
     "execution_count": 154,
     "metadata": {},
     "output_type": "execute_result"
    }
   ],
   "source": [
    "from gensim.models.keyedvectors import Word2VecKeyedVectors\n",
    "\n",
    "word_vectors01 = Word2VecKeyedVectors.load_word2vec_format(word2vec_file_path01, binary=False)\n",
    "word_vectors02 = Word2VecKeyedVectors.load_word2vec_format(word2vec_file_path02, binary=False)\n",
    "word_vectors03 = Word2VecKeyedVectors.load_word2vec_format(word2vec_file_path03, binary=False)\n",
    "vector01 = word_vectors['한국']\n",
    "#vector02 = word_vectors['한국']\n",
    "#vector03 = word_vectors['한국']\n",
    "vector01"
   ]
  },
  {
   "cell_type": "code",
   "execution_count": 140,
   "metadata": {
    "scrolled": false
   },
   "outputs": [
    {
     "data": {
      "text/plain": [
       "[('출신', 0.8780099749565125),\n",
       " ('물건', 0.7775018215179443),\n",
       " ('시점', 0.7733387351036072),\n",
       " ('매기', 0.7505306005477905),\n",
       " ('아래', 0.7417392730712891),\n",
       " ('충격', 0.7189319729804993),\n",
       " ('더라구요', 0.7137588858604431),\n",
       " ('엉뚱', 0.7065948247909546),\n",
       " ('래쉬', 0.7047268748283386),\n",
       " ('변화', 0.7012467384338379)]"
      ]
     },
     "execution_count": 140,
     "metadata": {},
     "output_type": "execute_result"
    }
   ],
   "source": [
    "#LSTM학습된 임베딩\n",
    "word_vectors01.similar_by_word(\"코믹\") "
   ]
  },
  {
   "cell_type": "code",
   "execution_count": 141,
   "metadata": {
    "scrolled": true
   },
   "outputs": [
    {
     "data": {
      "text/plain": [
       "[('메릴', 0.7682936191558838),\n",
       " ('모자랄', 0.7383015751838684),\n",
       " ('톤', 0.7001820802688599),\n",
       " ('파트너', 0.6838228702545166),\n",
       " ('엣', 0.6765807271003723),\n",
       " ('망정', 0.6435702443122864),\n",
       " ('생명력', 0.6413926482200623),\n",
       " ('겠다', 0.6379323601722717),\n",
       " ('판타스틱', 0.636772871017456),\n",
       " ('유해진', 0.630786657333374)]"
      ]
     },
     "execution_count": 141,
     "metadata": {},
     "output_type": "execute_result"
    }
   ],
   "source": [
    "#global_max_pooling 학습된 임베딩\n",
    "word_vectors02.similar_by_word(\"코믹\")"
   ]
  },
  {
   "cell_type": "code",
   "execution_count": 142,
   "metadata": {
    "scrolled": true
   },
   "outputs": [
    {
     "data": {
      "text/plain": [
       "[('모르', 0.9108549356460571),\n",
       " ('어딘가', 0.8839098215103149),\n",
       " ('난', 0.8768688440322876),\n",
       " ('영화사', 0.8527958393096924),\n",
       " ('장혁', 0.8443808555603027),\n",
       " ('목표', 0.8421040773391724),\n",
       " ('일단', 0.8399693965911865),\n",
       " ('도전', 0.8382261991500854),\n",
       " ('떠오른다', 0.8342572450637817),\n",
       " ('거저', 0.8326843976974487)]"
      ]
     },
     "execution_count": 142,
     "metadata": {},
     "output_type": "execute_result"
    }
   ],
   "source": [
    "word_vectors03.similar_by_word(\"코믹\")"
   ]
  },
  {
   "cell_type": "markdown",
   "metadata": {},
   "source": [
    "LTSL, CNN, 단일global_max_pooling 의 모델의 학습의 결과로 위같이 '코믹'라는 단어와 유사도를 위같이 보여줍니다.    \n",
    "(워드벡터가 의미벡터 공간상에 유의미하게 학습되었는지 확인방법)   \n",
    "확인한 결과 유사도 좋지않은 결과가 나옵니다. 그래서 학습된 한국어 임베딩를 활용하는법을 밑에서 수행해보겠습니다."
   ]
  },
  {
   "cell_type": "markdown",
   "metadata": {},
   "source": [
    "# 8) 한국어 Word2Vec 임베딩 활용하여 성능개선\n",
    "- 한국어 Word2Vec은 다음 경로에서 구할 수 있습니다 https://github.com/Kyubyong/wordvectors\n",
    "- F파일과 W파일이 있었는데 W만 잘 돌아갔다.   \n",
    "- https://wikidocs.net/50739 참조\n",
    "-  Word2vec 모델은 자연어 처리에서 단어를 밀집 벡터로 만들어주는 단어 임베딩 방법론이지만 최근에 들어서는 자연어 처리를 넘어서 추천 시스템에도 사용되고 있는 모델입니다. 우선 적당하게 데이터를 나열해주면 Word2vec은 위치가 근접한 데이터를 유사도가 높은 벡터를 만들어준다는 점에서 착안된 아이디어입니다."
   ]
  },
  {
   "cell_type": "code",
   "execution_count": 181,
   "metadata": {
    "scrolled": false
   },
   "outputs": [],
   "source": [
    "# 미리 훈련된 임베딩 가져오기\n",
    "import gensim\n",
    "word2vec_file_path_ko = os.getenv('HOME')+'/aiffel/sentiment_classification/w/ko.bin'\n",
    "word_vectors_ko = gensim.models.Word2Vec.load(word2vec_file_path_ko)\n",
    "#vector_ko = word_vectors_ko['한국']\n",
    "#vector_ko\n"
   ]
  },
  {
   "cell_type": "code",
   "execution_count": 150,
   "metadata": {
    "scrolled": true
   },
   "outputs": [
    {
     "name": "stderr",
     "output_type": "stream",
     "text": [
      "/home/aiffel/anaconda3/lib/python3.7/site-packages/ipykernel_launcher.py:1: DeprecationWarning: Call to deprecated `similar_by_word` (Method will be removed in 4.0.0, use self.wv.similar_by_word() instead).\n",
      "  \"\"\"Entry point for launching an IPython kernel.\n"
     ]
    },
    {
     "data": {
      "text/plain": [
       "[('매거진', 0.710258960723877),\n",
       " ('코믹스', 0.6731104850769043),\n",
       " ('만화', 0.618959903717041),\n",
       " ('잡지', 0.617271900177002),\n",
       " ('미스터리', 0.6109945774078369),\n",
       " ('문고', 0.5955140590667725),\n",
       " ('마켓', 0.5947057008743286),\n",
       " ('단샤', 0.5901690721511841),\n",
       " ('동인지', 0.584815263748169),\n",
       " ('스페셜', 0.5843031406402588)]"
      ]
     },
     "execution_count": 150,
     "metadata": {},
     "output_type": "execute_result"
    }
   ],
   "source": [
    "word_vectors_ko.similar_by_word(\"코믹\") "
   ]
  },
  {
   "cell_type": "code",
   "execution_count": 158,
   "metadata": {
    "scrolled": true
   },
   "outputs": [
    {
     "name": "stderr",
     "output_type": "stream",
     "text": [
      "/home/aiffel/anaconda3/lib/python3.7/site-packages/ipykernel_launcher.py:1: DeprecationWarning: Call to deprecated `similar_by_word` (Method will be removed in 4.0.0, use self.wv.similar_by_word() instead).\n",
      "  \"\"\"Entry point for launching an IPython kernel.\n"
     ]
    },
    {
     "data": {
      "text/plain": [
       "[('슈팅', 0.8099634647369385),\n",
       " ('어드벤처', 0.7256604433059692),\n",
       " ('게임', 0.6752271056175232),\n",
       " ('아케이드', 0.6547571420669556),\n",
       " ('퍼즐', 0.6438050270080566),\n",
       " ('격투', 0.6437793970108032),\n",
       " ('퍼펙트', 0.618266761302948),\n",
       " ('오리지널', 0.6145720481872559),\n",
       " ('미소녀', 0.6113677024841309),\n",
       " ('판타지', 0.6075881719589233)]"
      ]
     },
     "execution_count": 158,
     "metadata": {},
     "output_type": "execute_result"
    }
   ],
   "source": [
    "word_vectors_ko.similar_by_word(\"액션\") "
   ]
  },
  {
   "cell_type": "code",
   "execution_count": 160,
   "metadata": {
    "scrolled": true
   },
   "outputs": [
    {
     "name": "stderr",
     "output_type": "stream",
     "text": [
      "/home/aiffel/anaconda3/lib/python3.7/site-packages/ipykernel_launcher.py:1: DeprecationWarning: Call to deprecated `similar_by_word` (Method will be removed in 4.0.0, use self.wv.similar_by_word() instead).\n",
      "  \"\"\"Entry point for launching an IPython kernel.\n"
     ]
    },
    {
     "data": {
      "text/plain": [
       "[('여름', 0.8478226661682129),\n",
       " ('겨울철', 0.7613325119018555),\n",
       " ('여름철', 0.7585780620574951),\n",
       " ('가을', 0.7147055864334106),\n",
       " ('초여름', 0.640950083732605),\n",
       " ('봄철', 0.6372367143630981),\n",
       " ('무덥', 0.6343798637390137),\n",
       " ('건기', 0.6251405477523804),\n",
       " ('봄', 0.6240803599357605),\n",
       " ('추위', 0.6171860694885254)]"
      ]
     },
     "execution_count": 160,
     "metadata": {},
     "output_type": "execute_result"
    }
   ],
   "source": [
    "word_vectors_ko.similar_by_word(\"겨울\") "
   ]
  },
  {
   "cell_type": "markdown",
   "metadata": {},
   "source": [
    "### 학습된 임베딩 활용시 유사한 단어들이 출력된것을 확인할수 있다.\n",
    "\n",
    "-"
   ]
  },
  {
   "cell_type": "markdown",
   "metadata": {},
   "source": [
    "# 훈련된 임베딩 모델에 적용하기"
   ]
  },
  {
   "cell_type": "code",
   "execution_count": 200,
   "metadata": {
    "scrolled": true
   },
   "outputs": [
    {
     "name": "stderr",
     "output_type": "stream",
     "text": [
      "/home/aiffel/anaconda3/lib/python3.7/site-packages/ipykernel_launcher.py:5: DeprecationWarning: Call to deprecated `__contains__` (Method will be removed in 4.0.0, use self.wv.__contains__() instead).\n",
      "  \"\"\"\n",
      "/home/aiffel/anaconda3/lib/python3.7/site-packages/ipykernel_launcher.py:6: DeprecationWarning: Call to deprecated `__getitem__` (Method will be removed in 4.0.0, use self.wv.__getitem__() instead).\n",
      "  \n"
     ]
    }
   ],
   "source": [
    "embedding_matrix = np.random.rand(vocab_size, word_vector_dim)\n",
    "\n",
    "# embedding_matrix에 Word2Vec 워드벡터를 단어 하나씩마다 차례차례 카피한다.\n",
    "for i in range(4,vocab_size):\n",
    "    if index_to_word[i] in word_vectors_ko:\n",
    "        embedding_matrix[i] = word_vectors_ko[index_to_word[i]]"
   ]
  },
  {
   "cell_type": "code",
   "execution_count": 201,
   "metadata": {
    "scrolled": false
   },
   "outputs": [
    {
     "name": "stdout",
     "output_type": "stream",
     "text": [
      "Model: \"sequential_32\"\n",
      "_________________________________________________________________\n",
      "Layer (type)                 Output Shape              Param #   \n",
      "=================================================================\n",
      "embedding_31 (Embedding)     (None, 41, 200)           2000000   \n",
      "_________________________________________________________________\n",
      "lstm_12 (LSTM)               (None, 200)               320800    \n",
      "_________________________________________________________________\n",
      "dense_58 (Dense)             (None, 8)                 1608      \n",
      "_________________________________________________________________\n",
      "dense_59 (Dense)             (None, 1)                 9         \n",
      "=================================================================\n",
      "Total params: 2,322,417\n",
      "Trainable params: 2,322,417\n",
      "Non-trainable params: 0\n",
      "_________________________________________________________________\n"
     ]
    }
   ],
   "source": [
    "vocab_size = 10000    # 어휘 사전의 크기입니다(10,000개의 단어)\n",
    "word_vector_dim = 200  # 워드 벡터의 차원수 (변경가능한 하이퍼파라미터)\n",
    "\n",
    "from tensorflow.keras.initializers import Constant\n",
    "# 모델 구성\n",
    "model = keras.Sequential()\n",
    "model.add(keras.layers.Embedding(vocab_size, \n",
    "                                 word_vector_dim, \n",
    "                                 embeddings_initializer=Constant(embedding_matrix),  # 카피한 임베딩을 여기서 활용\n",
    "                                 input_length=maxlen, \n",
    "                                 trainable=True))   # trainable을 True로 주면 Fine-tuning\n",
    "model.add(keras.layers.LSTM(word_vector_dim))   #  RNN의 LSTM\n",
    "model.add(keras.layers.Dense(8, activation='relu'))\n",
    "model.add(keras.layers.Dense(1, activation='sigmoid')) \n",
    "\n",
    "model.summary()\n",
    "\n",
    "\n",
    "\n"
   ]
  },
  {
   "cell_type": "code",
   "execution_count": 205,
   "metadata": {},
   "outputs": [
    {
     "name": "stdout",
     "output_type": "stream",
     "text": [
      "Model: \"sequential_38\"\n",
      "_________________________________________________________________\n",
      "Layer (type)                 Output Shape              Param #   \n",
      "=================================================================\n",
      "embedding_37 (Embedding)     (None, 41, 200)           2000000   \n",
      "_________________________________________________________________\n",
      "spatial_dropout1d_13 (Spatia (None, 41, 200)           0         \n",
      "_________________________________________________________________\n",
      "lstm_16 (LSTM)               (None, 200)               320800    \n",
      "_________________________________________________________________\n",
      "dense_70 (Dense)             (None, 8)                 1608      \n",
      "_________________________________________________________________\n",
      "dense_71 (Dense)             (None, 1)                 9         \n",
      "=================================================================\n",
      "Total params: 2,322,417\n",
      "Trainable params: 2,322,417\n",
      "Non-trainable params: 0\n",
      "_________________________________________________________________\n"
     ]
    }
   ],
   "source": [
    "from tensorflow.keras.initializers import Constant\n",
    "# model 설계\n",
    "\n",
    "vocab_size = 10000    # 어휘 사전의 크기입니다(10,000개의 단어)\n",
    "word_vector_dim = 200  # 워드 벡터의 차원수 (변경가능한 하이퍼파라미터)\n",
    "\n",
    "\n",
    "#LSTM\n",
    "model_LSTM2 = keras.Sequential()\n",
    "model_LSTM2.add(keras.layers.Embedding(vocab_size, \n",
    "                                 word_vector_dim, \n",
    "                                 embeddings_initializer=Constant(embedding_matrix),  # 카피한 임베딩을 여기서 활용\n",
    "                                 input_length=maxlen, \n",
    "                                 trainable=True))   # trainable을 True로 주면 Fine-tuning\n",
    "model_LSTM2.add(keras.layers.SpatialDropout1D(0.4))\n",
    "model_LSTM2.add(keras.layers.LSTM(word_vector_dim, dropout=0.2, recurrent_dropout=0.2))   # RNN의 LSTM\n",
    "model_LSTM2.add(keras.layers.Dense(8, activation='relu'))\n",
    "model_LSTM2.add(keras.layers.Dense(1, activation='sigmoid'))  # 최종 출력은 긍정/부정을 나타내는 1dim 입니다.\n",
    "\n",
    "\n",
    "#Conv1D\n",
    "model_CNN2 = keras.Sequential()\n",
    "model_CNN2.add(keras.layers.Embedding(vocab_size, \n",
    "                                 word_vector_dim, \n",
    "                                 embeddings_initializer=Constant(embedding_matrix),  # 카피한 임베딩을 여기서 활용\n",
    "                                 input_length=maxlen, \n",
    "                                 trainable=True))   # trainable을 True로 주면 Fine-tuning\n",
    "model_CNN2.add(keras.layers.Conv1D(16, 7, activation='relu'))\n",
    "model_CNN2.add(keras.layers.MaxPooling1D(5))\n",
    "model_CNN2.add(keras.layers.Conv1D(16, 7, activation='relu'))\n",
    "model_CNN2.add(keras.layers.GlobalMaxPooling1D())\n",
    "model_CNN2.add(keras.layers.Dense(8, activation='relu'))\n",
    "model_CNN2.add(keras.layers.Dense(1, activation='sigmoid'))  # 최종 출력은 긍정/부정을 나타내는 1dim 입니다.\n",
    "\n",
    "\n",
    "#GlobalMaxPooling1D() 레이어 하나만 사용하는 방법\n",
    "#전체 문장 중에서 단 하나의 가장 중요한 단어만 피처로 추출하여 그것으로 문장의 긍정/부정을 평가하는 방식\n",
    "model_GlobMP2 = keras.Sequential()\n",
    "model_GlobMP2.add(keras.layers.Embedding(vocab_size, \n",
    "                                 word_vector_dim, \n",
    "                                 embeddings_initializer=Constant(embedding_matrix),  # 카피한 임베딩을 여기서 활용\n",
    "                                 input_length=maxlen, \n",
    "                                 trainable=True))   # trainable을 True로 주면 Fine-tuning\n",
    "model_GlobMP2.add(keras.layers.GlobalMaxPooling1D())\n",
    "#model_GlobMP2.add(keras.layers.Dropout(0.3))\n",
    "model_GlobMP2.add(keras.layers.Dense(8, activation='relu'))\n",
    "#model_GlobMP2.add(keras.layers.Dropout(0.3))\n",
    "model_GlobMP2.add(keras.layers.Dense(1, activation='sigmoid'))  # 최종 출력은 긍정/부정을 나타내는 1dim 입니다.\n",
    "\n",
    "model_LSTM2.summary()\n",
    "model_CNN2.summary()\n",
    "model_GlobMP2.summary()\n",
    "\n"
   ]
  },
  {
   "cell_type": "code",
   "execution_count": null,
   "metadata": {},
   "outputs": [],
   "source": []
  },
  {
   "cell_type": "code",
   "execution_count": 225,
   "metadata": {},
   "outputs": [
    {
     "name": "stdout",
     "output_type": "stream",
     "text": [
      "Epoch 1/10\n",
      "266/266 [==============================] - 13s 47ms/step - loss: 0.5937 - accuracy: 0.6651 - val_loss: 0.4447 - val_accuracy: 0.7909\n",
      "Epoch 2/10\n",
      "266/266 [==============================] - 14s 51ms/step - loss: 0.3919 - accuracy: 0.8251 - val_loss: 0.3646 - val_accuracy: 0.8383\n",
      "Epoch 3/10\n",
      "266/266 [==============================] - 13s 48ms/step - loss: 0.3244 - accuracy: 0.8609 - val_loss: 0.3524 - val_accuracy: 0.8455\n",
      "Epoch 4/10\n",
      "266/266 [==============================] - 13s 49ms/step - loss: 0.2900 - accuracy: 0.8787 - val_loss: 0.3447 - val_accuracy: 0.8494\n",
      "Epoch 5/10\n",
      "266/266 [==============================] - 12s 46ms/step - loss: 0.2593 - accuracy: 0.8941 - val_loss: 0.3483 - val_accuracy: 0.8483\n",
      "Epoch 6/10\n",
      "266/266 [==============================] - 12s 46ms/step - loss: 0.2360 - accuracy: 0.9062 - val_loss: 0.3553 - val_accuracy: 0.8464\n",
      "Epoch 7/10\n",
      "266/266 [==============================] - 13s 48ms/step - loss: 0.2149 - accuracy: 0.9165 - val_loss: 0.3701 - val_accuracy: 0.8474\n",
      "Epoch 8/10\n",
      "266/266 [==============================] - 13s 47ms/step - loss: 0.1968 - accuracy: 0.9253 - val_loss: 0.3972 - val_accuracy: 0.8427\n",
      "Epoch 9/10\n",
      "266/266 [==============================] - 13s 47ms/step - loss: 0.1751 - accuracy: 0.9343 - val_loss: 0.4107 - val_accuracy: 0.8446\n",
      "Epoch 10/10\n",
      "266/266 [==============================] - 13s 48ms/step - loss: 0.1573 - accuracy: 0.9432 - val_loss: 0.4461 - val_accuracy: 0.8444\n",
      "1537/1537 - 1s - loss: 0.4690 - accuracy: 0.8386\n",
      "[0.469037264585495, 0.8385987877845764]\n"
     ]
    }
   ],
   "source": [
    "model_CNN2.compile(optimizer='adam',\n",
    "              loss='binary_crossentropy',\n",
    "              metrics=['accuracy'])\n",
    "              \n",
    "epochs=10  # 몇 epoch를 훈련하면 좋을지 결과를 보면서 바꾸어 봅시다. \n",
    "\n",
    "history_model_CNN2 = model_CNN2.fit(partial_X_train,\n",
    "                    partial_y_train,\n",
    "                    epochs=epochs,\n",
    "                    batch_size=512,\n",
    "                    validation_data=(X_val, y_val),\n",
    "                    verbose=1)\n",
    "                           \n",
    "# 테스트셋을 통한 모델 평가\n",
    "results = model_CNN2.evaluate(X_test,  y_test, verbose=2)\n",
    "print(results)\n"
   ]
  },
  {
   "cell_type": "code",
   "execution_count": 207,
   "metadata": {},
   "outputs": [
    {
     "name": "stdout",
     "output_type": "stream",
     "text": [
      "Epoch 1/10\n",
      "266/266 [==============================] - 92s 339ms/step - loss: 0.2633 - accuracy: 0.8893 - val_loss: 0.3099 - val_accuracy: 0.8767\n",
      "Epoch 2/10\n",
      "266/266 [==============================] - 90s 339ms/step - loss: 0.2584 - accuracy: 0.8914 - val_loss: 0.3092 - val_accuracy: 0.8733\n",
      "Epoch 3/10\n",
      "266/266 [==============================] - 92s 346ms/step - loss: 0.2524 - accuracy: 0.8932 - val_loss: 0.3121 - val_accuracy: 0.8753\n",
      "Epoch 4/10\n",
      "266/266 [==============================] - 91s 341ms/step - loss: 0.2473 - accuracy: 0.8960 - val_loss: 0.3236 - val_accuracy: 0.8752\n",
      "Epoch 5/10\n",
      "266/266 [==============================] - 94s 355ms/step - loss: 0.2425 - accuracy: 0.8988 - val_loss: 0.3278 - val_accuracy: 0.8749\n",
      "Epoch 6/10\n",
      "266/266 [==============================] - 92s 344ms/step - loss: 0.2366 - accuracy: 0.9021 - val_loss: 0.3253 - val_accuracy: 0.8756\n",
      "Epoch 7/10\n",
      "266/266 [==============================] - 90s 337ms/step - loss: 0.2316 - accuracy: 0.9042 - val_loss: 0.3273 - val_accuracy: 0.8743\n",
      "Epoch 8/10\n",
      "266/266 [==============================] - 87s 327ms/step - loss: 0.2269 - accuracy: 0.9065 - val_loss: 0.3313 - val_accuracy: 0.8773\n",
      "Epoch 9/10\n",
      "266/266 [==============================] - 79s 296ms/step - loss: 0.2239 - accuracy: 0.9077 - val_loss: 0.3379 - val_accuracy: 0.8760\n",
      "Epoch 10/10\n",
      "266/266 [==============================] - 73s 275ms/step - loss: 0.2197 - accuracy: 0.9090 - val_loss: 0.3359 - val_accuracy: 0.8769\n",
      "1537/1537 - 14s - loss: 0.3519 - accuracy: 0.8716\n",
      "[0.35185036063194275, 0.8715950846672058]\n"
     ]
    }
   ],
   "source": [
    "model_LSTM2.compile(optimizer='adam',\n",
    "              loss='binary_crossentropy',\n",
    "              metrics=['accuracy'])\n",
    "              \n",
    "epochs=10  # 몇 epoch를 훈련하면 좋을지 결과를 보면서 바꾸어 봅시다. \n",
    "\n",
    "history_model_LSTM2 = model_LSTM2.fit(partial_X_train,\n",
    "                    partial_y_train,\n",
    "                    epochs=epochs,\n",
    "                    batch_size=512,\n",
    "                    validation_data=(X_val, y_val),\n",
    "                    verbose=1)\n",
    "                           \n",
    "# 테스트셋을 통한 모델 평가\n",
    "results = model_LSTM2.evaluate(X_test,  y_test, verbose=2)\n",
    "print(results)\n"
   ]
  },
  {
   "cell_type": "code",
   "execution_count": 209,
   "metadata": {},
   "outputs": [
    {
     "name": "stdout",
     "output_type": "stream",
     "text": [
      "Epoch 1/15\n",
      "266/266 [==============================] - 6s 20ms/step - loss: 0.3076 - accuracy: 0.8705 - val_loss: 0.3896 - val_accuracy: 0.8265\n",
      "Epoch 2/15\n",
      "266/266 [==============================] - 5s 20ms/step - loss: 0.2964 - accuracy: 0.8758 - val_loss: 0.3890 - val_accuracy: 0.8276\n",
      "Epoch 3/15\n",
      "266/266 [==============================] - 5s 20ms/step - loss: 0.2871 - accuracy: 0.8809 - val_loss: 0.3927 - val_accuracy: 0.8275\n",
      "Epoch 4/15\n",
      "266/266 [==============================] - 5s 20ms/step - loss: 0.2766 - accuracy: 0.8861 - val_loss: 0.3926 - val_accuracy: 0.8286\n",
      "Epoch 5/15\n",
      "266/266 [==============================] - 5s 20ms/step - loss: 0.2684 - accuracy: 0.8910 - val_loss: 0.3984 - val_accuracy: 0.8277\n",
      "Epoch 6/15\n",
      "266/266 [==============================] - 5s 20ms/step - loss: 0.2569 - accuracy: 0.8966 - val_loss: 0.3998 - val_accuracy: 0.8316\n",
      "Epoch 7/15\n",
      "266/266 [==============================] - 5s 20ms/step - loss: 0.2466 - accuracy: 0.9011 - val_loss: 0.4039 - val_accuracy: 0.8312\n",
      "Epoch 8/15\n",
      "266/266 [==============================] - 5s 20ms/step - loss: 0.2378 - accuracy: 0.9060 - val_loss: 0.4136 - val_accuracy: 0.8283\n",
      "Epoch 9/15\n",
      "266/266 [==============================] - 6s 21ms/step - loss: 0.2317 - accuracy: 0.9078 - val_loss: 0.4181 - val_accuracy: 0.8317\n",
      "Epoch 10/15\n",
      "266/266 [==============================] - 5s 20ms/step - loss: 0.2184 - accuracy: 0.9142 - val_loss: 0.4184 - val_accuracy: 0.8291\n",
      "Epoch 11/15\n",
      "266/266 [==============================] - 5s 20ms/step - loss: 0.2098 - accuracy: 0.9175 - val_loss: 0.4278 - val_accuracy: 0.8306\n",
      "Epoch 12/15\n",
      "266/266 [==============================] - 5s 20ms/step - loss: 0.2085 - accuracy: 0.9180 - val_loss: 0.4407 - val_accuracy: 0.8302\n",
      "Epoch 13/15\n",
      "266/266 [==============================] - 5s 20ms/step - loss: 0.1972 - accuracy: 0.9244 - val_loss: 0.4451 - val_accuracy: 0.8277\n",
      "Epoch 14/15\n",
      "266/266 [==============================] - 5s 21ms/step - loss: 0.1876 - accuracy: 0.9287 - val_loss: 0.4599 - val_accuracy: 0.8233\n",
      "Epoch 15/15\n",
      "266/266 [==============================] - 5s 20ms/step - loss: 0.1813 - accuracy: 0.9319 - val_loss: 0.4561 - val_accuracy: 0.8280\n",
      "1537/1537 - 0s - loss: 0.4580 - accuracy: 0.8251\n",
      "[0.4579971730709076, 0.8251113891601562]\n"
     ]
    }
   ],
   "source": [
    "model_GlobMP2.compile(optimizer='adam',\n",
    "              loss='binary_crossentropy',\n",
    "              metrics=['accuracy'])\n",
    "              \n",
    "epochs=15  # 몇 epoch를 훈련하면 좋을지 결과를 보면서 바꾸어 봅시다. \n",
    "\n",
    "history_model_GlobMP2 = model_GlobMP2.fit(partial_X_train,\n",
    "                    partial_y_train,\n",
    "                    epochs=epochs,\n",
    "                    batch_size=512,\n",
    "                    validation_data=(X_val, y_val),\n",
    "                    verbose=1)\n",
    "                           \n",
    "# 테스트셋을 통한 모델 평가\n",
    "results = model_GlobMP2.evaluate(X_test,  y_test, verbose=2)\n",
    "print(results)\n"
   ]
  },
  {
   "cell_type": "code",
   "execution_count": 236,
   "metadata": {},
   "outputs": [
    {
     "name": "stdout",
     "output_type": "stream",
     "text": [
      "dict_keys(['loss', 'accuracy', 'val_loss', 'val_accuracy'])\n"
     ]
    }
   ],
   "source": [
    "#history_model_CNN2\n",
    "#history_model_LSTM2\n",
    "#history_model_GlobMP2\n",
    "history_dict_CNN2 = history_model_CNN2.history\n",
    "history_dict_LSTM2 = history_model_LSTM2.history\n",
    "history_dict_GlobMP2 = history_model_GlobMP2.history\n",
    "print(history_dict.keys()) # epoch에 따른 그래프를 그려볼 수 있는 항목들"
   ]
  },
  {
   "cell_type": "code",
   "execution_count": 243,
   "metadata": {},
   "outputs": [
    {
     "data": {
      "image/png": "[encoded data removed]",
      "text/plain": [
       "<Figure size 432x288 with 1 Axes>"
      ]
     },
     "metadata": {
      "needs_background": "light"
     },
     "output_type": "display_data"
    },
    {
     "data": {
      "image/png": "[encoded data removed]",
      "text/plain": [
       "<Figure size 432x288 with 1 Axes>"
      ]
     },
     "metadata": {
      "needs_background": "light"
     },
     "output_type": "display_data"
    }
   ],
   "source": [
    "import matplotlib.pyplot as plt\n",
    "\n",
    "acc = history_dict_CNN2['accuracy']\n",
    "val_acc = history_dict_CNN2['val_accuracy']\n",
    "loss = history_dict_CNN2['loss']\n",
    "val_loss = history_dict_CNN2['val_loss']\n",
    "\n",
    "epochs = range(1, len(acc) + 1)\n",
    "\n",
    "#fig, ax = plt.subplots(1, 2, sharex=True) \n",
    "# fig란 figure로써 - 전체 subplot을 말한다. \n",
    "# ex) 서브플로안에 몇개의 그래프가 있던지 상관없이  그걸 담는 하나.전체 사이즈를 말한다.\n",
    "# ax는 axe로써 - 전체 중 낱낱개를 말한다 \n",
    "# ex) 서브플롯 안에 2개(a1,a2)의 그래프가 있다면 a1, a2 를 일컬음\n",
    "\n",
    "\n",
    "\n",
    "\n",
    "# \"bo\"는 \"파란색 점\"입니다\n",
    "plt.plot(epochs, loss, 'bo', label='Training loss')\n",
    "# b는 \"파란 실선\"입니다\n",
    "plt.plot(epochs, val_loss, 'b', label='Validation loss')\n",
    "plt.title('CNN Training and validation loss')\n",
    "plt.xlabel('Epochs')\n",
    "plt.ylabel('Loss')\n",
    "plt.legend()\n",
    "\n",
    "plt.show()\n",
    "\n",
    "plt.clf()   # 그림을 초기화합니다\n",
    "\n",
    "plt.plot(epochs, acc, 'bo', label='Training acc')\n",
    "plt.plot(epochs, val_acc, 'b', label='Validation acc')\n",
    "plt.title('CNN Training and validation accuracy')\n",
    "plt.xlabel('Epochs')\n",
    "plt.ylabel('Accuracy')\n",
    "plt.legend()\n",
    "\n",
    "plt.show()"
   ]
  },
  {
   "cell_type": "code",
   "execution_count": 242,
   "metadata": {},
   "outputs": [
    {
     "data": {
      "image/png": "[encoded data removed]",
      "text/plain": [
       "<Figure size 432x288 with 1 Axes>"
      ]
     },
     "metadata": {
      "needs_background": "light"
     },
     "output_type": "display_data"
    },
    {
     "data": {
      "image/png": "[encoded data removed]",
      "text/plain": [
       "<Figure size 432x288 with 1 Axes>"
      ]
     },
     "metadata": {
      "needs_background": "light"
     },
     "output_type": "display_data"
    }
   ],
   "source": [
    "import matplotlib.pyplot as plt\n",
    "\n",
    "acc = history_dict_LSTM2['accuracy']\n",
    "val_acc = history_dict_LSTM2['val_accuracy']\n",
    "loss = history_dict_LSTM2['loss']\n",
    "val_loss = history_dict_LSTM2['val_loss']\n",
    "\n",
    "epochs = range(1, len(acc) + 1)\n",
    "\n",
    "#fig, ax = plt.subplots(1, 2, sharex=True) \n",
    "# fig란 figure로써 - 전체 subplot을 말한다. \n",
    "# ex) 서브플로안에 몇개의 그래프가 있던지 상관없이  그걸 담는 하나.전체 사이즈를 말한다.\n",
    "# ax는 axe로써 - 전체 중 낱낱개를 말한다 \n",
    "# ex) 서브플롯 안에 2개(a1,a2)의 그래프가 있다면 a1, a2 를 일컬음\n",
    "\n",
    "\n",
    "\n",
    "\n",
    "# \"bo\"는 \"파란색 점\"입니다\n",
    "plt.plot(epochs, loss, 'bo', label='Training loss')\n",
    "# b는 \"파란 실선\"입니다\n",
    "plt.plot(epochs, val_loss, 'b', label='Validation loss')\n",
    "plt.title('LSTM Training and validation loss')\n",
    "plt.xlabel('Epochs')\n",
    "plt.ylabel('Loss')\n",
    "plt.legend()\n",
    "\n",
    "plt.show()\n",
    "\n",
    "plt.clf()   # 그림을 초기화합니다\n",
    "\n",
    "plt.plot(epochs, acc, 'bo', label='Training acc')\n",
    "plt.plot(epochs, val_acc, 'b', label='Validation acc')\n",
    "plt.title('LSTM Training and validation accuracy')\n",
    "plt.xlabel('Epochs')\n",
    "plt.ylabel('Accuracy')\n",
    "plt.legend()\n",
    "\n",
    "plt.show()"
   ]
  },
  {
   "cell_type": "code",
   "execution_count": 241,
   "metadata": {},
   "outputs": [
    {
     "data": {
      "image/png": "[encoded data removed]",
      "text/plain": [
       "<Figure size 432x288 with 1 Axes>"
      ]
     },
     "metadata": {
      "needs_background": "light"
     },
     "output_type": "display_data"
    },
    {
     "data": {
      "image/png": "[encoded data removed]",
      "text/plain": [
       "<Figure size 432x288 with 1 Axes>"
      ]
     },
     "metadata": {
      "needs_background": "light"
     },
     "output_type": "display_data"
    }
   ],
   "source": [
    "import matplotlib.pyplot as plt\n",
    "\n",
    "acc = history_dict_GlobMP2['accuracy']\n",
    "val_acc = history_dict_GlobMP2['val_accuracy']\n",
    "loss = history_dict_GlobMP2['loss']\n",
    "val_loss = history_dict_GlobMP2['val_loss']\n",
    "\n",
    "epochs = range(1, len(acc) + 1)\n",
    "\n",
    "#fig, ax = plt.subplots(1, 2, sharex=True) \n",
    "# fig란 figure로써 - 전체 subplot을 말한다. \n",
    "# ex) 서브플로안에 몇개의 그래프가 있던지 상관없이  그걸 담는 하나.전체 사이즈를 말한다.\n",
    "# ax는 axe로써 - 전체 중 낱낱개를 말한다 \n",
    "# ex) 서브플롯 안에 2개(a1,a2)의 그래프가 있다면 a1, a2 를 일컬음\n",
    "\n",
    "\n",
    "\n",
    "\n",
    "# \"bo\"는 \"파란색 점\"입니다\n",
    "plt.plot(epochs, loss, 'bo', label='Training loss')\n",
    "# b는 \"파란 실선\"입니다\n",
    "plt.plot(epochs, val_loss, 'b', label='Validation loss')\n",
    "plt.title('GlobMP2 Training and validation loss')\n",
    "plt.xlabel('Epochs')\n",
    "plt.ylabel('Loss')\n",
    "plt.legend()\n",
    "\n",
    "plt.show()\n",
    "\n",
    "plt.clf()   # 그림을 초기화합니다\n",
    "\n",
    "plt.plot(epochs, acc, 'bo', label='Training acc')\n",
    "plt.plot(epochs, val_acc, 'b', label='Validation acc')\n",
    "plt.title('GlobMP2 Training and validation accuracy')\n",
    "plt.xlabel('Epochs')\n",
    "plt.ylabel('Accuracy')\n",
    "plt.legend()\n",
    "\n",
    "plt.show()"
   ]
  },
  {
   "cell_type": "code",
   "execution_count": null,
   "metadata": {},
   "outputs": [],
   "source": []
  }
 ],
 "metadata": {
  "kernelspec": {
   "display_name": "aiffel",
   "language": "python",
   "name": "aiffel"
  },
  "language_info": {
   "codemirror_mode": {
    "name": "ipython",
    "version": 3
   },
   "file_extension": ".py",
   "mimetype": "text/x-python",
   "name": "python",
   "nbconvert_exporter": "python",
   "pygments_lexer": "ipython3",
   "version": "3.7.6"
  }
 },
 "nbformat": 4,
 "nbformat_minor": 4
}
