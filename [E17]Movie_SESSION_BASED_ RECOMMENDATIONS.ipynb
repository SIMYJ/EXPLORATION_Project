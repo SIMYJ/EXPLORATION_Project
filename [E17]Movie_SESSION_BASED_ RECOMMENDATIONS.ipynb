{
 "cells": [
  {
   "cell_type": "markdown",
   "metadata": {},
   "source": [
    "# 프로젝트 - Movielens 영화 SBR"
   ]
  },
  {
   "cell_type": "markdown",
   "metadata": {},
   "source": [
    "Movielens 1M Dataset을 기반으로, Session based Recommendation 시스템을 제작해 보자\n",
    "```\n",
    "1) wget으로 데이터 다운로드\n",
    "$ wget http://files.grouplens.org/datasets/movielens/ml-1m.zip\n",
    "\n",
    "2) 다운받은 데이터를 작업디렉토리로 이동\n",
    "$ mv ml-1m.zip ~/aiffel/yoochoose-data\n",
    "\n",
    "3) 압축 해제\n",
    "$ cd ~/aiffel/yoochoose-data && unzip ml-1m.zip\n",
    "```"
   ]
  },
  {
   "cell_type": "markdown",
   "metadata": {},
   "source": [
    "- 여기서 이전 실습내역과 가장 크게 다른 부분은 바로 SessionID 대신 UserID 항목이 들어갔다는 점입니다. 이 데이터셋은 명확한 1회 세션의 SessionID를 포함하지 않고 있습니다. 그래서 이번에는 UserID가 SessionID 역할을 해야 합니다.\n",
    "\n",
    "- Rating 정보가 포함되어 있습니다. 이전 실습내역에서는 이런 항목이 포함되어 있지 않았으므로, 무시하고 제외할 수 있습니다. 하지만, 직전에 봤던 영화가 맘에 들었는지 여부가 비슷한 영화를 더 고르게 하는 것과 상관이 있을 수도 있습니다. 아울러, Rating이 낮은 데이터를 어떻게 처리할지도 고민해야 합니다.\n",
    "\n",
    "- Time 항목에는 UTC time 가 포함되어, 1970년 1월 1일부터 경과된 초단위 시간이 기재되어 있습니다."
   ]
  },
  {
   "cell_type": "markdown",
   "metadata": {},
   "source": [
    "#  라이브러리 import"
   ]
  },
  {
   "cell_type": "code",
   "execution_count": 1,
   "metadata": {},
   "outputs": [],
   "source": [
    "import datetime as dt\n",
    "from pathlib import Path\n",
    "import os\n",
    "\n",
    "import numpy as np\n",
    "import pandas as pd\n",
    "import warnings\n",
    "warnings.filterwarnings('ignore')"
   ]
  },
  {
   "cell_type": "markdown",
   "metadata": {},
   "source": [
    "# Step 0.데이터 로드"
   ]
  },
  {
   "cell_type": "code",
   "execution_count": 2,
   "metadata": {
    "scrolled": false
   },
   "outputs": [
    {
     "data": {
      "text/html": [
       "<div>\n",
       "<style scoped>\n",
       "    .dataframe tbody tr th:only-of-type {\n",
       "        vertical-align: middle;\n",
       "    }\n",
       "\n",
       "    .dataframe tbody tr th {\n",
       "        vertical-align: top;\n",
       "    }\n",
       "\n",
       "    .dataframe thead th {\n",
       "        text-align: right;\n",
       "    }\n",
       "</style>\n",
       "<table border=\"1\" class=\"dataframe\">\n",
       "  <thead>\n",
       "    <tr style=\"text-align: right;\">\n",
       "      <th></th>\n",
       "      <th>UserId</th>\n",
       "      <th>ItemId</th>\n",
       "      <th>Rating</th>\n",
       "      <th>Time</th>\n",
       "    </tr>\n",
       "  </thead>\n",
       "  <tbody>\n",
       "    <tr>\n",
       "      <th>40</th>\n",
       "      <td>1</td>\n",
       "      <td>1</td>\n",
       "      <td>5</td>\n",
       "      <td>978824268</td>\n",
       "    </tr>\n",
       "    <tr>\n",
       "      <th>25</th>\n",
       "      <td>1</td>\n",
       "      <td>48</td>\n",
       "      <td>5</td>\n",
       "      <td>978824351</td>\n",
       "    </tr>\n",
       "    <tr>\n",
       "      <th>39</th>\n",
       "      <td>1</td>\n",
       "      <td>150</td>\n",
       "      <td>5</td>\n",
       "      <td>978301777</td>\n",
       "    </tr>\n",
       "    <tr>\n",
       "      <th>44</th>\n",
       "      <td>1</td>\n",
       "      <td>260</td>\n",
       "      <td>4</td>\n",
       "      <td>978300760</td>\n",
       "    </tr>\n",
       "    <tr>\n",
       "      <th>23</th>\n",
       "      <td>1</td>\n",
       "      <td>527</td>\n",
       "      <td>5</td>\n",
       "      <td>978824195</td>\n",
       "    </tr>\n",
       "    <tr>\n",
       "      <th>...</th>\n",
       "      <td>...</td>\n",
       "      <td>...</td>\n",
       "      <td>...</td>\n",
       "      <td>...</td>\n",
       "    </tr>\n",
       "    <tr>\n",
       "      <th>1000120</th>\n",
       "      <td>6040</td>\n",
       "      <td>3683</td>\n",
       "      <td>4</td>\n",
       "      <td>960971696</td>\n",
       "    </tr>\n",
       "    <tr>\n",
       "      <th>1000178</th>\n",
       "      <td>6040</td>\n",
       "      <td>3703</td>\n",
       "      <td>4</td>\n",
       "      <td>964828575</td>\n",
       "    </tr>\n",
       "    <tr>\n",
       "      <th>1000183</th>\n",
       "      <td>6040</td>\n",
       "      <td>3735</td>\n",
       "      <td>4</td>\n",
       "      <td>960971654</td>\n",
       "    </tr>\n",
       "    <tr>\n",
       "      <th>1000191</th>\n",
       "      <td>6040</td>\n",
       "      <td>3751</td>\n",
       "      <td>4</td>\n",
       "      <td>964828782</td>\n",
       "    </tr>\n",
       "    <tr>\n",
       "      <th>999943</th>\n",
       "      <td>6040</td>\n",
       "      <td>3819</td>\n",
       "      <td>5</td>\n",
       "      <td>963272166</td>\n",
       "    </tr>\n",
       "  </tbody>\n",
       "</table>\n",
       "<p>1000209 rows × 4 columns</p>\n",
       "</div>"
      ],
      "text/plain": [
       "         UserId  ItemId  Rating       Time\n",
       "40            1       1       5  978824268\n",
       "25            1      48       5  978824351\n",
       "39            1     150       5  978301777\n",
       "44            1     260       4  978300760\n",
       "23            1     527       5  978824195\n",
       "...         ...     ...     ...        ...\n",
       "1000120    6040    3683       4  960971696\n",
       "1000178    6040    3703       4  964828575\n",
       "1000183    6040    3735       4  960971654\n",
       "1000191    6040    3751       4  964828782\n",
       "999943     6040    3819       5  963272166\n",
       "\n",
       "[1000209 rows x 4 columns]"
      ]
     },
     "execution_count": 2,
     "metadata": {},
     "output_type": "execute_result"
    }
   ],
   "source": [
    "data_path = Path(os.getenv('HOME')+'/aiffel/yoochoose-data/ml-1m') \n",
    "train_path = data_path / 'ratings.dat'\n",
    "\n",
    "def load_data(data_path: Path, nrows=None):\n",
    "    data = pd.read_csv(data_path, sep='::', header=None, usecols=[0, 1, 2, 3], dtype={0: np.int32, 1: np.int32, 2: np.int32}, nrows=nrows)\n",
    "    data.columns = ['UserId', 'ItemId', 'Rating', 'Time']\n",
    "    return data\n",
    "\n",
    "data = load_data(train_path, None)\n",
    "data.sort_values(['UserId','ItemId', 'Time'], inplace=True)  # data를 id와 시간 순서로 정렬해줍니다.\n",
    "data"
   ]
  },
  {
   "cell_type": "markdown",
   "metadata": {},
   "source": [
    "# Step 1. 데이터의 전처리\n",
    "노드에서 데이터셋을 꼼꼼이 살펴보면서 항목별 기본분석, session length, session time, cleaning 등의 작업을 진행하였다.\n",
    "특히, 이 데이터셋에서는 Session이 아닌 UserID 단위로 데이터가 생성되어 있으므로, 이를 Session 단위로 어떻게 해석할지에 주의하자.\n",
    "\n"
   ]
  },
  {
   "cell_type": "markdown",
   "metadata": {},
   "source": [
    "## UTC-TIME -> YYYY-MM-DD TT-TT-TT 꼴로 변경하기\n",
    "Time 항목에는 UTC time 가 포함되어, 1970년 1월 1일부터 경과된 초단위 시간이 기재되어 있습니다.\n",
    "https://www.44bits.io/ko/post/python-datatime-cheetsheet"
   ]
  },
  {
   "cell_type": "code",
   "execution_count": 3,
   "metadata": {
    "scrolled": true
   },
   "outputs": [
    {
     "data": {
      "text/html": [
       "<div>\n",
       "<style scoped>\n",
       "    .dataframe tbody tr th:only-of-type {\n",
       "        vertical-align: middle;\n",
       "    }\n",
       "\n",
       "    .dataframe tbody tr th {\n",
       "        vertical-align: top;\n",
       "    }\n",
       "\n",
       "    .dataframe thead th {\n",
       "        text-align: right;\n",
       "    }\n",
       "</style>\n",
       "<table border=\"1\" class=\"dataframe\">\n",
       "  <thead>\n",
       "    <tr style=\"text-align: right;\">\n",
       "      <th></th>\n",
       "      <th>UserId</th>\n",
       "      <th>ItemId</th>\n",
       "      <th>Rating</th>\n",
       "      <th>Time</th>\n",
       "    </tr>\n",
       "  </thead>\n",
       "  <tbody>\n",
       "    <tr>\n",
       "      <th>40</th>\n",
       "      <td>1</td>\n",
       "      <td>1</td>\n",
       "      <td>5</td>\n",
       "      <td>2001-01-07 08:37:48</td>\n",
       "    </tr>\n",
       "    <tr>\n",
       "      <th>25</th>\n",
       "      <td>1</td>\n",
       "      <td>48</td>\n",
       "      <td>5</td>\n",
       "      <td>2001-01-07 08:39:11</td>\n",
       "    </tr>\n",
       "    <tr>\n",
       "      <th>39</th>\n",
       "      <td>1</td>\n",
       "      <td>150</td>\n",
       "      <td>5</td>\n",
       "      <td>2001-01-01 07:29:37</td>\n",
       "    </tr>\n",
       "    <tr>\n",
       "      <th>44</th>\n",
       "      <td>1</td>\n",
       "      <td>260</td>\n",
       "      <td>4</td>\n",
       "      <td>2001-01-01 07:12:40</td>\n",
       "    </tr>\n",
       "    <tr>\n",
       "      <th>23</th>\n",
       "      <td>1</td>\n",
       "      <td>527</td>\n",
       "      <td>5</td>\n",
       "      <td>2001-01-07 08:36:35</td>\n",
       "    </tr>\n",
       "    <tr>\n",
       "      <th>...</th>\n",
       "      <td>...</td>\n",
       "      <td>...</td>\n",
       "      <td>...</td>\n",
       "      <td>...</td>\n",
       "    </tr>\n",
       "    <tr>\n",
       "      <th>1000120</th>\n",
       "      <td>6040</td>\n",
       "      <td>3683</td>\n",
       "      <td>4</td>\n",
       "      <td>2000-06-14 17:34:56</td>\n",
       "    </tr>\n",
       "    <tr>\n",
       "      <th>1000178</th>\n",
       "      <td>6040</td>\n",
       "      <td>3703</td>\n",
       "      <td>4</td>\n",
       "      <td>2000-07-29 08:56:15</td>\n",
       "    </tr>\n",
       "    <tr>\n",
       "      <th>1000183</th>\n",
       "      <td>6040</td>\n",
       "      <td>3735</td>\n",
       "      <td>4</td>\n",
       "      <td>2000-06-14 17:34:14</td>\n",
       "    </tr>\n",
       "    <tr>\n",
       "      <th>1000191</th>\n",
       "      <td>6040</td>\n",
       "      <td>3751</td>\n",
       "      <td>4</td>\n",
       "      <td>2000-07-29 08:59:42</td>\n",
       "    </tr>\n",
       "    <tr>\n",
       "      <th>999943</th>\n",
       "      <td>6040</td>\n",
       "      <td>3819</td>\n",
       "      <td>5</td>\n",
       "      <td>2000-07-11 08:36:06</td>\n",
       "    </tr>\n",
       "  </tbody>\n",
       "</table>\n",
       "<p>1000209 rows × 4 columns</p>\n",
       "</div>"
      ],
      "text/plain": [
       "         UserId  ItemId  Rating                Time\n",
       "40            1       1       5 2001-01-07 08:37:48\n",
       "25            1      48       5 2001-01-07 08:39:11\n",
       "39            1     150       5 2001-01-01 07:29:37\n",
       "44            1     260       4 2001-01-01 07:12:40\n",
       "23            1     527       5 2001-01-07 08:36:35\n",
       "...         ...     ...     ...                 ...\n",
       "1000120    6040    3683       4 2000-06-14 17:34:56\n",
       "1000178    6040    3703       4 2000-07-29 08:56:15\n",
       "1000183    6040    3735       4 2000-06-14 17:34:14\n",
       "1000191    6040    3751       4 2000-07-29 08:59:42\n",
       "999943     6040    3819       5 2000-07-11 08:36:06\n",
       "\n",
       "[1000209 rows x 4 columns]"
      ]
     },
     "execution_count": 3,
     "metadata": {},
     "output_type": "execute_result"
    }
   ],
   "source": [
    "# 시간 변환\n",
    "import datetime, time\n",
    "times = data[\"Time\"] \n",
    "tmp_list = [] \n",
    "for time in times: \n",
    "    tmp_date = dt.datetime.fromtimestamp(time)\n",
    "    tmp_list.append(tmp_date)\n",
    "data[\"Time\"] = tmp_list \n",
    "data"
   ]
  },
  {
   "cell_type": "markdown",
   "metadata": {},
   "source": [
    "## UserId,  ItemId 개수 확인"
   ]
  },
  {
   "cell_type": "markdown",
   "metadata": {},
   "source": [
    "UserId 개수 6040 개    \n",
    "ItemId 개수 3706 개     \n",
    "총데이터 1000209 개"
   ]
  },
  {
   "cell_type": "code",
   "execution_count": 4,
   "metadata": {
    "scrolled": true
   },
   "outputs": [
    {
     "data": {
      "text/plain": [
       "(6040, 3706)"
      ]
     },
     "execution_count": 4,
     "metadata": {},
     "output_type": "execute_result"
    }
   ],
   "source": [
    "data['UserId'].nunique(), data['ItemId'].nunique()"
   ]
  },
  {
   "cell_type": "markdown",
   "metadata": {},
   "source": [
    "## UserId Length\n",
    "- 유저ID 당 영화 평점리뷰 횟수\n"
   ]
  },
  {
   "cell_type": "code",
   "execution_count": 5,
   "metadata": {
    "scrolled": true
   },
   "outputs": [
    {
     "data": {
      "text/plain": [
       "UserId\n",
       "1        53\n",
       "2       129\n",
       "3        51\n",
       "4        21\n",
       "5       198\n",
       "       ... \n",
       "6036    888\n",
       "6037    202\n",
       "6038     20\n",
       "6039    123\n",
       "6040    341\n",
       "Length: 6040, dtype: int64"
      ]
     },
     "execution_count": 5,
     "metadata": {},
     "output_type": "execute_result"
    }
   ],
   "source": [
    "session_length = data.groupby('UserId').size()\n",
    "session_length"
   ]
  },
  {
   "cell_type": "markdown",
   "metadata": {},
   "source": [
    "### UserId Length(평점 리뷰 횟수 )통계"
   ]
  },
  {
   "cell_type": "code",
   "execution_count": 6,
   "metadata": {},
   "outputs": [
    {
     "data": {
      "text/plain": [
       "(96.0, 165.5975165562914)"
      ]
     },
     "execution_count": 6,
     "metadata": {},
     "output_type": "execute_result"
    }
   ],
   "source": [
    "# 길이 중앙값, 길이평균\n",
    "session_length.median(), session_length.mean()"
   ]
  },
  {
   "cell_type": "code",
   "execution_count": 7,
   "metadata": {},
   "outputs": [
    {
     "data": {
      "text/plain": [
       "(20, 2314)"
      ]
     },
     "execution_count": 7,
     "metadata": {},
     "output_type": "execute_result"
    }
   ],
   "source": [
    "# 최소길이, 최대길이\n",
    "session_length.min(), session_length.max()"
   ]
  },
  {
   "cell_type": "code",
   "execution_count": 8,
   "metadata": {},
   "outputs": [
    {
     "data": {
      "text/plain": [
       "1343.181000000005"
      ]
     },
     "execution_count": 8,
     "metadata": {},
     "output_type": "execute_result"
    }
   ],
   "source": [
    "session_length.quantile(0.999)"
   ]
  },
  {
   "cell_type": "markdown",
   "metadata": {},
   "source": [
    "```\n",
    "길이 중앙값      :  96.0\n",
    "길이 평균       :  165.59\n",
    "최소길이        :  20\n",
    "최대길이        :  2314\n",
    "세션길이99.9%   :  1343 이하의 길이를 갖는다.\n",
    "```\n"
   ]
  },
  {
   "cell_type": "markdown",
   "metadata": {},
   "source": [
    "### 가장 많은 횟수의 평점을 남긴 ID의 정보 확인\n",
    " - 가장 많은 평점리뷰를 남긴 ID세션을 long_session에 저장 \n",
    " - 4169 = UserId"
   ]
  },
  {
   "cell_type": "code",
   "execution_count": 9,
   "metadata": {},
   "outputs": [],
   "source": [
    "long_session = session_length[session_length == 2314].index[0]\n",
    "df_tmp = data[data['UserId'] == long_session]"
   ]
  },
  {
   "cell_type": "code",
   "execution_count": 10,
   "metadata": {
    "scrolled": true
   },
   "outputs": [
    {
     "data": {
      "text/html": [
       "<div>\n",
       "<style scoped>\n",
       "    .dataframe tbody tr th:only-of-type {\n",
       "        vertical-align: middle;\n",
       "    }\n",
       "\n",
       "    .dataframe tbody tr th {\n",
       "        vertical-align: top;\n",
       "    }\n",
       "\n",
       "    .dataframe thead th {\n",
       "        text-align: right;\n",
       "    }\n",
       "</style>\n",
       "<table border=\"1\" class=\"dataframe\">\n",
       "  <thead>\n",
       "    <tr style=\"text-align: right;\">\n",
       "      <th></th>\n",
       "      <th>UserId</th>\n",
       "      <th>ItemId</th>\n",
       "      <th>Rating</th>\n",
       "      <th>Time</th>\n",
       "    </tr>\n",
       "  </thead>\n",
       "  <tbody>\n",
       "    <tr>\n",
       "      <th>695666</th>\n",
       "      <td>4169</td>\n",
       "      <td>2</td>\n",
       "      <td>3</td>\n",
       "      <td>2000-12-12 11:40:02</td>\n",
       "    </tr>\n",
       "    <tr>\n",
       "      <th>695667</th>\n",
       "      <td>4169</td>\n",
       "      <td>3</td>\n",
       "      <td>2</td>\n",
       "      <td>2000-12-12 11:57:11</td>\n",
       "    </tr>\n",
       "    <tr>\n",
       "      <th>695668</th>\n",
       "      <td>4169</td>\n",
       "      <td>4</td>\n",
       "      <td>3</td>\n",
       "      <td>2000-12-12 11:48:58</td>\n",
       "    </tr>\n",
       "    <tr>\n",
       "      <th>695669</th>\n",
       "      <td>4169</td>\n",
       "      <td>5</td>\n",
       "      <td>2</td>\n",
       "      <td>2000-12-12 11:56:44</td>\n",
       "    </tr>\n",
       "    <tr>\n",
       "      <th>695672</th>\n",
       "      <td>4169</td>\n",
       "      <td>6</td>\n",
       "      <td>4</td>\n",
       "      <td>2000-11-04 13:07:49</td>\n",
       "    </tr>\n",
       "    <tr>\n",
       "      <th>...</th>\n",
       "      <td>...</td>\n",
       "      <td>...</td>\n",
       "      <td>...</td>\n",
       "      <td>...</td>\n",
       "    </tr>\n",
       "    <tr>\n",
       "      <th>696954</th>\n",
       "      <td>4169</td>\n",
       "      <td>3947</td>\n",
       "      <td>4</td>\n",
       "      <td>2000-12-12 11:06:29</td>\n",
       "    </tr>\n",
       "    <tr>\n",
       "      <th>696957</th>\n",
       "      <td>4169</td>\n",
       "      <td>3948</td>\n",
       "      <td>4</td>\n",
       "      <td>2000-12-03 09:21:41</td>\n",
       "    </tr>\n",
       "    <tr>\n",
       "      <th>696959</th>\n",
       "      <td>4169</td>\n",
       "      <td>3949</td>\n",
       "      <td>5</td>\n",
       "      <td>2000-12-03 09:25:16</td>\n",
       "    </tr>\n",
       "    <tr>\n",
       "      <th>696973</th>\n",
       "      <td>4169</td>\n",
       "      <td>3950</td>\n",
       "      <td>3</td>\n",
       "      <td>2001-07-27 09:58:35</td>\n",
       "    </tr>\n",
       "    <tr>\n",
       "      <th>696976</th>\n",
       "      <td>4169</td>\n",
       "      <td>3952</td>\n",
       "      <td>4</td>\n",
       "      <td>2001-03-29 09:34:41</td>\n",
       "    </tr>\n",
       "  </tbody>\n",
       "</table>\n",
       "<p>2314 rows × 4 columns</p>\n",
       "</div>"
      ],
      "text/plain": [
       "        UserId  ItemId  Rating                Time\n",
       "695666    4169       2       3 2000-12-12 11:40:02\n",
       "695667    4169       3       2 2000-12-12 11:57:11\n",
       "695668    4169       4       3 2000-12-12 11:48:58\n",
       "695669    4169       5       2 2000-12-12 11:56:44\n",
       "695672    4169       6       4 2000-11-04 13:07:49\n",
       "...        ...     ...     ...                 ...\n",
       "696954    4169    3947       4 2000-12-12 11:06:29\n",
       "696957    4169    3948       4 2000-12-03 09:21:41\n",
       "696959    4169    3949       5 2000-12-03 09:25:16\n",
       "696973    4169    3950       3 2001-07-27 09:58:35\n",
       "696976    4169    3952       4 2001-03-29 09:34:41\n",
       "\n",
       "[2314 rows x 4 columns]"
      ]
     },
     "execution_count": 10,
     "metadata": {},
     "output_type": "execute_result"
    }
   ],
   "source": [
    "df_tmp"
   ]
  },
  {
   "cell_type": "markdown",
   "metadata": {},
   "source": [
    "### 세션 길에 대한 시각화\n",
    "- 세션 길이에 대한 감을 더 잘 파악하기 위해 시각화를 한다. \n",
    "- 아래는 세션길이 기준 하위 99.9%까지의 분포 누적합을 시각화 한것이다."
   ]
  },
  {
   "cell_type": "code",
   "execution_count": 11,
   "metadata": {},
   "outputs": [
    {
     "data": {
      "text/plain": [
       "20      0.014238\n",
       "21      0.029305\n",
       "22      0.042053\n",
       "23      0.055464\n",
       "24      0.068874\n",
       "          ...   \n",
       "1271    0.998179\n",
       "1277    0.998344\n",
       "1286    0.998510\n",
       "1302    0.998675\n",
       "1323    0.998841\n",
       "Length: 736, dtype: float64"
      ]
     },
     "execution_count": 11,
     "metadata": {},
     "output_type": "execute_result"
    }
   ],
   "source": [
    "length_count = session_length.groupby(session_length).size()\n",
    "length_percent_cumsum = length_count.cumsum() / length_count.sum()\n",
    "length_percent_cumsum_999 = length_percent_cumsum[length_percent_cumsum < 0.999]\n",
    "\n",
    "length_percent_cumsum_999"
   ]
  },
  {
   "cell_type": "code",
   "execution_count": 12,
   "metadata": {
    "scrolled": false
   },
   "outputs": [
    {
     "data": {
      "image/png": "[encoded data removed]",
      "text/plain": [
       "<Figure size 1296x1440 with 1 Axes>"
      ]
     },
     "metadata": {
      "needs_background": "light"
     },
     "output_type": "display_data"
    }
   ],
   "source": [
    "import matplotlib.pyplot as plt\n",
    "\n",
    "plt.figure(figsize=(18, 20))\n",
    "plt.bar(x=length_percent_cumsum_999.index,\n",
    "        height=length_percent_cumsum_999, color='red')\n",
    "plt.xticks(length_percent_cumsum_999.index, fontsize=5)\n",
    "plt.yticks(np.arange(0, 1.01, 0.05),fontsize=5)\n",
    "plt.title('Cumsum Percentage Until 0.999', size=20)\n",
    "plt.show()"
   ]
  },
  {
   "cell_type": "markdown",
   "metadata": {},
   "source": [
    "## ItemId Length\n",
    "- ItemId(영화)당 평점리뷰 횟수\n"
   ]
  },
  {
   "cell_type": "code",
   "execution_count": 13,
   "metadata": {
    "scrolled": true
   },
   "outputs": [
    {
     "data": {
      "text/plain": [
       "ItemId\n",
       "1       2077\n",
       "2        701\n",
       "3        478\n",
       "4        170\n",
       "5        296\n",
       "        ... \n",
       "3948     862\n",
       "3949     304\n",
       "3950      54\n",
       "3951      40\n",
       "3952     388\n",
       "Length: 3706, dtype: int64"
      ]
     },
     "execution_count": 13,
     "metadata": {},
     "output_type": "execute_result"
    }
   ],
   "source": [
    "itemId_length = data.groupby('ItemId').size()\n",
    "itemId_length"
   ]
  },
  {
   "cell_type": "markdown",
   "metadata": {},
   "source": [
    "### ItemId Length통계( )"
   ]
  },
  {
   "cell_type": "code",
   "execution_count": 14,
   "metadata": {},
   "outputs": [
    {
     "data": {
      "text/plain": [
       "(123.5, 269.88909875876953)"
      ]
     },
     "execution_count": 14,
     "metadata": {},
     "output_type": "execute_result"
    }
   ],
   "source": [
    "# 길이 중앙값, 길이평균\n",
    "itemId_length.median(), itemId_length.mean()"
   ]
  },
  {
   "cell_type": "code",
   "execution_count": 15,
   "metadata": {},
   "outputs": [
    {
     "data": {
      "text/plain": [
       "(1, 3428)"
      ]
     },
     "execution_count": 15,
     "metadata": {},
     "output_type": "execute_result"
    }
   ],
   "source": [
    "# 최소길이, 최대길이\n",
    "itemId_length.min(), itemId_length.max()"
   ]
  },
  {
   "cell_type": "code",
   "execution_count": 16,
   "metadata": {},
   "outputs": [
    {
     "data": {
      "text/plain": [
       "2734.2450000001113"
      ]
     },
     "execution_count": 16,
     "metadata": {},
     "output_type": "execute_result"
    }
   ],
   "source": [
    "itemId_length.quantile(0.999)"
   ]
  },
  {
   "cell_type": "markdown",
   "metadata": {},
   "source": [
    "```\n",
    "길이 중앙값      :  123.5\n",
    "길이 평균       :  269.88\n",
    "최소길이        :  1\n",
    "최대길이        :  3428\n",
    "세션길이99.9%   :  2734.24 이하의 길이를 갖는다.\n",
    "```\n"
   ]
  },
  {
   "cell_type": "markdown",
   "metadata": {},
   "source": [
    "### 가장 많은 평점리뷰를 받은 영화의 정보 확인\n",
    " - 가장 많은 평점리뷰 횟수를 받은 영화(item)을 long_session에 저장 \n",
    " - 3428 = ItemId"
   ]
  },
  {
   "cell_type": "code",
   "execution_count": 17,
   "metadata": {},
   "outputs": [],
   "source": [
    "long_itemId = itemId_length[itemId_length == 3428].index[0]\n",
    "df_tmp = data[data['ItemId'] == long_itemId]"
   ]
  },
  {
   "cell_type": "code",
   "execution_count": 18,
   "metadata": {
    "scrolled": false
   },
   "outputs": [
    {
     "data": {
      "text/html": [
       "<div>\n",
       "<style scoped>\n",
       "    .dataframe tbody tr th:only-of-type {\n",
       "        vertical-align: middle;\n",
       "    }\n",
       "\n",
       "    .dataframe tbody tr th {\n",
       "        vertical-align: top;\n",
       "    }\n",
       "\n",
       "    .dataframe thead th {\n",
       "        text-align: right;\n",
       "    }\n",
       "</style>\n",
       "<table border=\"1\" class=\"dataframe\">\n",
       "  <thead>\n",
       "    <tr style=\"text-align: right;\">\n",
       "      <th></th>\n",
       "      <th>UserId</th>\n",
       "      <th>ItemId</th>\n",
       "      <th>Rating</th>\n",
       "      <th>Time</th>\n",
       "    </tr>\n",
       "  </thead>\n",
       "  <tbody>\n",
       "    <tr>\n",
       "      <th>105</th>\n",
       "      <td>2</td>\n",
       "      <td>2858</td>\n",
       "      <td>4</td>\n",
       "      <td>2001-01-01 06:33:54</td>\n",
       "    </tr>\n",
       "    <tr>\n",
       "      <th>202</th>\n",
       "      <td>3</td>\n",
       "      <td>2858</td>\n",
       "      <td>4</td>\n",
       "      <td>2001-01-01 06:10:39</td>\n",
       "    </tr>\n",
       "    <tr>\n",
       "      <th>299</th>\n",
       "      <td>5</td>\n",
       "      <td>2858</td>\n",
       "      <td>4</td>\n",
       "      <td>2000-12-31 14:43:10</td>\n",
       "    </tr>\n",
       "    <tr>\n",
       "      <th>471</th>\n",
       "      <td>6</td>\n",
       "      <td>2858</td>\n",
       "      <td>1</td>\n",
       "      <td>2000-12-31 13:26:49</td>\n",
       "    </tr>\n",
       "    <tr>\n",
       "      <th>585</th>\n",
       "      <td>8</td>\n",
       "      <td>2858</td>\n",
       "      <td>5</td>\n",
       "      <td>2000-12-31 11:30:17</td>\n",
       "    </tr>\n",
       "    <tr>\n",
       "      <th>...</th>\n",
       "      <td>...</td>\n",
       "      <td>...</td>\n",
       "      <td>...</td>\n",
       "      <td>...</td>\n",
       "    </tr>\n",
       "    <tr>\n",
       "      <th>996998</th>\n",
       "      <td>6019</td>\n",
       "      <td>2858</td>\n",
       "      <td>5</td>\n",
       "      <td>2000-04-26 23:49:12</td>\n",
       "    </tr>\n",
       "    <tr>\n",
       "      <th>997895</th>\n",
       "      <td>6027</td>\n",
       "      <td>2858</td>\n",
       "      <td>3</td>\n",
       "      <td>2000-04-26 14:25:36</td>\n",
       "    </tr>\n",
       "    <tr>\n",
       "      <th>998845</th>\n",
       "      <td>6036</td>\n",
       "      <td>2858</td>\n",
       "      <td>5</td>\n",
       "      <td>2000-04-26 09:37:33</td>\n",
       "    </tr>\n",
       "    <tr>\n",
       "      <th>999571</th>\n",
       "      <td>6037</td>\n",
       "      <td>2858</td>\n",
       "      <td>4</td>\n",
       "      <td>2000-04-26 09:33:35</td>\n",
       "    </tr>\n",
       "    <tr>\n",
       "      <th>999938</th>\n",
       "      <td>6040</td>\n",
       "      <td>2858</td>\n",
       "      <td>4</td>\n",
       "      <td>2000-04-26 08:14:35</td>\n",
       "    </tr>\n",
       "  </tbody>\n",
       "</table>\n",
       "<p>3428 rows × 4 columns</p>\n",
       "</div>"
      ],
      "text/plain": [
       "        UserId  ItemId  Rating                Time\n",
       "105          2    2858       4 2001-01-01 06:33:54\n",
       "202          3    2858       4 2001-01-01 06:10:39\n",
       "299          5    2858       4 2000-12-31 14:43:10\n",
       "471          6    2858       1 2000-12-31 13:26:49\n",
       "585          8    2858       5 2000-12-31 11:30:17\n",
       "...        ...     ...     ...                 ...\n",
       "996998    6019    2858       5 2000-04-26 23:49:12\n",
       "997895    6027    2858       3 2000-04-26 14:25:36\n",
       "998845    6036    2858       5 2000-04-26 09:37:33\n",
       "999571    6037    2858       4 2000-04-26 09:33:35\n",
       "999938    6040    2858       4 2000-04-26 08:14:35\n",
       "\n",
       "[3428 rows x 4 columns]"
      ]
     },
     "execution_count": 18,
     "metadata": {},
     "output_type": "execute_result"
    }
   ],
   "source": [
    "df_tmp"
   ]
  },
  {
   "cell_type": "markdown",
   "metadata": {},
   "source": [
    "### 세션 길에 대한 시각화\n",
    "- 세션 길이에 대한 감을 더 잘 파악하기 위해 시각화를 한다. \n",
    "- 아래는 세션길이 기준 하위 99.9%까지의 분포 누적합을 시각화 한것이다."
   ]
  },
  {
   "cell_type": "code",
   "execution_count": 19,
   "metadata": {
    "scrolled": false
   },
   "outputs": [
    {
     "data": {
      "text/plain": [
       "1       0.030761\n",
       "2       0.054776\n",
       "3       0.066109\n",
       "4       0.078251\n",
       "5       0.088775\n",
       "          ...   \n",
       "2583    0.997841\n",
       "2590    0.998111\n",
       "2649    0.998381\n",
       "2653    0.998651\n",
       "2672    0.998921\n",
       "Length: 920, dtype: float64"
      ]
     },
     "execution_count": 19,
     "metadata": {},
     "output_type": "execute_result"
    }
   ],
   "source": [
    "length_count = itemId_length.groupby(itemId_length).size()\n",
    "length_percent_cumsum = length_count.cumsum() / length_count.sum()\n",
    "length_percent_cumsum_999 = length_percent_cumsum[length_percent_cumsum < 0.999]\n",
    "\n",
    "length_percent_cumsum_999"
   ]
  },
  {
   "cell_type": "code",
   "execution_count": 20,
   "metadata": {},
   "outputs": [
    {
     "data": {
      "text/plain": [
       "450     0.809498\n",
       "451     0.810577\n",
       "452     0.811117\n",
       "453     0.812196\n",
       "454     0.812466\n",
       "          ...   \n",
       "2672    0.998921\n",
       "2883    0.999191\n",
       "2990    0.999460\n",
       "2991    0.999730\n",
       "3428    1.000000\n",
       "Length: 491, dtype: float64"
      ]
     },
     "execution_count": 20,
     "metadata": {},
     "output_type": "execute_result"
    }
   ],
   "source": [
    "length_percent_cumsum_80 = length_percent_cumsum[ length_percent_cumsum > 0.809]\n",
    "length_percent_cumsum_80"
   ]
  },
  {
   "cell_type": "code",
   "execution_count": 21,
   "metadata": {
    "scrolled": false
   },
   "outputs": [
    {
     "data": {
      "image/png": "[encoded data removed]",
      "text/plain": [
       "<Figure size 1296x1440 with 1 Axes>"
      ]
     },
     "metadata": {
      "needs_background": "light"
     },
     "output_type": "display_data"
    }
   ],
   "source": [
    "import matplotlib.pyplot as plt\n",
    "\n",
    "plt.figure(figsize=(18, 20))\n",
    "plt.bar(x=length_percent_cumsum_999.index,\n",
    "        height=length_percent_cumsum_999, color='red')\n",
    "plt.xticks(length_percent_cumsum_999.index, fontsize=5)\n",
    "plt.yticks(np.arange(0, 1.01, 0.05),fontsize=30)\n",
    "plt.title('Cumsum Percentage Until 0.999', size=20)\n",
    "plt.show()"
   ]
  },
  {
   "cell_type": "markdown",
   "metadata": {},
   "source": [
    "## Session Time\n",
    "노드 학습한 프로젝트는 4월부터 9월까지여서 데이터가 많았지만 이 평점데이터는 3월부터 4월까지의 밖에 데이터가없기때문에 굳이 데이터를 분리할 필요가 없다. 모든데이터를 사용한다."
   ]
  },
  {
   "cell_type": "markdown",
   "metadata": {},
   "source": [
    "### Time 데이터 확인해보기"
   ]
  },
  {
   "cell_type": "code",
   "execution_count": 22,
   "metadata": {},
   "outputs": [
    {
     "name": "stdout",
     "output_type": "stream",
     "text": [
      "2000-04-26 08:05:32\n",
      "2003-03-01 02:49:50\n"
     ]
    }
   ],
   "source": [
    "oldest, latest = data['Time'].min(), data['Time'].max()\n",
    "print(oldest) \n",
    "print(latest)"
   ]
  },
  {
   "cell_type": "code",
   "execution_count": 23,
   "metadata": {},
   "outputs": [
    {
     "name": "stdout",
     "output_type": "stream",
     "text": [
      "<class 'pandas._libs.tslibs.timestamps.Timestamp'>\n"
     ]
    },
    {
     "data": {
      "text/plain": [
       "Timestamp('2003-03-01 02:49:50')"
      ]
     },
     "execution_count": 23,
     "metadata": {},
     "output_type": "execute_result"
    }
   ],
   "source": [
    "print(type(latest))\n",
    "latest"
   ]
  },
  {
   "cell_type": "markdown",
   "metadata": {},
   "source": [
    "#### latest는 Timestamp 객체이기 때문에 int 객체와의 사칙연산을 지원하지 않습니다.날짜끼리의 차이를 구하고 싶을 때는 datetime 라이브러리의 timedelta 객체를 사용합니다."
   ]
  },
  {
   "cell_type": "code",
   "execution_count": 24,
   "metadata": {
    "scrolled": true
   },
   "outputs": [
    {
     "name": "stdout",
     "output_type": "stream",
     "text": [
      "30 days, 0:00:00\n"
     ]
    }
   ],
   "source": [
    "print(dt.timedelta(30)) "
   ]
  },
  {
   "cell_type": "code",
   "execution_count": 25,
   "metadata": {},
   "outputs": [
    {
     "data": {
      "text/plain": [
       "60"
      ]
     },
     "execution_count": 25,
     "metadata": {},
     "output_type": "execute_result"
    }
   ],
   "source": [
    "365//6"
   ]
  },
  {
   "cell_type": "code",
   "execution_count": 26,
   "metadata": {},
   "outputs": [],
   "source": [
    "month_ago = latest - dt.timedelta(30)     # 최종 날짜로부터 30일 이전 날짜를 구한다.  "
   ]
  },
  {
   "cell_type": "code",
   "execution_count": 27,
   "metadata": {
    "scrolled": true
   },
   "outputs": [
    {
     "name": "stdout",
     "output_type": "stream",
     "text": [
      "<class 'pandas._libs.tslibs.timestamps.Timestamp'>\n"
     ]
    },
    {
     "data": {
      "text/plain": [
       "Timestamp('2003-01-30 02:49:50')"
      ]
     },
     "execution_count": 27,
     "metadata": {},
     "output_type": "execute_result"
    }
   ],
   "source": [
    "print(type(month_ago))\n",
    "month_ago"
   ]
  },
  {
   "cell_type": "markdown",
   "metadata": {},
   "source": [
    "```\n",
    "latest    => 2003-03-01 02:49:50   \n",
    "month_ago => 2003-01-30 02:49:50 \n",
    "```"
   ]
  },
  {
   "cell_type": "markdown",
   "metadata": {},
   "source": [
    "## Data Cleansing\n",
    "1.2에서 살펴보니 길이가 1인 세션도 꽤 있습니다. 우리의 목적은 유저가 최소 1개 이상 클릭했을 때 다음 클릭을 예측하는 것이므로 길이가 1인 세션은 제거해줍니다. 너무 적게 클릭된 아이템은 이상한 아이템일 가능성이 있습니다. 이 역시 제거해줍니다."
   ]
  },
  {
   "cell_type": "code",
   "execution_count": 28,
   "metadata": {},
   "outputs": [],
   "source": [
    "# short_session을 제거한 다음 unpopular item을 제거하면 다시 길이가 1인 session이 생길 수 있습니다.\n",
    "# 이를 위해 반복문을 통해 지속적으로 제거 합니다.\n",
    "def cleanse_recursive(data: pd.DataFrame, shortest, least_click) -> pd.DataFrame:\n",
    "    while True:\n",
    "        before_len = len(data)\n",
    "        data = cleanse_short_session(data, shortest)\n",
    "        data = cleanse_unpopular_item(data, least_click)\n",
    "        after_len = len(data)\n",
    "        if before_len == after_len:\n",
    "            break\n",
    "    return data\n",
    "\n",
    "## 유저 아이디 중 평점횟수가 적은 유저 제거(즉 전문가가 아닌 유저 제거)\n",
    "def cleanse_short_session(data: pd.DataFrame, shortest):\n",
    "    session_len = data.groupby('UserId').size()\n",
    "    session_use = session_len[session_len >= shortest].index\n",
    "    data = data[data['UserId'].isin(session_use)]\n",
    "    return data\n",
    "\n",
    "## 영화중 평점의 횟수가 적은 영화 제거(즉 비주류의 영화 제거)\n",
    "def cleanse_unpopular_item(data: pd.DataFrame, least_click):\n",
    "    item_popular = data.groupby('ItemId').size()\n",
    "    item_use = item_popular[item_popular >= least_click].index\n",
    "    data = data[data['ItemId'].isin(item_use)]\n",
    "    return data\n",
    "\n",
    "\n"
   ]
  },
  {
   "cell_type": "markdown",
   "metadata": {},
   "source": [
    "#### UserId Length(유저ID 당 영화평가 횟수) \n",
    "```  \n",
    "길이 중앙값      :  96.0\n",
    "길이 평균       :  165.59\n",
    "최소길이        :  20\n",
    "최대길이        :  2314\n",
    "세션길이99.9%   :  1343 이하의 길이를 갖는다.\n",
    "```\n",
    "\n",
    "#### ItemId Length(영화 당 평점리뷰 횟수)\n",
    "```\n",
    "길이 중앙값      :  123.5\n",
    "길이 평균       :  269.88\n",
    "최소길이        :  1\n",
    "최대길이        :  3428\n",
    "세션길이99.9%   :  2734.24 이하의 길이를 갖는다.\n",
    "```\n"
   ]
  },
  {
   "cell_type": "markdown",
   "metadata": {},
   "source": [
    "- UserId Length길이는 긴 유저는 영화 전문가 일것이다.  영화전문가 일수록 많은 평점리뷰를 남겼고, 그 평점에 대한 값도 적절할것이다. \n",
    "- ItemId Length는 말 그대로 해당영화에 대한 리뷰의 개수이다. 즉 유명한 영화일수록 길이가 길것이다."
   ]
  },
  {
   "cell_type": "code",
   "execution_count": 29,
   "metadata": {},
   "outputs": [
    {
     "data": {
      "text/html": [
       "<div>\n",
       "<style scoped>\n",
       "    .dataframe tbody tr th:only-of-type {\n",
       "        vertical-align: middle;\n",
       "    }\n",
       "\n",
       "    .dataframe tbody tr th {\n",
       "        vertical-align: top;\n",
       "    }\n",
       "\n",
       "    .dataframe thead th {\n",
       "        text-align: right;\n",
       "    }\n",
       "</style>\n",
       "<table border=\"1\" class=\"dataframe\">\n",
       "  <thead>\n",
       "    <tr style=\"text-align: right;\">\n",
       "      <th></th>\n",
       "      <th>UserId</th>\n",
       "      <th>ItemId</th>\n",
       "      <th>Rating</th>\n",
       "      <th>Time</th>\n",
       "    </tr>\n",
       "  </thead>\n",
       "  <tbody>\n",
       "    <tr>\n",
       "      <th>148</th>\n",
       "      <td>2</td>\n",
       "      <td>21</td>\n",
       "      <td>1</td>\n",
       "      <td>2001-01-01 06:57:19</td>\n",
       "    </tr>\n",
       "    <tr>\n",
       "      <th>133</th>\n",
       "      <td>2</td>\n",
       "      <td>95</td>\n",
       "      <td>2</td>\n",
       "      <td>2001-01-01 07:02:23</td>\n",
       "    </tr>\n",
       "    <tr>\n",
       "      <th>93</th>\n",
       "      <td>2</td>\n",
       "      <td>110</td>\n",
       "      <td>5</td>\n",
       "      <td>2001-01-01 06:37:05</td>\n",
       "    </tr>\n",
       "    <tr>\n",
       "      <th>147</th>\n",
       "      <td>2</td>\n",
       "      <td>163</td>\n",
       "      <td>4</td>\n",
       "      <td>2001-01-01 06:56:49</td>\n",
       "    </tr>\n",
       "    <tr>\n",
       "      <th>149</th>\n",
       "      <td>2</td>\n",
       "      <td>165</td>\n",
       "      <td>3</td>\n",
       "      <td>2001-01-01 07:00:02</td>\n",
       "    </tr>\n",
       "    <tr>\n",
       "      <th>...</th>\n",
       "      <td>...</td>\n",
       "      <td>...</td>\n",
       "      <td>...</td>\n",
       "      <td>...</td>\n",
       "    </tr>\n",
       "    <tr>\n",
       "      <th>1000119</th>\n",
       "      <td>6040</td>\n",
       "      <td>3671</td>\n",
       "      <td>4</td>\n",
       "      <td>2001-08-10 23:39:27</td>\n",
       "    </tr>\n",
       "    <tr>\n",
       "      <th>1000120</th>\n",
       "      <td>6040</td>\n",
       "      <td>3683</td>\n",
       "      <td>4</td>\n",
       "      <td>2000-06-14 17:34:56</td>\n",
       "    </tr>\n",
       "    <tr>\n",
       "      <th>1000178</th>\n",
       "      <td>6040</td>\n",
       "      <td>3703</td>\n",
       "      <td>4</td>\n",
       "      <td>2000-07-29 08:56:15</td>\n",
       "    </tr>\n",
       "    <tr>\n",
       "      <th>1000183</th>\n",
       "      <td>6040</td>\n",
       "      <td>3735</td>\n",
       "      <td>4</td>\n",
       "      <td>2000-06-14 17:34:14</td>\n",
       "    </tr>\n",
       "    <tr>\n",
       "      <th>1000191</th>\n",
       "      <td>6040</td>\n",
       "      <td>3751</td>\n",
       "      <td>4</td>\n",
       "      <td>2000-07-29 08:59:42</td>\n",
       "    </tr>\n",
       "  </tbody>\n",
       "</table>\n",
       "<p>670810 rows × 4 columns</p>\n",
       "</div>"
      ],
      "text/plain": [
       "         UserId  ItemId  Rating                Time\n",
       "148           2      21       1 2001-01-01 06:57:19\n",
       "133           2      95       2 2001-01-01 07:02:23\n",
       "93            2     110       5 2001-01-01 06:37:05\n",
       "147           2     163       4 2001-01-01 06:56:49\n",
       "149           2     165       3 2001-01-01 07:00:02\n",
       "...         ...     ...     ...                 ...\n",
       "1000119    6040    3671       4 2001-08-10 23:39:27\n",
       "1000120    6040    3683       4 2000-06-14 17:34:56\n",
       "1000178    6040    3703       4 2000-07-29 08:56:15\n",
       "1000183    6040    3735       4 2000-06-14 17:34:14\n",
       "1000191    6040    3751       4 2000-07-29 08:59:42\n",
       "\n",
       "[670810 rows x 4 columns]"
      ]
     },
     "execution_count": 29,
     "metadata": {},
     "output_type": "execute_result"
    }
   ],
   "source": [
    "data_test = cleanse_recursive(data, shortest=96, least_click=200)\n",
    "data_tmp=data_test\n",
    "data = data_test\n",
    "data\n",
    "# 1000209 => 670810"
   ]
  },
  {
   "cell_type": "markdown",
   "metadata": {},
   "source": [
    "# Step 2. 미니 배치의 구성\n",
    "실습코드 내역을 참고하여 데이터셋과 미니 배치를 구성해 봅시다. Session-Parallel Mini-Batch의 개념에 따라, 학습 속도의 저하가 최소화될 수 있도록 구성합니다.\n",
    "단, 위 Step 1에서 Session 단위를 어떻게 정의했느냐에 따라서 Session-Parallel Mini-Batch이 굳이 필요하지 않을 수도 있습니다."
   ]
  },
  {
   "cell_type": "markdown",
   "metadata": {},
   "source": [
    "## 데이터 분리하기"
   ]
  },
  {
   "cell_type": "code",
   "execution_count": 30,
   "metadata": {},
   "outputs": [],
   "source": [
    "session_last_time = data.groupby('UserId')['Time'].max()"
   ]
  },
  {
   "cell_type": "code",
   "execution_count": 31,
   "metadata": {
    "scrolled": true
   },
   "outputs": [
    {
     "data": {
      "text/plain": [
       "UserId\n",
       "2      2001-01-01 07:02:54\n",
       "5      2000-12-31 16:09:45\n",
       "8      2000-12-31 16:19:03\n",
       "9      2000-12-31 10:37:58\n",
       "10     2001-01-28 08:37:13\n",
       "               ...        \n",
       "6035   2000-04-26 10:47:20\n",
       "6036   2000-04-26 22:19:56\n",
       "6037   2000-04-27 11:17:20\n",
       "6039   2000-04-26 23:07:09\n",
       "6040   2001-08-20 22:44:15\n",
       "Name: Time, Length: 2712, dtype: datetime64[ns]"
      ]
     },
     "execution_count": 31,
     "metadata": {},
     "output_type": "execute_result"
    }
   ],
   "source": [
    "session_last_time"
   ]
  },
  {
   "cell_type": "code",
   "execution_count": 32,
   "metadata": {},
   "outputs": [
    {
     "data": {
      "text/plain": [
       "Timestamp('2003-03-01 02:49:50')"
      ]
     },
     "execution_count": 32,
     "metadata": {},
     "output_type": "execute_result"
    }
   ],
   "source": [
    "final_time = data['Time'].max()\n",
    "final_time"
   ]
  },
  {
   "cell_type": "markdown",
   "metadata": {},
   "source": [
    "### 데이터 분리함수 split_by_date"
   ]
  },
  {
   "cell_type": "code",
   "execution_count": 33,
   "metadata": {},
   "outputs": [],
   "source": [
    "def split_by_date(data: pd.DataFrame, n_days: int):\n",
    "     #마지막날 = session_last_time\n",
    "    final_time = data['Time'].max()\n",
    "    # 세션아이디기준 time이 마지막인날\n",
    "    session_last_time = data.groupby('UserId')['Time'].max()\n",
    "    \n",
    "    session_in_train = session_last_time[session_last_time < final_time - dt.timedelta(n_days)].index\n",
    "    session_in_test = session_last_time[session_last_time >= final_time - dt.timedelta(n_days)].index\n",
    "\n",
    "    before_date = data[data['UserId'].isin(session_in_train)]\n",
    "    after_date = data[data['UserId'].isin(session_in_test)]\n",
    "    after_date = after_date[after_date['ItemId'].isin(before_date['ItemId'])]\n",
    "    return before_date, after_date"
   ]
  },
  {
   "cell_type": "code",
   "execution_count": 34,
   "metadata": {},
   "outputs": [],
   "source": [
    "tr, test = split_by_date(data, n_days=100)\n",
    "tr, val = split_by_date(tr, n_days=100)"
   ]
  },
  {
   "cell_type": "code",
   "execution_count": 35,
   "metadata": {},
   "outputs": [],
   "source": [
    "# data에 대한 정보를 살펴봅니다.\n",
    "def stats_info(data: pd.DataFrame, status: str):\n",
    "    print(f'* {status} Set Stats Info\\n'\n",
    "          f'\\t Events: {len(data)}\\n'\n",
    "          f'\\t Sessions: {data[\"UserId\"].nunique()}\\n'\n",
    "          f'\\t Items: {data[\"UserId\"].nunique()}\\n'\n",
    "          f'\\t First Time : {data[\"Time\"].min()}\\n'\n",
    "          f'\\t Last Time : {data[\"Time\"].max()}\\n')"
   ]
  },
  {
   "cell_type": "markdown",
   "metadata": {},
   "source": [
    "### 훈련,벨류데이션,테스트 데이터 정보 출력"
   ]
  },
  {
   "cell_type": "code",
   "execution_count": 36,
   "metadata": {
    "scrolled": true
   },
   "outputs": [
    {
     "name": "stdout",
     "output_type": "stream",
     "text": [
      "* train Set Stats Info\n",
      "\t Events: 562706\n",
      "\t Sessions: 2415\n",
      "\t Items: 2415\n",
      "\t First Time : 2000-04-26 08:05:32\n",
      "\t Last Time : 2002-08-06 14:21:37\n",
      "\n",
      "* valid Set Stats Info\n",
      "\t Events: 28465\n",
      "\t Sessions: 84\n",
      "\t Items: 84\n",
      "\t First Time : 2000-04-28 01:38:08\n",
      "\t Last Time : 2002-11-18 05:56:25\n",
      "\n",
      "* test Set Stats Info\n",
      "\t Events: 79639\n",
      "\t Sessions: 213\n",
      "\t Items: 213\n",
      "\t First Time : 2000-05-01 20:15:13\n",
      "\t Last Time : 2003-03-01 02:49:50\n",
      "\n"
     ]
    }
   ],
   "source": [
    "stats_info(tr, 'train')\n",
    "stats_info(val, 'valid')\n",
    "stats_info(test, 'test')"
   ]
  },
  {
   "cell_type": "code",
   "execution_count": 37,
   "metadata": {},
   "outputs": [],
   "source": [
    "# train set에 없는 아이템이 val, test기간에 생길 수 있으므로 train data를 기준으로 인덱싱합니다.\n",
    "id2idx = {item_id : index for index, item_id in enumerate(tr['ItemId'].unique())}\n",
    "\n",
    "def indexing(df, id2idx):\n",
    "    df['item_idx'] = df['ItemId'].map(lambda x: id2idx.get(x, -1))  # id2idx에 없는 아이템은 모르는 값(-1) 처리 해줍니다.\n",
    "    return df\n",
    "\n",
    "tr = indexing(tr, id2idx)\n",
    "val = indexing(val, id2idx)\n",
    "test = indexing(test, id2idx)"
   ]
  },
  {
   "cell_type": "markdown",
   "metadata": {},
   "source": [
    "이제 데이터 준비를 마쳤습니다! 데이터를 저장한 다음 data pipeline을 구축하는 단계로 넘어가겠습니다."
   ]
  },
  {
   "cell_type": "code",
   "execution_count": 38,
   "metadata": {},
   "outputs": [],
   "source": [
    "save_path = data_path / 'processed'\n",
    "save_path.mkdir(parents=True, exist_ok=True)\n",
    "\n",
    "tr.to_pickle(save_path / 'train.pkl')\n",
    "val.to_pickle(save_path / 'valid.pkl')\n",
    "test.to_pickle(save_path / 'test.pkl')"
   ]
  },
  {
   "cell_type": "markdown",
   "metadata": {},
   "source": [
    "# Step 3. 모델 구성\n",
    "이 부분도 실습코드 내역을 참고하여 다양하게 모델 구조를 시도해볼 수 있습니다."
   ]
  },
  {
   "cell_type": "markdown",
   "metadata": {},
   "source": [
    "## Session-Parallel Mini-Batch 를 구현해 봅니다."
   ]
  },
  {
   "cell_type": "markdown",
   "metadata": {},
   "source": [
    "###  1)SessionDataset\n",
    "데이터가 주어지면 세션이 시작되는 인덱스를 담는 값과 세션을 새로 인덱싱한 값을 갖는 클래스를 만듭니다."
   ]
  },
  {
   "cell_type": "code",
   "execution_count": 39,
   "metadata": {},
   "outputs": [],
   "source": [
    "class SessionDataset:\n",
    "    \"\"\"Credit to yhs-968/pyGRU4REC.\"\"\"\n",
    "\n",
    "    def __init__(self, data):\n",
    "        self.df = data\n",
    "        self.click_offsets = self.get_click_offsets()\n",
    "        self.session_idx = np.arange(self.df['UserId'].nunique())  # indexing to UserId\n",
    "\n",
    "    def get_click_offsets(self):\n",
    "        \"\"\"\n",
    "        Return the indexes of the first click of each session IDs,\n",
    "        \"\"\"\n",
    "        offsets = np.zeros(self.df['UserId'].nunique() + 1, dtype=np.int32)\n",
    "        offsets[1:] = self.df.groupby('UserId').size().cumsum()\n",
    "        return offsets"
   ]
  },
  {
   "cell_type": "markdown",
   "metadata": {},
   "source": [
    "train데이터로 SessionDataset 객체를 만들고 인스턴스 변수들을 살펴보겠습니다.\n",
    "\n",
    "click_offsets 변수는 각 세션이 시작된 인덱스를 담고 있습니다.    \n",
    "session_idx 변수는 각 세션을 인덱싱한 np.array 입니다.       "
   ]
  },
  {
   "cell_type": "code",
   "execution_count": 40,
   "metadata": {
    "scrolled": false
   },
   "outputs": [
    {
     "data": {
      "text/html": [
       "<div>\n",
       "<style scoped>\n",
       "    .dataframe tbody tr th:only-of-type {\n",
       "        vertical-align: middle;\n",
       "    }\n",
       "\n",
       "    .dataframe tbody tr th {\n",
       "        vertical-align: top;\n",
       "    }\n",
       "\n",
       "    .dataframe thead th {\n",
       "        text-align: right;\n",
       "    }\n",
       "</style>\n",
       "<table border=\"1\" class=\"dataframe\">\n",
       "  <thead>\n",
       "    <tr style=\"text-align: right;\">\n",
       "      <th></th>\n",
       "      <th>UserId</th>\n",
       "      <th>ItemId</th>\n",
       "      <th>Rating</th>\n",
       "      <th>Time</th>\n",
       "      <th>item_idx</th>\n",
       "    </tr>\n",
       "  </thead>\n",
       "  <tbody>\n",
       "    <tr>\n",
       "      <th>148</th>\n",
       "      <td>2</td>\n",
       "      <td>21</td>\n",
       "      <td>1</td>\n",
       "      <td>2001-01-01 06:57:19</td>\n",
       "      <td>0</td>\n",
       "    </tr>\n",
       "    <tr>\n",
       "      <th>133</th>\n",
       "      <td>2</td>\n",
       "      <td>95</td>\n",
       "      <td>2</td>\n",
       "      <td>2001-01-01 07:02:23</td>\n",
       "      <td>1</td>\n",
       "    </tr>\n",
       "    <tr>\n",
       "      <th>93</th>\n",
       "      <td>2</td>\n",
       "      <td>110</td>\n",
       "      <td>5</td>\n",
       "      <td>2001-01-01 06:37:05</td>\n",
       "      <td>2</td>\n",
       "    </tr>\n",
       "    <tr>\n",
       "      <th>147</th>\n",
       "      <td>2</td>\n",
       "      <td>163</td>\n",
       "      <td>4</td>\n",
       "      <td>2001-01-01 06:56:49</td>\n",
       "      <td>3</td>\n",
       "    </tr>\n",
       "    <tr>\n",
       "      <th>149</th>\n",
       "      <td>2</td>\n",
       "      <td>165</td>\n",
       "      <td>3</td>\n",
       "      <td>2001-01-01 07:00:02</td>\n",
       "      <td>4</td>\n",
       "    </tr>\n",
       "    <tr>\n",
       "      <th>144</th>\n",
       "      <td>2</td>\n",
       "      <td>235</td>\n",
       "      <td>3</td>\n",
       "      <td>2001-01-01 06:49:11</td>\n",
       "      <td>5</td>\n",
       "    </tr>\n",
       "    <tr>\n",
       "      <th>111</th>\n",
       "      <td>2</td>\n",
       "      <td>265</td>\n",
       "      <td>4</td>\n",
       "      <td>2001-01-01 06:43:46</td>\n",
       "      <td>6</td>\n",
       "    </tr>\n",
       "    <tr>\n",
       "      <th>80</th>\n",
       "      <td>2</td>\n",
       "      <td>292</td>\n",
       "      <td>3</td>\n",
       "      <td>2001-01-01 07:02:03</td>\n",
       "      <td>7</td>\n",
       "    </tr>\n",
       "    <tr>\n",
       "      <th>172</th>\n",
       "      <td>2</td>\n",
       "      <td>318</td>\n",
       "      <td>5</td>\n",
       "      <td>2001-01-01 06:33:33</td>\n",
       "      <td>8</td>\n",
       "    </tr>\n",
       "    <tr>\n",
       "      <th>154</th>\n",
       "      <td>2</td>\n",
       "      <td>349</td>\n",
       "      <td>4</td>\n",
       "      <td>2001-01-01 06:57:19</td>\n",
       "      <td>9</td>\n",
       "    </tr>\n",
       "  </tbody>\n",
       "</table>\n",
       "</div>"
      ],
      "text/plain": [
       "     UserId  ItemId  Rating                Time  item_idx\n",
       "148       2      21       1 2001-01-01 06:57:19         0\n",
       "133       2      95       2 2001-01-01 07:02:23         1\n",
       "93        2     110       5 2001-01-01 06:37:05         2\n",
       "147       2     163       4 2001-01-01 06:56:49         3\n",
       "149       2     165       3 2001-01-01 07:00:02         4\n",
       "144       2     235       3 2001-01-01 06:49:11         5\n",
       "111       2     265       4 2001-01-01 06:43:46         6\n",
       "80        2     292       3 2001-01-01 07:02:03         7\n",
       "172       2     318       5 2001-01-01 06:33:33         8\n",
       "154       2     349       4 2001-01-01 06:57:19         9"
      ]
     },
     "execution_count": 40,
     "metadata": {},
     "output_type": "execute_result"
    }
   ],
   "source": [
    "tr_dataset = SessionDataset(tr)\n",
    "tr_dataset.df.head(10)"
   ]
  },
  {
   "cell_type": "code",
   "execution_count": 41,
   "metadata": {
    "scrolled": true
   },
   "outputs": [
    {
     "data": {
      "text/plain": [
       "array([     0,    120,    260, ..., 562327, 562430, 562706], dtype=int32)"
      ]
     },
     "execution_count": 41,
     "metadata": {},
     "output_type": "execute_result"
    }
   ],
   "source": [
    "tr_dataset.click_offsets"
   ]
  },
  {
   "cell_type": "code",
   "execution_count": 42,
   "metadata": {
    "scrolled": true
   },
   "outputs": [
    {
     "data": {
      "text/plain": [
       "array([   0,    1,    2, ..., 2412, 2413, 2414])"
      ]
     },
     "execution_count": 42,
     "metadata": {},
     "output_type": "execute_result"
    }
   ],
   "source": [
    "tr_dataset.session_idx"
   ]
  },
  {
   "cell_type": "markdown",
   "metadata": {},
   "source": [
    "### 2) SessionDataLoader\n",
    "\n",
    "SessionDataset 객체를 받아서 Session-Parallel mini-batch를 만드는 클래스를 만듭니다.\n",
    "__iter__ 메소드는 모델 인풋, 라벨, 세션이 끝나는 곳의 위치를 yield합니다.\n",
    "mask는 후에 RNN Cell State를 초기화 하는데 사용할 것입니다."
   ]
  },
  {
   "cell_type": "code",
   "execution_count": 57,
   "metadata": {},
   "outputs": [],
   "source": [
    "class SessionDataLoader:\n",
    "    \"\"\"Credit to yhs-968/pyGRU4REC.\"\"\"\n",
    "\n",
    "    def __init__(self, dataset: SessionDataset, batch_size=20):\n",
    "        self.dataset = dataset\n",
    "        self.batch_size = batch_size\n",
    "\n",
    "    def __iter__(self):\n",
    "        \"\"\" Returns the iterator for producing session-parallel training mini-batches.\n",
    "        Yields:\n",
    "            input (B,):  Item indices that will be encoded as one-hot vectors later.\n",
    "            target (B,): a Variable that stores the target item indices\n",
    "            masks: Numpy array indicating the positions of the sessions to be terminated\n",
    "        \"\"\"\n",
    "\n",
    "        start, end, mask, last_session, finished = self.initialize()  # initialize 메소드에서 확인해주세요.\n",
    "        \"\"\"\n",
    "        start : Index Where Session Start\n",
    "        end : Index Where Session End\n",
    "        mask : indicator for the sessions to be terminated\n",
    "        \"\"\"\n",
    "\n",
    "        while not finished:\n",
    "            min_len = (end - start).min() - 1  # Shortest Length Among Sessions\n",
    "            for i in range(min_len):\n",
    "                # Build inputs & targets\n",
    "                inp = self.dataset.df['item_idx'].values[start + i]\n",
    "                target = self.dataset.df['item_idx'].values[start + i + 1]\n",
    "                yield inp, target, mask\n",
    "\n",
    "            start, end, mask, last_session, finished = self.update_status(start, end, min_len, last_session, finished)\n",
    "\n",
    "    def initialize(self):\n",
    "        first_iters = np.arange(self.batch_size)    # 첫 배치에 사용할 세션 Index를 가져옵니다.\n",
    "        last_session = self.batch_size - 1    # 마지막으로 다루고 있는 세션 Index를 저장해둡니다.\n",
    "        start = self.dataset.click_offsets[self.dataset.session_idx[first_iters]]       # data 상에서 session이 시작된 위치를 가져옵니다.\n",
    "        end = self.dataset.click_offsets[self.dataset.session_idx[first_iters] + 1]  # session이 끝난 위치 바로 다음 위치를 가져옵니다.\n",
    "        mask = np.array([])   # session의 모든 아이템을 다 돌은 경우 mask에 추가해줄 것입니다.\n",
    "        finished = False         # data를 전부 돌았는지 기록하기 위한 변수입니다.\n",
    "        return start, end, mask, last_session, finished\n",
    "\n",
    "    def update_status(self, start: np.ndarray, end: np.ndarray, min_len: int, last_session: int, finished: bool):  \n",
    "        # 다음 배치 데이터를 생성하기 위해 상태를 update합니다.\n",
    "        \n",
    "        start += min_len   # __iter__에서 min_len 만큼 for문을 돌았으므로 start를 min_len 만큼 더해줍니다.\n",
    "        mask = np.arange(self.batch_size)[(end - start) == 1]  \n",
    "        # end는 다음 세션이 시작되는 위치인데 start와 한 칸 차이난다는 것은 session이 끝났다는 뜻입니다. mask에 기록해줍니다.\n",
    "\n",
    "        for i, idx in enumerate(mask, start=1):  # mask에 추가된 세션 개수만큼 새로운 세션을 돌것입니다.\n",
    "            new_session = last_session + i  \n",
    "            if new_session > self.dataset.session_idx[-1]:  # 만약 새로운 세션이 마지막 세션 index보다 크다면 모든 학습데이터를 돈 것입니다.\n",
    "                finished = True\n",
    "                break\n",
    "            # update the next starting/ending point\n",
    "            start[idx] = self.dataset.click_offsets[self.dataset.session_idx[new_session]]     # 종료된 세션 대신 새로운 세션의 시작점을 기록합니다.\n",
    "            end[idx] = self.dataset.click_offsets[self.dataset.session_idx[new_session] + 1]\n",
    "\n",
    "        last_session += len(mask)  # 마지막 세션의 위치를 기록해둡니다.\n",
    "        return start, end, mask, last_session, finished"
   ]
  },
  {
   "cell_type": "code",
   "execution_count": 58,
   "metadata": {
    "scrolled": true
   },
   "outputs": [
    {
     "data": {
      "text/html": [
       "<div>\n",
       "<style scoped>\n",
       "    .dataframe tbody tr th:only-of-type {\n",
       "        vertical-align: middle;\n",
       "    }\n",
       "\n",
       "    .dataframe tbody tr th {\n",
       "        vertical-align: top;\n",
       "    }\n",
       "\n",
       "    .dataframe thead th {\n",
       "        text-align: right;\n",
       "    }\n",
       "</style>\n",
       "<table border=\"1\" class=\"dataframe\">\n",
       "  <thead>\n",
       "    <tr style=\"text-align: right;\">\n",
       "      <th></th>\n",
       "      <th>UserId</th>\n",
       "      <th>ItemId</th>\n",
       "      <th>Rating</th>\n",
       "      <th>Time</th>\n",
       "      <th>item_idx</th>\n",
       "    </tr>\n",
       "  </thead>\n",
       "  <tbody>\n",
       "    <tr>\n",
       "      <th>148</th>\n",
       "      <td>2</td>\n",
       "      <td>21</td>\n",
       "      <td>1</td>\n",
       "      <td>2001-01-01 06:57:19</td>\n",
       "      <td>0</td>\n",
       "    </tr>\n",
       "    <tr>\n",
       "      <th>133</th>\n",
       "      <td>2</td>\n",
       "      <td>95</td>\n",
       "      <td>2</td>\n",
       "      <td>2001-01-01 07:02:23</td>\n",
       "      <td>1</td>\n",
       "    </tr>\n",
       "    <tr>\n",
       "      <th>93</th>\n",
       "      <td>2</td>\n",
       "      <td>110</td>\n",
       "      <td>5</td>\n",
       "      <td>2001-01-01 06:37:05</td>\n",
       "      <td>2</td>\n",
       "    </tr>\n",
       "    <tr>\n",
       "      <th>147</th>\n",
       "      <td>2</td>\n",
       "      <td>163</td>\n",
       "      <td>4</td>\n",
       "      <td>2001-01-01 06:56:49</td>\n",
       "      <td>3</td>\n",
       "    </tr>\n",
       "    <tr>\n",
       "      <th>149</th>\n",
       "      <td>2</td>\n",
       "      <td>165</td>\n",
       "      <td>3</td>\n",
       "      <td>2001-01-01 07:00:02</td>\n",
       "      <td>4</td>\n",
       "    </tr>\n",
       "    <tr>\n",
       "      <th>144</th>\n",
       "      <td>2</td>\n",
       "      <td>235</td>\n",
       "      <td>3</td>\n",
       "      <td>2001-01-01 06:49:11</td>\n",
       "      <td>5</td>\n",
       "    </tr>\n",
       "    <tr>\n",
       "      <th>111</th>\n",
       "      <td>2</td>\n",
       "      <td>265</td>\n",
       "      <td>4</td>\n",
       "      <td>2001-01-01 06:43:46</td>\n",
       "      <td>6</td>\n",
       "    </tr>\n",
       "    <tr>\n",
       "      <th>80</th>\n",
       "      <td>2</td>\n",
       "      <td>292</td>\n",
       "      <td>3</td>\n",
       "      <td>2001-01-01 07:02:03</td>\n",
       "      <td>7</td>\n",
       "    </tr>\n",
       "    <tr>\n",
       "      <th>172</th>\n",
       "      <td>2</td>\n",
       "      <td>318</td>\n",
       "      <td>5</td>\n",
       "      <td>2001-01-01 06:33:33</td>\n",
       "      <td>8</td>\n",
       "    </tr>\n",
       "    <tr>\n",
       "      <th>154</th>\n",
       "      <td>2</td>\n",
       "      <td>349</td>\n",
       "      <td>4</td>\n",
       "      <td>2001-01-01 06:57:19</td>\n",
       "      <td>9</td>\n",
       "    </tr>\n",
       "    <tr>\n",
       "      <th>177</th>\n",
       "      <td>2</td>\n",
       "      <td>356</td>\n",
       "      <td>5</td>\n",
       "      <td>2001-01-01 06:54:46</td>\n",
       "      <td>10</td>\n",
       "    </tr>\n",
       "    <tr>\n",
       "      <th>84</th>\n",
       "      <td>2</td>\n",
       "      <td>368</td>\n",
       "      <td>4</td>\n",
       "      <td>2001-01-01 07:00:02</td>\n",
       "      <td>11</td>\n",
       "    </tr>\n",
       "    <tr>\n",
       "      <th>152</th>\n",
       "      <td>2</td>\n",
       "      <td>380</td>\n",
       "      <td>5</td>\n",
       "      <td>2001-01-01 06:56:49</td>\n",
       "      <td>12</td>\n",
       "    </tr>\n",
       "    <tr>\n",
       "      <th>73</th>\n",
       "      <td>2</td>\n",
       "      <td>434</td>\n",
       "      <td>2</td>\n",
       "      <td>2001-01-01 07:02:54</td>\n",
       "      <td>13</td>\n",
       "    </tr>\n",
       "    <tr>\n",
       "      <th>109</th>\n",
       "      <td>2</td>\n",
       "      <td>442</td>\n",
       "      <td>3</td>\n",
       "      <td>2001-01-01 07:00:25</td>\n",
       "      <td>14</td>\n",
       "    </tr>\n",
       "  </tbody>\n",
       "</table>\n",
       "</div>"
      ],
      "text/plain": [
       "     UserId  ItemId  Rating                Time  item_idx\n",
       "148       2      21       1 2001-01-01 06:57:19         0\n",
       "133       2      95       2 2001-01-01 07:02:23         1\n",
       "93        2     110       5 2001-01-01 06:37:05         2\n",
       "147       2     163       4 2001-01-01 06:56:49         3\n",
       "149       2     165       3 2001-01-01 07:00:02         4\n",
       "144       2     235       3 2001-01-01 06:49:11         5\n",
       "111       2     265       4 2001-01-01 06:43:46         6\n",
       "80        2     292       3 2001-01-01 07:02:03         7\n",
       "172       2     318       5 2001-01-01 06:33:33         8\n",
       "154       2     349       4 2001-01-01 06:57:19         9\n",
       "177       2     356       5 2001-01-01 06:54:46        10\n",
       "84        2     368       4 2001-01-01 07:00:02        11\n",
       "152       2     380       5 2001-01-01 06:56:49        12\n",
       "73        2     434       2 2001-01-01 07:02:54        13\n",
       "109       2     442       3 2001-01-01 07:00:25        14"
      ]
     },
     "execution_count": 58,
     "metadata": {},
     "output_type": "execute_result"
    }
   ],
   "source": [
    "tr_data_loader = SessionDataLoader(tr_dataset, batch_size=4)\n",
    "tr_dataset.df.head(15)"
   ]
  },
  {
   "cell_type": "code",
   "execution_count": 59,
   "metadata": {},
   "outputs": [],
   "source": [
    "iter_ex = iter(tr_data_loader)"
   ]
  },
  {
   "cell_type": "markdown",
   "metadata": {},
   "source": [
    "아래 셀을 반복 실행하면 next가 계속 다음 데이터를 만듭니다. input, output, mask의 감을 잡아 봅시다."
   ]
  },
  {
   "cell_type": "code",
   "execution_count": 60,
   "metadata": {},
   "outputs": [
    {
     "name": "stdout",
     "output_type": "stream",
     "text": [
      "Model Input Item Idx are : [  0 120 240 240]\n",
      "Label Item Idx are :       [  1 121 121 121]\n",
      "Previous Masked Input Idx are []\n"
     ]
    }
   ],
   "source": [
    "inputs, labels, mask =  next(iter_ex)\n",
    "print(f'Model Input Item Idx are : {inputs}')\n",
    "print(f'Label Item Idx are : {\"\":5} {labels}')\n",
    "print(f'Previous Masked Input Idx are {mask}')"
   ]
  },
  {
   "cell_type": "markdown",
   "metadata": {},
   "source": [
    "# Step 4. 모델 학습\n",
    "다양한 하이퍼파라미터를 변경해 보며 검증해 보도록 합니다. 실습코드에 언급되었던 Recall, MRR 등의 개념들도 함께 관리될 수 있도록 합니다."
   ]
  },
  {
   "cell_type": "markdown",
   "metadata": {},
   "source": [
    "## Evaluation Metric\n"
   ]
  },
  {
   "cell_type": "code",
   "execution_count": 61,
   "metadata": {},
   "outputs": [],
   "source": [
    "def mrr_k(pred, truth: int, k: int):\n",
    "    indexing = np.where(pred[:k] == truth)[0]\n",
    "    if len(indexing) > 0:\n",
    "        return 1 / (indexing[0] + 1)\n",
    "    else:\n",
    "        return 0\n",
    "\n",
    "\n",
    "def recall_k(pred, truth: int, k: int) -> int:\n",
    "    answer = truth in pred[:k]\n",
    "    return int(answer)"
   ]
  },
  {
   "cell_type": "markdown",
   "metadata": {},
   "source": [
    "## Model Architecture\n",
    "모델 구조가 간단한 편이므로 Functional하게 모델을 만들겠습니다.\n",
    "\n",
    "학습 진행률을 모니터링하기 위해 사용하는 tqdm 라이브러리가 설치되어 있지 않다면 다음과 같이 설치해 주세요.\n",
    "```\n",
    "! pip install tqdm\n",
    "```"
   ]
  },
  {
   "cell_type": "code",
   "execution_count": 62,
   "metadata": {},
   "outputs": [],
   "source": [
    "import numpy as np\n",
    "import tensorflow as tf\n",
    "from tensorflow.keras.layers import Input, Dense, Dropout, GRU\n",
    "from tensorflow.keras.losses import categorical_crossentropy\n",
    "from tensorflow.keras.models import Model\n",
    "from tensorflow.keras.optimizers import Adam\n",
    "from tensorflow.keras.utils import to_categorical\n",
    "from tqdm import tqdm"
   ]
  },
  {
   "cell_type": "code",
   "execution_count": 63,
   "metadata": {},
   "outputs": [],
   "source": [
    "def create_model(args):\n",
    "    inputs = Input(batch_shape=(args.batch_size, 1, args.num_items))\n",
    "    gru, _ = GRU(args.hsz, stateful=True, return_state=True, name='GRU')(inputs)\n",
    "    dropout = Dropout(args.drop_rate)(gru)\n",
    "    predictions = Dense(args.num_items, activation='softmax')(dropout)\n",
    "    model = Model(inputs=inputs, outputs=[predictions])\n",
    "    model.compile(loss=categorical_crossentropy, optimizer=Adam(args.lr), metrics=['accuracy'])\n",
    "    model.summary()\n",
    "    return model"
   ]
  },
  {
   "cell_type": "markdown",
   "metadata": {},
   "source": [
    "모델에 사용할 hyper-parameter를 class형식으로 관리하겠습니다."
   ]
  },
  {
   "cell_type": "code",
   "execution_count": 106,
   "metadata": {},
   "outputs": [],
   "source": [
    "class Args:\n",
    "    def __init__(self, tr, val, test, batch_size, hsz, drop_rate, lr, epochs, k):\n",
    "        self.tr = tr\n",
    "        self.val = val\n",
    "        self.test = test\n",
    "        self.num_items = tr['ItemId'].nunique()\n",
    "        self.num_sessions = tr['UserId'].nunique()\n",
    "        self.batch_size = batch_size\n",
    "        self.hsz = hsz\n",
    "        self.drop_rate = drop_rate\n",
    "        self.lr = lr\n",
    "        self.epochs = epochs\n",
    "        self.k = k\n",
    "\n",
    "args01 = Args(tr, val, test, batch_size=128, hsz=50, drop_rate=0.1, lr=0.001, epochs=5, k=20)\n",
    "args02 = Args(tr, val, test, batch_size=64, hsz=50, drop_rate=0.1, lr=0.001, epochs=5, k=20)\n",
    "args03 = Args(tr, val, test, batch_size=64, hsz=50, drop_rate=0.2, lr=0.001, epochs=5, k=20)\n",
    "args04 = Args(tr, val, test, batch_size=32, hsz=50, drop_rate=0.2, lr=0.001, epochs=5, k=20)\n",
    "args05 = Args(tr, val, test, batch_size=32, hsz=50, drop_rate=0.1, lr=0.001, epochs=5, k=20)\n",
    "args06 = Args(tr, val, test, batch_size=32, hsz=20, drop_rate=0.1, lr=0.001, epochs=5, k=20)\n",
    "args07 = Args(tr, val, test, batch_size=32, hsz=60, drop_rate=0.1, lr=0.001, epochs=5, k=20)"
   ]
  },
  {
   "cell_type": "code",
   "execution_count": 107,
   "metadata": {},
   "outputs": [
    {
     "name": "stdout",
     "output_type": "stream",
     "text": [
      "Model: \"model_25\"\n",
      "_________________________________________________________________\n",
      "Layer (type)                 Output Shape              Param #   \n",
      "=================================================================\n",
      "input_26 (InputLayer)        [(128, 1, 1282)]          0         \n",
      "_________________________________________________________________\n",
      "GRU (GRU)                    [(128, 50), (128, 50)]    200100    \n",
      "_________________________________________________________________\n",
      "dropout_25 (Dropout)         (128, 50)                 0         \n",
      "_________________________________________________________________\n",
      "dense_25 (Dense)             (128, 1282)               65382     \n",
      "=================================================================\n",
      "Total params: 265,482\n",
      "Trainable params: 265,482\n",
      "Non-trainable params: 0\n",
      "_________________________________________________________________\n",
      "Model: \"model_26\"\n",
      "_________________________________________________________________\n",
      "Layer (type)                 Output Shape              Param #   \n",
      "=================================================================\n",
      "input_27 (InputLayer)        [(64, 1, 1282)]           0         \n",
      "_________________________________________________________________\n",
      "GRU (GRU)                    [(64, 50), (64, 50)]      200100    \n",
      "_________________________________________________________________\n",
      "dropout_26 (Dropout)         (64, 50)                  0         \n",
      "_________________________________________________________________\n",
      "dense_26 (Dense)             (64, 1282)                65382     \n",
      "=================================================================\n",
      "Total params: 265,482\n",
      "Trainable params: 265,482\n",
      "Non-trainable params: 0\n",
      "_________________________________________________________________\n",
      "Model: \"model_27\"\n",
      "_________________________________________________________________\n",
      "Layer (type)                 Output Shape              Param #   \n",
      "=================================================================\n",
      "input_28 (InputLayer)        [(64, 1, 1282)]           0         \n",
      "_________________________________________________________________\n",
      "GRU (GRU)                    [(64, 50), (64, 50)]      200100    \n",
      "_________________________________________________________________\n",
      "dropout_27 (Dropout)         (64, 50)                  0         \n",
      "_________________________________________________________________\n",
      "dense_27 (Dense)             (64, 1282)                65382     \n",
      "=================================================================\n",
      "Total params: 265,482\n",
      "Trainable params: 265,482\n",
      "Non-trainable params: 0\n",
      "_________________________________________________________________\n",
      "Model: \"model_28\"\n",
      "_________________________________________________________________\n",
      "Layer (type)                 Output Shape              Param #   \n",
      "=================================================================\n",
      "input_29 (InputLayer)        [(32, 1, 1282)]           0         \n",
      "_________________________________________________________________\n",
      "GRU (GRU)                    [(32, 50), (32, 50)]      200100    \n",
      "_________________________________________________________________\n",
      "dropout_28 (Dropout)         (32, 50)                  0         \n",
      "_________________________________________________________________\n",
      "dense_28 (Dense)             (32, 1282)                65382     \n",
      "=================================================================\n",
      "Total params: 265,482\n",
      "Trainable params: 265,482\n",
      "Non-trainable params: 0\n",
      "_________________________________________________________________\n",
      "Model: \"model_29\"\n",
      "_________________________________________________________________\n",
      "Layer (type)                 Output Shape              Param #   \n",
      "=================================================================\n",
      "input_30 (InputLayer)        [(32, 1, 1282)]           0         \n",
      "_________________________________________________________________\n",
      "GRU (GRU)                    [(32, 50), (32, 50)]      200100    \n",
      "_________________________________________________________________\n",
      "dropout_29 (Dropout)         (32, 50)                  0         \n",
      "_________________________________________________________________\n",
      "dense_29 (Dense)             (32, 1282)                65382     \n",
      "=================================================================\n",
      "Total params: 265,482\n",
      "Trainable params: 265,482\n",
      "Non-trainable params: 0\n",
      "_________________________________________________________________\n",
      "Model: \"model_30\"\n",
      "_________________________________________________________________\n",
      "Layer (type)                 Output Shape              Param #   \n",
      "=================================================================\n",
      "input_31 (InputLayer)        [(32, 1, 1282)]           0         \n",
      "_________________________________________________________________\n",
      "GRU (GRU)                    [(32, 50), (32, 50)]      200100    \n",
      "_________________________________________________________________\n",
      "dropout_30 (Dropout)         (32, 50)                  0         \n",
      "_________________________________________________________________\n",
      "dense_30 (Dense)             (32, 1282)                65382     \n",
      "=================================================================\n",
      "Total params: 265,482\n",
      "Trainable params: 265,482\n",
      "Non-trainable params: 0\n",
      "_________________________________________________________________\n",
      "Model: \"model_31\"\n",
      "_________________________________________________________________\n",
      "Layer (type)                 Output Shape              Param #   \n",
      "=================================================================\n",
      "input_32 (InputLayer)        [(32, 1, 1282)]           0         \n",
      "_________________________________________________________________\n",
      "GRU (GRU)                    [(32, 50), (32, 50)]      200100    \n",
      "_________________________________________________________________\n",
      "dropout_31 (Dropout)         (32, 50)                  0         \n",
      "_________________________________________________________________\n",
      "dense_31 (Dense)             (32, 1282)                65382     \n",
      "=================================================================\n",
      "Total params: 265,482\n",
      "Trainable params: 265,482\n",
      "Non-trainable params: 0\n",
      "_________________________________________________________________\n"
     ]
    }
   ],
   "source": [
    "model01 = create_model(args01)\n",
    "model02 = create_model(args02)\n",
    "model03 = create_model(args03)\n",
    "model04 = create_model(args04)\n",
    "model05 = create_model(args05)\n",
    "model06 = create_model(args04)\n",
    "model07 = create_model(args05)"
   ]
  },
  {
   "cell_type": "markdown",
   "metadata": {},
   "source": [
    "# Step 5. 모델 테스트\n",
    "미리 구성한 테스트셋을 바탕으로 Recall, MRR 을 확인해 봅니다.\n"
   ]
  },
  {
   "cell_type": "markdown",
   "metadata": {},
   "source": [
    "학습은 총 3epoch 진행되며, \n",
    "\n",
    "배치 사이즈나 epoch 등의 설정은 위의 args에서 관리하므로 진행전 값을 확인해 주세요."
   ]
  },
  {
   "cell_type": "code",
   "execution_count": 86,
   "metadata": {},
   "outputs": [],
   "source": [
    "# train 셋으로 학습하면서 valid 셋으로 검증합니다.\n",
    "def train_model(model, args):\n",
    "    train_dataset = SessionDataset(args.tr)\n",
    "    train_loader = SessionDataLoader(train_dataset, batch_size=args.batch_size)\n",
    "\n",
    "    for epoch in range(1, args.epochs + 1):\n",
    "        total_step = len(args.tr) - args.tr['UserId'].nunique()\n",
    "        tr_loader = tqdm(train_loader, total=total_step // args.batch_size, desc='Train', mininterval=1)\n",
    "        for feat, target, mask in tr_loader:\n",
    "            reset_hidden_states(model, mask)  # 종료된 session은 hidden_state를 초기화합니다. 아래 메서드에서 확인해주세요.\n",
    "\n",
    "            input_ohe = to_categorical(feat, num_classes=args.num_items)\n",
    "            input_ohe = np.expand_dims(input_ohe, axis=1)\n",
    "            target_ohe = to_categorical(target, num_classes=args.num_items)\n",
    "\n",
    "            result = model.train_on_batch(input_ohe, target_ohe)\n",
    "            tr_loader.set_postfix(train_loss=result[0], accuracy = result[1])\n",
    "\n",
    "        val_recall, val_mrr = get_metrics(args.val, model, args, args.k)  # valid set에 대해 검증합니다.\n",
    "\n",
    "        print(f\"\\t - Recall@{args.k} epoch {epoch}: {val_recall:3f}\")\n",
    "        print(f\"\\t - MRR@{args.k}    epoch {epoch}: {val_mrr:3f}\\n\")\n",
    "\n",
    "\n",
    "def reset_hidden_states(model, mask):\n",
    "    gru_layer = model.get_layer(name='GRU')  # model에서 gru layer를 가져옵니다.\n",
    "    hidden_states = gru_layer.states[0].numpy()  # gru_layer의 parameter를 가져옵니다.\n",
    "    for elt in mask:  # mask된 인덱스 즉, 종료된 세션의 인덱스를 돌면서\n",
    "        hidden_states[elt, :] = 0  # parameter를 초기화 합니다.\n",
    "    gru_layer.reset_states(states=hidden_states)\n",
    "\n",
    "\n",
    "def get_metrics(data, model, args, k: int):  # valid셋과 test셋을 평가하는 코드입니다. \n",
    "                                             # train과 거의 같지만 mrr, recall을 구하는 라인이 있습니다.\n",
    "    dataset = SessionDataset(data)\n",
    "    loader = SessionDataLoader(dataset, batch_size=args.batch_size)\n",
    "    recall_list, mrr_list = [], []\n",
    "\n",
    "    total_step = len(data) - data['UserId'].nunique()\n",
    "    for inputs, label, mask in tqdm(loader, total=total_step // args.batch_size, desc='Evaluation', mininterval=1):\n",
    "        reset_hidden_states(model, mask)\n",
    "        input_ohe = to_categorical(inputs, num_classes=args.num_items)\n",
    "        input_ohe = np.expand_dims(input_ohe, axis=1)\n",
    "\n",
    "        pred = model.predict(input_ohe, batch_size=args.batch_size)\n",
    "        pred_arg = tf.argsort(pred, direction='DESCENDING')  # softmax 값이 큰 순서대로 sorting 합니다.\n",
    "\n",
    "        length = len(inputs)\n",
    "        recall_list.extend([recall_k(pred_arg[i], label[i], k) for i in range(length)])\n",
    "        mrr_list.extend([mrr_k(pred_arg[i], label[i], k) for i in range(length)])\n",
    "\n",
    "    recall, mrr = np.mean(recall_list), np.mean(mrr_list)\n",
    "    return recall, mrr"
   ]
  },
  {
   "cell_type": "markdown",
   "metadata": {},
   "source": [
    "### test_model 함수"
   ]
  },
  {
   "cell_type": "code",
   "execution_count": 91,
   "metadata": {},
   "outputs": [],
   "source": [
    "def test_model(model, args, test):\n",
    "    test_recall, test_mrr = get_metrics(test, model, args, 20)\n",
    "    print(f\"\\t - Recall@{args.k}: {test_recall:3f}\")\n",
    "    print(f\"\\t - MRR@{args.k}: {test_mrr:3f}\\n\")"
   ]
  },
  {
   "cell_type": "markdown",
   "metadata": {},
   "source": [
    "## 첫번째 모델\n",
    "- 배치 사이즈가 커서 에러가 뜬다. 배치사이즈를 64로 변경해준다.(두번째~4번째 모델)\n",
    "\n",
    "args01 = Args(tr, val, test, batch_size=128, hsz=50, drop_rate=0.1, lr=0.001, epochs=5, k=20)"
   ]
  },
  {
   "cell_type": "code",
   "execution_count": 93,
   "metadata": {},
   "outputs": [
    {
     "name": "stderr",
     "output_type": "stream",
     "text": [
      "Train:  97%|█████████▋| 4226/4377 [00:33<00:01, 127.12it/s, accuracy=0.281, train_loss=2.66] \n",
      "Evaluation:   0%|          | 0/221 [00:00<?, ?it/s]\n"
     ]
    },
    {
     "ename": "IndexError",
     "evalue": "index 84 is out of bounds for axis 0 with size 84",
     "output_type": "error",
     "traceback": [
      "\u001b[0;31m---------------------------------------------------------------------------\u001b[0m",
      "\u001b[0;31mIndexError\u001b[0m                                Traceback (most recent call last)",
      "\u001b[0;32m<ipython-input-93-cb7eb8882849>\u001b[0m in \u001b[0;36m<module>\u001b[0;34m\u001b[0m\n\u001b[0;32m----> 1\u001b[0;31m \u001b[0mtrain_model\u001b[0m\u001b[0;34m(\u001b[0m\u001b[0mmodel01\u001b[0m\u001b[0;34m,\u001b[0m \u001b[0margs01\u001b[0m\u001b[0;34m)\u001b[0m\u001b[0;34m\u001b[0m\u001b[0;34m\u001b[0m\u001b[0m\n\u001b[0m",
      "\u001b[0;32m<ipython-input-86-075f10ff3904>\u001b[0m in \u001b[0;36mtrain_model\u001b[0;34m(model, args)\u001b[0m\n\u001b[1;32m     17\u001b[0m             \u001b[0mtr_loader\u001b[0m\u001b[0;34m.\u001b[0m\u001b[0mset_postfix\u001b[0m\u001b[0;34m(\u001b[0m\u001b[0mtrain_loss\u001b[0m\u001b[0;34m=\u001b[0m\u001b[0mresult\u001b[0m\u001b[0;34m[\u001b[0m\u001b[0;36m0\u001b[0m\u001b[0;34m]\u001b[0m\u001b[0;34m,\u001b[0m \u001b[0maccuracy\u001b[0m \u001b[0;34m=\u001b[0m \u001b[0mresult\u001b[0m\u001b[0;34m[\u001b[0m\u001b[0;36m1\u001b[0m\u001b[0;34m]\u001b[0m\u001b[0;34m)\u001b[0m\u001b[0;34m\u001b[0m\u001b[0;34m\u001b[0m\u001b[0m\n\u001b[1;32m     18\u001b[0m \u001b[0;34m\u001b[0m\u001b[0m\n\u001b[0;32m---> 19\u001b[0;31m         \u001b[0mval_recall\u001b[0m\u001b[0;34m,\u001b[0m \u001b[0mval_mrr\u001b[0m \u001b[0;34m=\u001b[0m \u001b[0mget_metrics\u001b[0m\u001b[0;34m(\u001b[0m\u001b[0margs\u001b[0m\u001b[0;34m.\u001b[0m\u001b[0mval\u001b[0m\u001b[0;34m,\u001b[0m \u001b[0mmodel\u001b[0m\u001b[0;34m,\u001b[0m \u001b[0margs\u001b[0m\u001b[0;34m,\u001b[0m \u001b[0margs\u001b[0m\u001b[0;34m.\u001b[0m\u001b[0mk\u001b[0m\u001b[0;34m)\u001b[0m  \u001b[0;31m# valid set에 대해 검증합니다.\u001b[0m\u001b[0;34m\u001b[0m\u001b[0;34m\u001b[0m\u001b[0m\n\u001b[0m\u001b[1;32m     20\u001b[0m \u001b[0;34m\u001b[0m\u001b[0m\n\u001b[1;32m     21\u001b[0m         \u001b[0mprint\u001b[0m\u001b[0;34m(\u001b[0m\u001b[0;34mf\"\\t - Recall@{args.k} epoch {epoch}: {val_recall:3f}\"\u001b[0m\u001b[0;34m)\u001b[0m\u001b[0;34m\u001b[0m\u001b[0;34m\u001b[0m\u001b[0m\n",
      "\u001b[0;32m<ipython-input-86-075f10ff3904>\u001b[0m in \u001b[0;36mget_metrics\u001b[0;34m(data, model, args, k)\u001b[0m\n\u001b[1;32m     38\u001b[0m \u001b[0;34m\u001b[0m\u001b[0m\n\u001b[1;32m     39\u001b[0m     \u001b[0mtotal_step\u001b[0m \u001b[0;34m=\u001b[0m \u001b[0mlen\u001b[0m\u001b[0;34m(\u001b[0m\u001b[0mdata\u001b[0m\u001b[0;34m)\u001b[0m \u001b[0;34m-\u001b[0m \u001b[0mdata\u001b[0m\u001b[0;34m[\u001b[0m\u001b[0;34m'UserId'\u001b[0m\u001b[0;34m]\u001b[0m\u001b[0;34m.\u001b[0m\u001b[0mnunique\u001b[0m\u001b[0;34m(\u001b[0m\u001b[0;34m)\u001b[0m\u001b[0;34m\u001b[0m\u001b[0;34m\u001b[0m\u001b[0m\n\u001b[0;32m---> 40\u001b[0;31m     \u001b[0;32mfor\u001b[0m \u001b[0minputs\u001b[0m\u001b[0;34m,\u001b[0m \u001b[0mlabel\u001b[0m\u001b[0;34m,\u001b[0m \u001b[0mmask\u001b[0m \u001b[0;32min\u001b[0m \u001b[0mtqdm\u001b[0m\u001b[0;34m(\u001b[0m\u001b[0mloader\u001b[0m\u001b[0;34m,\u001b[0m \u001b[0mtotal\u001b[0m\u001b[0;34m=\u001b[0m\u001b[0mtotal_step\u001b[0m \u001b[0;34m//\u001b[0m \u001b[0margs\u001b[0m\u001b[0;34m.\u001b[0m\u001b[0mbatch_size\u001b[0m\u001b[0;34m,\u001b[0m \u001b[0mdesc\u001b[0m\u001b[0;34m=\u001b[0m\u001b[0;34m'Evaluation'\u001b[0m\u001b[0;34m,\u001b[0m \u001b[0mmininterval\u001b[0m\u001b[0;34m=\u001b[0m\u001b[0;36m1\u001b[0m\u001b[0;34m)\u001b[0m\u001b[0;34m:\u001b[0m\u001b[0;34m\u001b[0m\u001b[0;34m\u001b[0m\u001b[0m\n\u001b[0m\u001b[1;32m     41\u001b[0m         \u001b[0mreset_hidden_states\u001b[0m\u001b[0;34m(\u001b[0m\u001b[0mmodel\u001b[0m\u001b[0;34m,\u001b[0m \u001b[0mmask\u001b[0m\u001b[0;34m)\u001b[0m\u001b[0;34m\u001b[0m\u001b[0;34m\u001b[0m\u001b[0m\n\u001b[1;32m     42\u001b[0m         \u001b[0minput_ohe\u001b[0m \u001b[0;34m=\u001b[0m \u001b[0mto_categorical\u001b[0m\u001b[0;34m(\u001b[0m\u001b[0minputs\u001b[0m\u001b[0;34m,\u001b[0m \u001b[0mnum_classes\u001b[0m\u001b[0;34m=\u001b[0m\u001b[0margs\u001b[0m\u001b[0;34m.\u001b[0m\u001b[0mnum_items\u001b[0m\u001b[0;34m)\u001b[0m\u001b[0;34m\u001b[0m\u001b[0;34m\u001b[0m\u001b[0m\n",
      "\u001b[0;32m~/anaconda3/envs/aiffel/lib/python3.7/site-packages/tqdm/std.py\u001b[0m in \u001b[0;36m__iter__\u001b[0;34m(self)\u001b[0m\n\u001b[1;32m   1164\u001b[0m \u001b[0;34m\u001b[0m\u001b[0m\n\u001b[1;32m   1165\u001b[0m         \u001b[0;32mtry\u001b[0m\u001b[0;34m:\u001b[0m\u001b[0;34m\u001b[0m\u001b[0;34m\u001b[0m\u001b[0m\n\u001b[0;32m-> 1166\u001b[0;31m             \u001b[0;32mfor\u001b[0m \u001b[0mobj\u001b[0m \u001b[0;32min\u001b[0m \u001b[0miterable\u001b[0m\u001b[0;34m:\u001b[0m\u001b[0;34m\u001b[0m\u001b[0;34m\u001b[0m\u001b[0m\n\u001b[0m\u001b[1;32m   1167\u001b[0m                 \u001b[0;32myield\u001b[0m \u001b[0mobj\u001b[0m\u001b[0;34m\u001b[0m\u001b[0;34m\u001b[0m\u001b[0m\n\u001b[1;32m   1168\u001b[0m                 \u001b[0;31m# Update and possibly print the progressbar.\u001b[0m\u001b[0;34m\u001b[0m\u001b[0;34m\u001b[0m\u001b[0;34m\u001b[0m\u001b[0m\n",
      "\u001b[0;32m<ipython-input-57-116ff76e654d>\u001b[0m in \u001b[0;36m__iter__\u001b[0;34m(self)\u001b[0m\n\u001b[1;32m     14\u001b[0m         \"\"\"\n\u001b[1;32m     15\u001b[0m \u001b[0;34m\u001b[0m\u001b[0m\n\u001b[0;32m---> 16\u001b[0;31m         \u001b[0mstart\u001b[0m\u001b[0;34m,\u001b[0m \u001b[0mend\u001b[0m\u001b[0;34m,\u001b[0m \u001b[0mmask\u001b[0m\u001b[0;34m,\u001b[0m \u001b[0mlast_session\u001b[0m\u001b[0;34m,\u001b[0m \u001b[0mfinished\u001b[0m \u001b[0;34m=\u001b[0m \u001b[0mself\u001b[0m\u001b[0;34m.\u001b[0m\u001b[0minitialize\u001b[0m\u001b[0;34m(\u001b[0m\u001b[0;34m)\u001b[0m  \u001b[0;31m# initialize 메소드에서 확인해주세요.\u001b[0m\u001b[0;34m\u001b[0m\u001b[0;34m\u001b[0m\u001b[0m\n\u001b[0m\u001b[1;32m     17\u001b[0m         \"\"\"\n\u001b[1;32m     18\u001b[0m         \u001b[0mstart\u001b[0m \u001b[0;34m:\u001b[0m \u001b[0mIndex\u001b[0m \u001b[0mWhere\u001b[0m \u001b[0mSession\u001b[0m \u001b[0mStart\u001b[0m\u001b[0;34m\u001b[0m\u001b[0;34m\u001b[0m\u001b[0m\n",
      "\u001b[0;32m<ipython-input-57-116ff76e654d>\u001b[0m in \u001b[0;36minitialize\u001b[0;34m(self)\u001b[0m\n\u001b[1;32m     34\u001b[0m         \u001b[0mfirst_iters\u001b[0m \u001b[0;34m=\u001b[0m \u001b[0mnp\u001b[0m\u001b[0;34m.\u001b[0m\u001b[0marange\u001b[0m\u001b[0;34m(\u001b[0m\u001b[0mself\u001b[0m\u001b[0;34m.\u001b[0m\u001b[0mbatch_size\u001b[0m\u001b[0;34m)\u001b[0m    \u001b[0;31m# 첫 배치에 사용할 세션 Index를 가져옵니다.\u001b[0m\u001b[0;34m\u001b[0m\u001b[0;34m\u001b[0m\u001b[0m\n\u001b[1;32m     35\u001b[0m         \u001b[0mlast_session\u001b[0m \u001b[0;34m=\u001b[0m \u001b[0mself\u001b[0m\u001b[0;34m.\u001b[0m\u001b[0mbatch_size\u001b[0m \u001b[0;34m-\u001b[0m \u001b[0;36m1\u001b[0m    \u001b[0;31m# 마지막으로 다루고 있는 세션 Index를 저장해둡니다.\u001b[0m\u001b[0;34m\u001b[0m\u001b[0;34m\u001b[0m\u001b[0m\n\u001b[0;32m---> 36\u001b[0;31m         \u001b[0mstart\u001b[0m \u001b[0;34m=\u001b[0m \u001b[0mself\u001b[0m\u001b[0;34m.\u001b[0m\u001b[0mdataset\u001b[0m\u001b[0;34m.\u001b[0m\u001b[0mclick_offsets\u001b[0m\u001b[0;34m[\u001b[0m\u001b[0mself\u001b[0m\u001b[0;34m.\u001b[0m\u001b[0mdataset\u001b[0m\u001b[0;34m.\u001b[0m\u001b[0msession_idx\u001b[0m\u001b[0;34m[\u001b[0m\u001b[0mfirst_iters\u001b[0m\u001b[0;34m]\u001b[0m\u001b[0;34m]\u001b[0m       \u001b[0;31m# data 상에서 session이 시작된 위치를 가져옵니다.\u001b[0m\u001b[0;34m\u001b[0m\u001b[0;34m\u001b[0m\u001b[0m\n\u001b[0m\u001b[1;32m     37\u001b[0m         \u001b[0mend\u001b[0m \u001b[0;34m=\u001b[0m \u001b[0mself\u001b[0m\u001b[0;34m.\u001b[0m\u001b[0mdataset\u001b[0m\u001b[0;34m.\u001b[0m\u001b[0mclick_offsets\u001b[0m\u001b[0;34m[\u001b[0m\u001b[0mself\u001b[0m\u001b[0;34m.\u001b[0m\u001b[0mdataset\u001b[0m\u001b[0;34m.\u001b[0m\u001b[0msession_idx\u001b[0m\u001b[0;34m[\u001b[0m\u001b[0mfirst_iters\u001b[0m\u001b[0;34m]\u001b[0m \u001b[0;34m+\u001b[0m \u001b[0;36m1\u001b[0m\u001b[0;34m]\u001b[0m  \u001b[0;31m# session이 끝난 위치 바로 다음 위치를 가져옵니다.\u001b[0m\u001b[0;34m\u001b[0m\u001b[0;34m\u001b[0m\u001b[0m\n\u001b[1;32m     38\u001b[0m         \u001b[0mmask\u001b[0m \u001b[0;34m=\u001b[0m \u001b[0mnp\u001b[0m\u001b[0;34m.\u001b[0m\u001b[0marray\u001b[0m\u001b[0;34m(\u001b[0m\u001b[0;34m[\u001b[0m\u001b[0;34m]\u001b[0m\u001b[0;34m)\u001b[0m   \u001b[0;31m# session의 모든 아이템을 다 돌은 경우 mask에 추가해줄 것입니다.\u001b[0m\u001b[0;34m\u001b[0m\u001b[0;34m\u001b[0m\u001b[0m\n",
      "\u001b[0;31mIndexError\u001b[0m: index 84 is out of bounds for axis 0 with size 84"
     ]
    }
   ],
   "source": [
    "train_model(model01, args01)"
   ]
  },
  {
   "cell_type": "markdown",
   "metadata": {},
   "source": [
    "## 두번째 모델\n",
    "args02 = Args(tr, val, test, batch_size=64, hsz=50, drop_rate=0.1, lr=0.001, epochs=5, k=20)\n"
   ]
  },
  {
   "cell_type": "code",
   "execution_count": 97,
   "metadata": {},
   "outputs": [
    {
     "name": "stderr",
     "output_type": "stream",
     "text": [
      "Train:  98%|█████████▊| 8601/8754 [01:01<00:01, 139.95it/s, accuracy=0.391, train_loss=2.38] \n",
      "Evaluation:  52%|█████▏    | 232/443 [00:18<00:16, 12.88it/s]\n",
      "Train:   0%|          | 0/8754 [00:00<?, ?it/s, accuracy=0.297, train_loss=2.49]"
     ]
    },
    {
     "name": "stdout",
     "output_type": "stream",
     "text": [
      "\t - Recall@20 epoch 1: 0.959793\n",
      "\t - MRR@20    epoch 1: 0.545379\n",
      "\n"
     ]
    },
    {
     "name": "stderr",
     "output_type": "stream",
     "text": [
      "Train:  98%|█████████▊| 8601/8754 [01:00<00:01, 141.57it/s, accuracy=0.312, train_loss=2.18]\n",
      "Evaluation:  52%|█████▏    | 232/443 [00:16<00:15, 13.72it/s]\n",
      "Train:   0%|          | 0/8754 [00:00<?, ?it/s, accuracy=0.375, train_loss=2.18]"
     ]
    },
    {
     "name": "stdout",
     "output_type": "stream",
     "text": [
      "\t - Recall@20 epoch 2: 0.971646\n",
      "\t - MRR@20    epoch 2: 0.567856\n",
      "\n"
     ]
    },
    {
     "name": "stderr",
     "output_type": "stream",
     "text": [
      "Train:  98%|█████████▊| 8601/8754 [00:59<00:01, 145.12it/s, accuracy=0.406, train_loss=2.14]\n",
      "Evaluation:  52%|█████▏    | 232/443 [00:16<00:15, 13.96it/s]\n",
      "Train:   0%|          | 0/8754 [00:00<?, ?it/s, accuracy=0.391, train_loss=2.17]"
     ]
    },
    {
     "name": "stdout",
     "output_type": "stream",
     "text": [
      "\t - Recall@20 epoch 3: 0.974340\n",
      "\t - MRR@20    epoch 3: 0.572520\n",
      "\n"
     ]
    },
    {
     "name": "stderr",
     "output_type": "stream",
     "text": [
      "Train:  98%|█████████▊| 8601/8754 [00:57<00:01, 150.08it/s, accuracy=0.453, train_loss=2.06]\n",
      "Evaluation:  52%|█████▏    | 232/443 [00:16<00:14, 14.12it/s]\n",
      "Train:   0%|          | 0/8754 [00:00<?, ?it/s, accuracy=0.297, train_loss=2.45]"
     ]
    },
    {
     "name": "stdout",
     "output_type": "stream",
     "text": [
      "\t - Recall@20 epoch 4: 0.975822\n",
      "\t - MRR@20    epoch 4: 0.576973\n",
      "\n"
     ]
    },
    {
     "name": "stderr",
     "output_type": "stream",
     "text": [
      "Train:  98%|█████████▊| 8601/8754 [00:57<00:01, 150.13it/s, accuracy=0.375, train_loss=2.1] \n",
      "Evaluation:  52%|█████▏    | 232/443 [00:16<00:15, 13.99it/s]"
     ]
    },
    {
     "name": "stdout",
     "output_type": "stream",
     "text": [
      "\t - Recall@20 epoch 5: 0.977169\n",
      "\t - MRR@20    epoch 5: 0.578605\n",
      "\n"
     ]
    },
    {
     "name": "stderr",
     "output_type": "stream",
     "text": [
      "\n"
     ]
    }
   ],
   "source": [
    "train_model(model02, args02)"
   ]
  },
  {
   "cell_type": "markdown",
   "metadata": {},
   "source": [
    "### Inference"
   ]
  },
  {
   "cell_type": "code",
   "execution_count": 98,
   "metadata": {
    "scrolled": false
   },
   "outputs": [
    {
     "name": "stderr",
     "output_type": "stream",
     "text": [
      "Evaluation:  83%|████████▎ | 1031/1241 [01:11<00:14, 14.45it/s]"
     ]
    },
    {
     "name": "stdout",
     "output_type": "stream",
     "text": [
      "\t - Recall@20: 0.985527\n",
      "\t - MRR@20: 0.619479\n",
      "\n"
     ]
    },
    {
     "name": "stderr",
     "output_type": "stream",
     "text": [
      "\n"
     ]
    }
   ],
   "source": [
    "\n",
    "\n",
    "test_model(model02, args02, test)"
   ]
  },
  {
   "cell_type": "markdown",
   "metadata": {},
   "source": [
    "## 세번째 모델\n",
    "args03 = Args(tr, val, test, batch_size=128, hsz=50, drop_rate=0.2, lr=0.001, epochs=5, k=20)"
   ]
  },
  {
   "cell_type": "code",
   "execution_count": 94,
   "metadata": {},
   "outputs": [
    {
     "name": "stderr",
     "output_type": "stream",
     "text": [
      "Train:  98%|█████████▊| 8601/8754 [01:02<00:01, 137.72it/s, accuracy=0.312, train_loss=2.42] \n",
      "Evaluation:  52%|█████▏    | 232/443 [00:18<00:16, 12.69it/s]\n",
      "Train:   0%|          | 0/8754 [00:00<?, ?it/s, accuracy=0.281, train_loss=2.55] "
     ]
    },
    {
     "name": "stdout",
     "output_type": "stream",
     "text": [
      "\t - Recall@20 epoch 1: 0.953462\n",
      "\t - MRR@20    epoch 1: 0.534631\n",
      "\n"
     ]
    },
    {
     "name": "stderr",
     "output_type": "stream",
     "text": [
      "Train:  98%|█████████▊| 8601/8754 [01:01<00:01, 139.54it/s, accuracy=0.359, train_loss=2.16]\n",
      "Evaluation:  52%|█████▏    | 232/443 [00:16<00:15, 13.66it/s]\n",
      "Train:   0%|          | 0/8754 [00:00<?, ?it/s, accuracy=0.281, train_loss=2.43]"
     ]
    },
    {
     "name": "stdout",
     "output_type": "stream",
     "text": [
      "\t - Recall@20 epoch 2: 0.969356\n",
      "\t - MRR@20    epoch 2: 0.564812\n",
      "\n"
     ]
    },
    {
     "name": "stderr",
     "output_type": "stream",
     "text": [
      "Train:  98%|█████████▊| 8601/8754 [01:01<00:01, 139.77it/s, accuracy=0.391, train_loss=2.09]\n",
      "Evaluation:  52%|█████▏    | 232/443 [00:16<00:15, 13.92it/s]\n",
      "Train:   0%|          | 0/8754 [00:00<?, ?it/s, accuracy=0.312, train_loss=2.27]"
     ]
    },
    {
     "name": "stdout",
     "output_type": "stream",
     "text": [
      "\t - Recall@20 epoch 3: 0.972993\n",
      "\t - MRR@20    epoch 3: 0.572568\n",
      "\n"
     ]
    },
    {
     "name": "stderr",
     "output_type": "stream",
     "text": [
      "Train:  98%|█████████▊| 8601/8754 [01:01<00:01, 140.89it/s, accuracy=0.375, train_loss=2.11]\n",
      "Evaluation:  52%|█████▏    | 232/443 [00:16<00:15, 14.03it/s]\n",
      "Train:   0%|          | 0/8754 [00:00<?, ?it/s, accuracy=0.375, train_loss=2.29]"
     ]
    },
    {
     "name": "stdout",
     "output_type": "stream",
     "text": [
      "\t - Recall@20 epoch 4: 0.973801\n",
      "\t - MRR@20    epoch 4: 0.576197\n",
      "\n"
     ]
    },
    {
     "name": "stderr",
     "output_type": "stream",
     "text": [
      "Train:  98%|█████████▊| 8601/8754 [01:01<00:01, 140.75it/s, accuracy=0.406, train_loss=2.08]\n",
      "Evaluation:  52%|█████▏    | 232/443 [00:16<00:15, 13.92it/s]"
     ]
    },
    {
     "name": "stdout",
     "output_type": "stream",
     "text": [
      "\t - Recall@20 epoch 5: 0.974542\n",
      "\t - MRR@20    epoch 5: 0.577340\n",
      "\n"
     ]
    },
    {
     "name": "stderr",
     "output_type": "stream",
     "text": [
      "\n"
     ]
    }
   ],
   "source": [
    "train_model(model03, args03)"
   ]
  },
  {
   "cell_type": "markdown",
   "metadata": {},
   "source": [
    "### Inference"
   ]
  },
  {
   "cell_type": "code",
   "execution_count": 95,
   "metadata": {
    "scrolled": false
   },
   "outputs": [
    {
     "name": "stderr",
     "output_type": "stream",
     "text": [
      "Evaluation:  83%|████████▎ | 1031/1241 [01:11<00:14, 14.36it/s]"
     ]
    },
    {
     "name": "stdout",
     "output_type": "stream",
     "text": [
      "\t - Recall@20: 0.984269\n",
      "\t - MRR@20: 0.615513\n",
      "\n"
     ]
    },
    {
     "name": "stderr",
     "output_type": "stream",
     "text": [
      "\n"
     ]
    }
   ],
   "source": [
    "test_model(model03, args03, test)"
   ]
  },
  {
   "cell_type": "markdown",
   "metadata": {},
   "source": [
    "## 네번째 모델\n",
    "args04 = Args(tr, val, test, batch_size=32, hsz=50, drop_rate=0.2, lr=0.001, epochs=5, k=20)\n"
   ]
  },
  {
   "cell_type": "code",
   "execution_count": 96,
   "metadata": {},
   "outputs": [
    {
     "name": "stderr",
     "output_type": "stream",
     "text": [
      "Train:  99%|█████████▉| 17352/17509 [02:02<00:01, 141.78it/s, accuracy=0.438, train_loss=2.05] \n",
      "Evaluation:  77%|███████▋  | 678/886 [00:30<00:09, 22.55it/s]\n",
      "Train:   0%|          | 0/17509 [00:00<?, ?it/s, accuracy=0.219, train_loss=2.65] "
     ]
    },
    {
     "name": "stdout",
     "output_type": "stream",
     "text": [
      "\t - Recall@20 epoch 1: 0.972391\n",
      "\t - MRR@20    epoch 1: 0.565554\n",
      "\n"
     ]
    },
    {
     "name": "stderr",
     "output_type": "stream",
     "text": [
      "Train:  99%|█████████▉| 17352/17509 [02:00<00:01, 143.54it/s, accuracy=0.406, train_loss=2.01] \n",
      "Evaluation:  77%|███████▋  | 678/886 [00:29<00:08, 23.32it/s]\n",
      "Train:   0%|          | 0/17509 [00:00<?, ?it/s, accuracy=0.375, train_loss=2.47]"
     ]
    },
    {
     "name": "stdout",
     "output_type": "stream",
     "text": [
      "\t - Recall@20 epoch 2: 0.979028\n",
      "\t - MRR@20    epoch 2: 0.587870\n",
      "\n"
     ]
    },
    {
     "name": "stderr",
     "output_type": "stream",
     "text": [
      "Train:  99%|█████████▉| 17352/17509 [01:57<00:01, 147.79it/s, accuracy=0.312, train_loss=1.9]  \n",
      "Evaluation:  77%|███████▋  | 678/886 [00:29<00:08, 23.37it/s]\n",
      "Train:   0%|          | 0/17509 [00:00<?, ?it/s, accuracy=0.406, train_loss=2.41]"
     ]
    },
    {
     "name": "stdout",
     "output_type": "stream",
     "text": [
      "\t - Recall@20 epoch 3: 0.981425\n",
      "\t - MRR@20    epoch 3: 0.593782\n",
      "\n"
     ]
    },
    {
     "name": "stderr",
     "output_type": "stream",
     "text": [
      "Train:  99%|█████████▉| 17352/17509 [01:57<00:01, 148.13it/s, accuracy=0.438, train_loss=1.81] \n",
      "Evaluation:  77%|███████▋  | 678/886 [00:29<00:09, 22.72it/s]\n",
      "Train:   0%|          | 0/17509 [00:00<?, ?it/s, accuracy=0.281, train_loss=2.65]"
     ]
    },
    {
     "name": "stdout",
     "output_type": "stream",
     "text": [
      "\t - Recall@20 epoch 4: 0.982117\n",
      "\t - MRR@20    epoch 4: 0.594917\n",
      "\n"
     ]
    },
    {
     "name": "stderr",
     "output_type": "stream",
     "text": [
      "Train:  99%|█████████▉| 17352/17509 [01:59<00:01, 144.61it/s, accuracy=0.406, train_loss=1.73] \n",
      "Evaluation:  77%|███████▋  | 678/886 [00:28<00:08, 23.58it/s]"
     ]
    },
    {
     "name": "stdout",
     "output_type": "stream",
     "text": [
      "\t - Recall@20 epoch 5: 0.981748\n",
      "\t - MRR@20    epoch 5: 0.597201\n",
      "\n"
     ]
    },
    {
     "name": "stderr",
     "output_type": "stream",
     "text": [
      "\n"
     ]
    }
   ],
   "source": [
    "train_model(model04, args04)"
   ]
  },
  {
   "cell_type": "markdown",
   "metadata": {},
   "source": [
    "### Inference"
   ]
  },
  {
   "cell_type": "code",
   "execution_count": 88,
   "metadata": {
    "scrolled": false
   },
   "outputs": [
    {
     "name": "stderr",
     "output_type": "stream",
     "text": [
      "Evaluation:  83%|████████▎ | 1031/1241 [01:11<00:14, 14.43it/s]"
     ]
    },
    {
     "name": "stdout",
     "output_type": "stream",
     "text": [
      "\t - Recall@20: 0.983466\n",
      "\t - MRR@20: 0.611192\n",
      "\n"
     ]
    },
    {
     "name": "stderr",
     "output_type": "stream",
     "text": [
      "\n"
     ]
    }
   ],
   "source": [
    "test_model(model04, args04, test)"
   ]
  },
  {
   "cell_type": "code",
   "execution_count": null,
   "metadata": {},
   "outputs": [],
   "source": []
  },
  {
   "cell_type": "markdown",
   "metadata": {},
   "source": [
    "## 다섯번째 모델\n",
    "args05 = Args(tr, val, test, batch_size=32, hsz=50, drop_rate=0.1, lr=0.001, epochs=5, k=20)\n",
    "\n"
   ]
  },
  {
   "cell_type": "code",
   "execution_count": 103,
   "metadata": {},
   "outputs": [
    {
     "name": "stderr",
     "output_type": "stream",
     "text": [
      "Train:  99%|█████████▉| 17352/17509 [02:08<00:01, 135.13it/s, accuracy=0.438, train_loss=1.95] \n",
      "Evaluation:  77%|███████▋  | 678/886 [00:31<00:09, 21.48it/s]\n",
      "Train:   0%|          | 0/17509 [00:00<?, ?it/s, accuracy=0.406, train_loss=2.08] "
     ]
    },
    {
     "name": "stdout",
     "output_type": "stream",
     "text": [
      "\t - Recall@20 epoch 1: 0.974465\n",
      "\t - MRR@20    epoch 1: 0.573156\n",
      "\n"
     ]
    },
    {
     "name": "stderr",
     "output_type": "stream",
     "text": [
      "Train:  99%|█████████▉| 17352/17509 [02:04<00:01, 139.54it/s, accuracy=0.438, train_loss=1.86] \n",
      "Evaluation:  77%|███████▋  | 678/886 [00:30<00:09, 22.11it/s]\n",
      "Train:   0%|          | 0/17509 [00:00<?, ?it/s, accuracy=0.438, train_loss=2.41]"
     ]
    },
    {
     "name": "stdout",
     "output_type": "stream",
     "text": [
      "\t - Recall@20 epoch 2: 0.979121\n",
      "\t - MRR@20    epoch 2: 0.589392\n",
      "\n"
     ]
    },
    {
     "name": "stderr",
     "output_type": "stream",
     "text": [
      "Train:  99%|█████████▉| 17352/17509 [02:03<00:01, 140.18it/s, accuracy=0.469, train_loss=1.75] \n",
      "Evaluation:  77%|███████▋  | 678/886 [00:30<00:09, 22.12it/s]\n",
      "Train:   0%|          | 0/17509 [00:00<?, ?it/s, accuracy=0.281, train_loss=2.65]"
     ]
    },
    {
     "name": "stdout",
     "output_type": "stream",
     "text": [
      "\t - Recall@20 epoch 3: 0.980411\n",
      "\t - MRR@20    epoch 3: 0.594965\n",
      "\n"
     ]
    },
    {
     "name": "stderr",
     "output_type": "stream",
     "text": [
      "Train:  99%|█████████▉| 17352/17509 [02:02<00:01, 142.12it/s, accuracy=0.438, train_loss=1.77] \n",
      "Evaluation:  77%|███████▋  | 678/886 [00:30<00:09, 22.22it/s]\n",
      "Train:   0%|          | 0/17509 [00:00<?, ?it/s, accuracy=0.438, train_loss=2.31]"
     ]
    },
    {
     "name": "stdout",
     "output_type": "stream",
     "text": [
      "\t - Recall@20 epoch 4: 0.981056\n",
      "\t - MRR@20    epoch 4: 0.597377\n",
      "\n"
     ]
    },
    {
     "name": "stderr",
     "output_type": "stream",
     "text": [
      "Train:  99%|█████████▉| 17352/17509 [02:04<00:01, 139.18it/s, accuracy=0.406, train_loss=1.73] \n",
      "Evaluation:  77%|███████▋  | 678/886 [00:30<00:09, 22.48it/s]"
     ]
    },
    {
     "name": "stdout",
     "output_type": "stream",
     "text": [
      "\t - Recall@20 epoch 5: 0.981840\n",
      "\t - MRR@20    epoch 5: 0.598834\n",
      "\n"
     ]
    },
    {
     "name": "stderr",
     "output_type": "stream",
     "text": [
      "\n"
     ]
    }
   ],
   "source": [
    "train_model(model05, args05)"
   ]
  },
  {
   "cell_type": "markdown",
   "metadata": {},
   "source": [
    "### Inference"
   ]
  },
  {
   "cell_type": "code",
   "execution_count": 105,
   "metadata": {
    "scrolled": true
   },
   "outputs": [
    {
     "name": "stderr",
     "output_type": "stream",
     "text": [
      "Evaluation:  92%|█████████▏| 2285/2482 [01:36<00:08, 23.57it/s]"
     ]
    },
    {
     "name": "stdout",
     "output_type": "stream",
     "text": [
      "\t - Recall@20: 0.986146\n",
      "\t - MRR@20: 0.619327\n",
      "\n"
     ]
    },
    {
     "name": "stderr",
     "output_type": "stream",
     "text": [
      "\n"
     ]
    }
   ],
   "source": [
    "test_model(model05, args05, test)"
   ]
  },
  {
   "cell_type": "code",
   "execution_count": null,
   "metadata": {},
   "outputs": [],
   "source": []
  },
  {
   "cell_type": "markdown",
   "metadata": {},
   "source": [
    "## 여섯번째 모델\n",
    "##args06 = Args(tr, val, test, batch_size=32, hsz=20, drop_rate=0.1, lr=0.001, epochs=5, k=20)\n"
   ]
  },
  {
   "cell_type": "code",
   "execution_count": 108,
   "metadata": {},
   "outputs": [
    {
     "name": "stderr",
     "output_type": "stream",
     "text": [
      "Train:  99%|█████████▉| 17352/17509 [01:59<00:01, 145.11it/s, accuracy=0.469, train_loss=2.03] \n",
      "Evaluation:  77%|███████▋  | 678/886 [00:30<00:09, 22.37it/s]\n",
      "Train:   0%|          | 0/17509 [00:00<?, ?it/s, accuracy=0.25, train_loss=2.9]   "
     ]
    },
    {
     "name": "stdout",
     "output_type": "stream",
     "text": [
      "\t - Recall@20 epoch 1: 0.972391\n",
      "\t - MRR@20    epoch 1: 0.566275\n",
      "\n"
     ]
    },
    {
     "name": "stderr",
     "output_type": "stream",
     "text": [
      "Train:  99%|█████████▉| 17352/17509 [01:58<00:01, 146.63it/s, accuracy=0.406, train_loss=1.91] \n",
      "Evaluation:  77%|███████▋  | 678/886 [00:29<00:08, 23.14it/s]\n",
      "Train:   0%|          | 0/17509 [00:00<?, ?it/s, accuracy=0.219, train_loss=2.73]"
     ]
    },
    {
     "name": "stdout",
     "output_type": "stream",
     "text": [
      "\t - Recall@20 epoch 2: 0.978060\n",
      "\t - MRR@20    epoch 2: 0.586261\n",
      "\n"
     ]
    },
    {
     "name": "stderr",
     "output_type": "stream",
     "text": [
      "Train:  99%|█████████▉| 17352/17509 [01:57<00:01, 147.14it/s, accuracy=0.375, train_loss=1.8]  \n",
      "Evaluation:  77%|███████▋  | 678/886 [00:28<00:08, 23.56it/s]\n",
      "Train:   0%|          | 0/17509 [00:00<?, ?it/s, accuracy=0.25, train_loss=2.56] "
     ]
    },
    {
     "name": "stdout",
     "output_type": "stream",
     "text": [
      "\t - Recall@20 epoch 3: 0.979351\n",
      "\t - MRR@20    epoch 3: 0.590008\n",
      "\n"
     ]
    },
    {
     "name": "stderr",
     "output_type": "stream",
     "text": [
      "Train:  99%|█████████▉| 17352/17509 [01:57<00:01, 147.61it/s, accuracy=0.375, train_loss=1.89] \n",
      "Evaluation:  77%|███████▋  | 678/886 [00:29<00:08, 23.26it/s]\n",
      "Train:   0%|          | 0/17509 [00:00<?, ?it/s, accuracy=0.375, train_loss=2.5] "
     ]
    },
    {
     "name": "stdout",
     "output_type": "stream",
     "text": [
      "\t - Recall@20 epoch 4: 0.981379\n",
      "\t - MRR@20    epoch 4: 0.595539\n",
      "\n"
     ]
    },
    {
     "name": "stderr",
     "output_type": "stream",
     "text": [
      "Train:  99%|█████████▉| 17352/17509 [02:00<00:01, 144.00it/s, accuracy=0.344, train_loss=1.93] \n",
      "Evaluation:  77%|███████▋  | 678/886 [00:28<00:08, 23.74it/s]"
     ]
    },
    {
     "name": "stdout",
     "output_type": "stream",
     "text": [
      "\t - Recall@20 epoch 5: 0.981149\n",
      "\t - MRR@20    epoch 5: 0.596440\n",
      "\n"
     ]
    },
    {
     "name": "stderr",
     "output_type": "stream",
     "text": [
      "\n"
     ]
    }
   ],
   "source": [
    "train_model(model06, args06)"
   ]
  },
  {
   "cell_type": "markdown",
   "metadata": {},
   "source": [
    "### Inference"
   ]
  },
  {
   "cell_type": "code",
   "execution_count": 109,
   "metadata": {
    "scrolled": false
   },
   "outputs": [
    {
     "name": "stderr",
     "output_type": "stream",
     "text": [
      "Evaluation:  92%|█████████▏| 2285/2482 [01:35<00:08, 24.02it/s]"
     ]
    },
    {
     "name": "stdout",
     "output_type": "stream",
     "text": [
      "\t - Recall@20: 0.986078\n",
      "\t - MRR@20: 0.616600\n",
      "\n"
     ]
    },
    {
     "name": "stderr",
     "output_type": "stream",
     "text": [
      "\n"
     ]
    }
   ],
   "source": [
    "test_model(model06, args06, test)"
   ]
  },
  {
   "cell_type": "markdown",
   "metadata": {},
   "source": [
    "## 일곱번째 모델\n",
    "\n",
    "args07 = Args(tr, val, test, batch_size=32, hsz=60, drop_rate=0.1, lr=0.001, epochs=5, k=20)\n"
   ]
  },
  {
   "cell_type": "code",
   "execution_count": 110,
   "metadata": {},
   "outputs": [
    {
     "name": "stderr",
     "output_type": "stream",
     "text": [
      "Train:  99%|█████████▉| 17352/17509 [02:03<00:01, 141.05it/s, accuracy=0.375, train_loss=1.93] \n",
      "Evaluation:  77%|███████▋  | 678/886 [00:29<00:09, 22.73it/s]\n",
      "Train:   0%|          | 0/17509 [00:00<?, ?it/s, accuracy=0.281, train_loss=2.68]"
     ]
    },
    {
     "name": "stdout",
     "output_type": "stream",
     "text": [
      "\t - Recall@20 epoch 1: 0.974880\n",
      "\t - MRR@20    epoch 1: 0.571521\n",
      "\n"
     ]
    },
    {
     "name": "stderr",
     "output_type": "stream",
     "text": [
      "Train:  99%|█████████▉| 17352/17509 [01:57<00:01, 148.13it/s, accuracy=0.375, train_loss=1.82] \n",
      "Evaluation:  77%|███████▋  | 678/886 [00:29<00:08, 23.24it/s]\n",
      "Train:   0%|          | 0/17509 [00:00<?, ?it/s, accuracy=0.25, train_loss=2.6]  "
     ]
    },
    {
     "name": "stdout",
     "output_type": "stream",
     "text": [
      "\t - Recall@20 epoch 2: 0.979581\n",
      "\t - MRR@20    epoch 2: 0.590090\n",
      "\n"
     ]
    },
    {
     "name": "stderr",
     "output_type": "stream",
     "text": [
      "Train:  99%|█████████▉| 17352/17509 [01:54<00:01, 152.03it/s, accuracy=0.469, train_loss=1.86] \n",
      "Evaluation:  77%|███████▋  | 678/886 [00:28<00:08, 23.63it/s]\n",
      "Train:   0%|          | 0/17509 [00:00<?, ?it/s, accuracy=0.281, train_loss=2.41]"
     ]
    },
    {
     "name": "stdout",
     "output_type": "stream",
     "text": [
      "\t - Recall@20 epoch 3: 0.981241\n",
      "\t - MRR@20    epoch 3: 0.593691\n",
      "\n"
     ]
    },
    {
     "name": "stderr",
     "output_type": "stream",
     "text": [
      "Train:  99%|█████████▉| 17352/17509 [01:57<00:01, 147.78it/s, accuracy=0.375, train_loss=1.81] \n",
      "Evaluation:  77%|███████▋  | 678/886 [00:28<00:08, 23.45it/s]\n",
      "Train:   0%|          | 0/17509 [00:00<?, ?it/s, accuracy=0.312, train_loss=2.37]"
     ]
    },
    {
     "name": "stdout",
     "output_type": "stream",
     "text": [
      "\t - Recall@20 epoch 4: 0.981840\n",
      "\t - MRR@20    epoch 4: 0.596037\n",
      "\n"
     ]
    },
    {
     "name": "stderr",
     "output_type": "stream",
     "text": [
      "Train:  99%|█████████▉| 17352/17509 [01:56<00:01, 148.69it/s, accuracy=0.469, train_loss=1.8]  \n",
      "Evaluation:  77%|███████▋  | 678/886 [00:29<00:09, 22.83it/s]"
     ]
    },
    {
     "name": "stdout",
     "output_type": "stream",
     "text": [
      "\t - Recall@20 epoch 5: 0.982577\n",
      "\t - MRR@20    epoch 5: 0.597347\n",
      "\n"
     ]
    },
    {
     "name": "stderr",
     "output_type": "stream",
     "text": [
      "\n"
     ]
    }
   ],
   "source": [
    "train_model(model07, args07)"
   ]
  },
  {
   "cell_type": "markdown",
   "metadata": {},
   "source": [
    "### Inference"
   ]
  },
  {
   "cell_type": "code",
   "execution_count": 111,
   "metadata": {
    "scrolled": false
   },
   "outputs": [
    {
     "name": "stderr",
     "output_type": "stream",
     "text": [
      "Evaluation:  92%|█████████▏| 2285/2482 [01:34<00:08, 24.07it/s]"
     ]
    },
    {
     "name": "stdout",
     "output_type": "stream",
     "text": [
      "\t - Recall@20: 0.986461\n",
      "\t - MRR@20: 0.617154\n",
      "\n"
     ]
    },
    {
     "name": "stderr",
     "output_type": "stream",
     "text": [
      "\n"
     ]
    }
   ],
   "source": [
    "test_model(model07, args07, test)"
   ]
  },
  {
   "cell_type": "markdown",
   "metadata": {},
   "source": [
    "```\n",
    "첫번째   batch_size=128, hsz=50, drop_rate=0.1, lr=0.001, epochs=5, k=20)\n",
    "두번째   batch_size=64, hsz=50, drop_rate=0.1, lr=0.001, epochs=5, k=20)\n",
    "세번째   batch_size=64, hsz=50, drop_rate=0.2, lr=0.001, epochs=5, k=20)\n",
    "네번째   batch_size=32, hsz=50, drop_rate=0.2, lr=0.001, epochs=5, k=20)\n",
    "다섯번째  batch_size=32, hsz=50, drop_rate=0.1, lr=0.001, epochs=5, k=20)\n",
    "여섯번째  batch_size=32, hsz=20, drop_rate=0.1, lr=0.001, epochs=5, k=20)\n",
    "일곱번째  batch_size=32, hsz=60, drop_rate=0.1, lr=0.001, epochs=5, k=20)\n",
    "```\n",
    "위와 같이 7번의 시도를 하였다.    \n",
    "첫번째 경우 배치 사이즈를 128로 하였을때 에러가 났다. 그래서 배치사이즈 64로 줄여줬더니 잘 동작하였다. 그리고 위와 같은 실험을 했을때 일곱번째인 batch_size=32 , hsz=60,   drop_rate=0.1, lr=0.001  일때 가장 잘 나왔다.   \n",
    "\n",
    "그리고 위 같이 처음 에포크할때 부터 recall수치가 높게 나왔다. 훈련데이터를 잘못 분리했다는 추측과 아니면 처음부터 데이터셋을 너무 잘줬다는 추측이된다. 전자라고 생각된다.\n",
    "\n",
    "\n",
    "아무튼 이프로젝트에서 가장 중요한것은 밑 코드 부분인것같다. \n",
    "data = cleanse_recursive(data, shortest=21, least_click=1) \n",
    "shortest는 한사람 유저가 평점을 남긴 회수을 의미하고, least_click는 영화당 평점의 개수를 의미한다.즉 인기 있는 영화를 찾고자 한다면 shortest와 least_click가 너무 작으면 안될것 같다."
   ]
  },
  {
   "cell_type": "code",
   "execution_count": null,
   "metadata": {},
   "outputs": [],
   "source": []
  }
 ],
 "metadata": {
  "kernelspec": {
   "display_name": "aiffel",
   "language": "python",
   "name": "aiffel"
  },
  "language_info": {
   "codemirror_mode": {
    "name": "ipython",
    "version": 3
   },
   "file_extension": ".py",
   "mimetype": "text/x-python",
   "name": "python",
   "nbconvert_exporter": "python",
   "pygments_lexer": "ipython3",
   "version": "3.7.9"
  }
 },
 "nbformat": 4,
 "nbformat_minor": 4
}
