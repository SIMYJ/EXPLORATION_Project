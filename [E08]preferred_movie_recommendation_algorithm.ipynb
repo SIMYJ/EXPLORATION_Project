{
 "cells": [
  {
   "cell_type": "markdown",
   "id": "alien-security",
   "metadata": {},
   "source": [
    "#  프로젝트 - Movielens 영화 추천 "
   ]
  },
  {
   "cell_type": "markdown",
   "id": "finite-penny",
   "metadata": {},
   "source": [
    "```\n",
    "1) wget으로 데이터 다운로드\n",
    "$ wget http://files.grouplens.org/datasets/movielens/ml-1m.zip\n",
    "\n",
    "2) 다운받은 데이터를 작업디렉토리로 옮김\n",
    "$ mv ml-1m.zip ~/aiffel/recommendata_iu/data\n",
    "\n",
    "3) 작업디렉토리로 이동\n",
    "$ cd ~/aiffel/recommendata_iu/data\n",
    "\n",
    "4) 압축 해제\n",
    "$ unzip ml-1m.zip\n",
    "\n",
    "```"
   ]
  },
  {
   "cell_type": "markdown",
   "id": "executed-series",
   "metadata": {},
   "source": [
    "- 유저가 영화에 대해 평점을 매긴 데이터가 데이터 크기 별로 있습니다. MovieLens 1M Dataset 사용을 권장합니다.\n",
    "- 별점 데이터는 대표적인 explicit 데이터입니다. 하지만 implicit 데이터로 간주하고 테스트해볼 수 있습니다.\n",
    "- 별점을 시청횟수로 해석해서 생각하겠습니다.\n",
    "- 또한 유저가 3점 미만으로 준 데이터는 선호하지 않는다고 가정하고 제외하겠습니다.\n"
   ]
  },
  {
   "cell_type": "markdown",
   "id": "lesbian-conversation",
   "metadata": {},
   "source": [
    "# 1) 데이터 준비와 전처리"
   ]
  },
  {
   "cell_type": "markdown",
   "id": "periodic-bracelet",
   "metadata": {},
   "source": [
    "```\n",
    "ratings            : 유저id,무비id,평점,timestamp\n",
    "movies             : 무비id,영화명,장르\n",
    "orginal_data_size  : 평점이 1~5인 영화 갯수(1000209)\n",
    "filtered_data_size : 평점이 3이상인 영화 갯수(836478) \n",
    "```"
   ]
  },
  {
   "cell_type": "code",
   "execution_count": 1,
   "id": "surgical-lunch",
   "metadata": {
    "scrolled": true
   },
   "outputs": [
    {
     "data": {
      "text/html": [
       "<div>\n",
       "<style scoped>\n",
       "    .dataframe tbody tr th:only-of-type {\n",
       "        vertical-align: middle;\n",
       "    }\n",
       "\n",
       "    .dataframe tbody tr th {\n",
       "        vertical-align: top;\n",
       "    }\n",
       "\n",
       "    .dataframe thead th {\n",
       "        text-align: right;\n",
       "    }\n",
       "</style>\n",
       "<table border=\"1\" class=\"dataframe\">\n",
       "  <thead>\n",
       "    <tr style=\"text-align: right;\">\n",
       "      <th></th>\n",
       "      <th>user_id</th>\n",
       "      <th>movie_id</th>\n",
       "      <th>rating</th>\n",
       "      <th>timestamp</th>\n",
       "    </tr>\n",
       "  </thead>\n",
       "  <tbody>\n",
       "    <tr>\n",
       "      <th>0</th>\n",
       "      <td>1</td>\n",
       "      <td>1193</td>\n",
       "      <td>5</td>\n",
       "      <td>978300760</td>\n",
       "    </tr>\n",
       "    <tr>\n",
       "      <th>1</th>\n",
       "      <td>1</td>\n",
       "      <td>661</td>\n",
       "      <td>3</td>\n",
       "      <td>978302109</td>\n",
       "    </tr>\n",
       "    <tr>\n",
       "      <th>2</th>\n",
       "      <td>1</td>\n",
       "      <td>914</td>\n",
       "      <td>3</td>\n",
       "      <td>978301968</td>\n",
       "    </tr>\n",
       "    <tr>\n",
       "      <th>3</th>\n",
       "      <td>1</td>\n",
       "      <td>3408</td>\n",
       "      <td>4</td>\n",
       "      <td>978300275</td>\n",
       "    </tr>\n",
       "    <tr>\n",
       "      <th>4</th>\n",
       "      <td>1</td>\n",
       "      <td>2355</td>\n",
       "      <td>5</td>\n",
       "      <td>978824291</td>\n",
       "    </tr>\n",
       "  </tbody>\n",
       "</table>\n",
       "</div>"
      ],
      "text/plain": [
       "   user_id  movie_id  rating  timestamp\n",
       "0        1      1193       5  978300760\n",
       "1        1       661       3  978302109\n",
       "2        1       914       3  978301968\n",
       "3        1      3408       4  978300275\n",
       "4        1      2355       5  978824291"
      ]
     },
     "execution_count": 1,
     "metadata": {},
     "output_type": "execute_result"
    }
   ],
   "source": [
    "import os\n",
    "import pandas as pd\n",
    "\n",
    "rating_file_path=os.getenv('HOME') + '/aiffel/recommendata_iu/data/ml-1m/ratings.dat'\n",
    "ratings_cols = ['user_id', 'movie_id', 'rating', 'timestamp']\n",
    "ratings = pd.read_csv(rating_file_path, sep='::', names=ratings_cols, engine='python')\n",
    "orginal_data_size = len(ratings)\n",
    "ratings.head()\n"
   ]
  },
  {
   "cell_type": "code",
   "execution_count": 2,
   "id": "ignored-obligation",
   "metadata": {
    "scrolled": true
   },
   "outputs": [
    {
     "name": "stdout",
     "output_type": "stream",
     "text": [
      "orginal_data_size: 1000209, filtered_data_size: 836478\n",
      "Ratio of Remaining Data is 83.63%\n"
     ]
    }
   ],
   "source": [
    "# 3점 이상만 남깁니다.\n",
    "ratings = ratings[ratings['rating']>=3]\n",
    "filtered_data_size = len(ratings)\n",
    "\n",
    "print(f'orginal_data_size: {orginal_data_size}, filtered_data_size: {filtered_data_size}')\n",
    "print(f'Ratio of Remaining Data is {filtered_data_size / orginal_data_size:.2%}')"
   ]
  },
  {
   "cell_type": "code",
   "execution_count": 3,
   "id": "continental-citizenship",
   "metadata": {},
   "outputs": [],
   "source": [
    "# rating 컬럼의 이름을 count로 바꿉니다.\n",
    "ratings.rename(columns={'rating':'count'}, inplace=True)"
   ]
  },
  {
   "cell_type": "code",
   "execution_count": 4,
   "id": "banner-harmony",
   "metadata": {
    "scrolled": false
   },
   "outputs": [
    {
     "data": {
      "text/plain": [
       "0          5\n",
       "1          3\n",
       "2          3\n",
       "3          4\n",
       "4          5\n",
       "          ..\n",
       "1000203    3\n",
       "1000205    5\n",
       "1000206    5\n",
       "1000207    4\n",
       "1000208    4\n",
       "Name: count, Length: 836478, dtype: int64"
      ]
     },
     "execution_count": 4,
     "metadata": {},
     "output_type": "execute_result"
    }
   ],
   "source": [
    "ratings['count']"
   ]
  },
  {
   "cell_type": "code",
   "execution_count": 5,
   "id": "collectible-boards",
   "metadata": {
    "scrolled": false
   },
   "outputs": [
    {
     "data": {
      "text/html": [
       "<div>\n",
       "<style scoped>\n",
       "    .dataframe tbody tr th:only-of-type {\n",
       "        vertical-align: middle;\n",
       "    }\n",
       "\n",
       "    .dataframe tbody tr th {\n",
       "        vertical-align: top;\n",
       "    }\n",
       "\n",
       "    .dataframe thead th {\n",
       "        text-align: right;\n",
       "    }\n",
       "</style>\n",
       "<table border=\"1\" class=\"dataframe\">\n",
       "  <thead>\n",
       "    <tr style=\"text-align: right;\">\n",
       "      <th></th>\n",
       "      <th>movie_id</th>\n",
       "      <th>title</th>\n",
       "      <th>genre</th>\n",
       "    </tr>\n",
       "  </thead>\n",
       "  <tbody>\n",
       "    <tr>\n",
       "      <th>0</th>\n",
       "      <td>1</td>\n",
       "      <td>Toy Story (1995)</td>\n",
       "      <td>Animation|Children's|Comedy</td>\n",
       "    </tr>\n",
       "    <tr>\n",
       "      <th>1</th>\n",
       "      <td>2</td>\n",
       "      <td>Jumanji (1995)</td>\n",
       "      <td>Adventure|Children's|Fantasy</td>\n",
       "    </tr>\n",
       "    <tr>\n",
       "      <th>2</th>\n",
       "      <td>3</td>\n",
       "      <td>Grumpier Old Men (1995)</td>\n",
       "      <td>Comedy|Romance</td>\n",
       "    </tr>\n",
       "    <tr>\n",
       "      <th>3</th>\n",
       "      <td>4</td>\n",
       "      <td>Waiting to Exhale (1995)</td>\n",
       "      <td>Comedy|Drama</td>\n",
       "    </tr>\n",
       "    <tr>\n",
       "      <th>4</th>\n",
       "      <td>5</td>\n",
       "      <td>Father of the Bride Part II (1995)</td>\n",
       "      <td>Comedy</td>\n",
       "    </tr>\n",
       "  </tbody>\n",
       "</table>\n",
       "</div>"
      ],
      "text/plain": [
       "   movie_id                               title                         genre\n",
       "0         1                    Toy Story (1995)   Animation|Children's|Comedy\n",
       "1         2                      Jumanji (1995)  Adventure|Children's|Fantasy\n",
       "2         3             Grumpier Old Men (1995)                Comedy|Romance\n",
       "3         4            Waiting to Exhale (1995)                  Comedy|Drama\n",
       "4         5  Father of the Bride Part II (1995)                        Comedy"
      ]
     },
     "execution_count": 5,
     "metadata": {},
     "output_type": "execute_result"
    }
   ],
   "source": [
    "# 영화 제목을 보기 위해 메타 데이터를 읽어옵니다.\n",
    "movie_file_path=os.getenv('HOME') + '/aiffel/recommendata_iu/data/ml-1m/movies.dat'\n",
    "cols = ['movie_id', 'title', 'genre'] \n",
    "movies = pd.read_csv(movie_file_path, sep='::', names=cols, engine='python')\n",
    "movies.head()"
   ]
  },
  {
   "cell_type": "markdown",
   "id": "unsigned-calculation",
   "metadata": {},
   "source": [
    "# 2) 분석해 봅시다.\n",
    "\n",
    "- ratings에 있는 유니크한 영화 개수\n",
    "- rating에 있는 유니크한 사용자 수\n",
    "- 가장 인기 있는 영화 30개(인기순)"
   ]
  },
  {
   "cell_type": "markdown",
   "id": "clear-clinton",
   "metadata": {},
   "source": [
    "```\n",
    "ratings            : ['user_id', 'movie_id', 'count', 'timestamp']\n",
    "movies             : ['movie_id', 'title', 'genre']\n",
    "movies_data        : ['user_id', 'movie_id', 'count', 'timestamp', 'title', 'genre']\n",
    "orginal_data_size  : 평점이 1~5 횟수  (1000209)\n",
    "filtered_data_size : 평점이 3이상인 횟수(836478) \n",
    "```"
   ]
  },
  {
   "cell_type": "code",
   "execution_count": 6,
   "id": "advanced-finish",
   "metadata": {},
   "outputs": [
    {
     "data": {
      "text/plain": [
       "3628"
      ]
     },
     "execution_count": 6,
     "metadata": {},
     "output_type": "execute_result"
    }
   ],
   "source": [
    "# ratings에 있는 유니크한 영화 개수\n",
    "ratings['movie_id'].nunique()"
   ]
  },
  {
   "cell_type": "code",
   "execution_count": 7,
   "id": "informative-engagement",
   "metadata": {
    "scrolled": true
   },
   "outputs": [
    {
     "data": {
      "text/plain": [
       "6039"
      ]
     },
     "execution_count": 7,
     "metadata": {},
     "output_type": "execute_result"
    }
   ],
   "source": [
    "# ratings에 있는 유니크한 사용자 수\n",
    "ratings['user_id'].nunique()"
   ]
  },
  {
   "cell_type": "markdown",
   "id": "temporal-animal",
   "metadata": {},
   "source": [
    "#### 두 DataFrame(ratings과 movies)를 기준 컬럼(movie_id) 기준으로 Join\n",
    "https://programmerpsy.tistory.com/17"
   ]
  },
  {
   "cell_type": "code",
   "execution_count": 8,
   "id": "given-eight",
   "metadata": {
    "scrolled": false
   },
   "outputs": [
    {
     "data": {
      "text/html": [
       "<div>\n",
       "<style scoped>\n",
       "    .dataframe tbody tr th:only-of-type {\n",
       "        vertical-align: middle;\n",
       "    }\n",
       "\n",
       "    .dataframe tbody tr th {\n",
       "        vertical-align: top;\n",
       "    }\n",
       "\n",
       "    .dataframe thead th {\n",
       "        text-align: right;\n",
       "    }\n",
       "</style>\n",
       "<table border=\"1\" class=\"dataframe\">\n",
       "  <thead>\n",
       "    <tr style=\"text-align: right;\">\n",
       "      <th></th>\n",
       "      <th>user_id</th>\n",
       "      <th>movie_id</th>\n",
       "      <th>count</th>\n",
       "      <th>timestamp</th>\n",
       "      <th>title</th>\n",
       "      <th>genre</th>\n",
       "    </tr>\n",
       "  </thead>\n",
       "  <tbody>\n",
       "    <tr>\n",
       "      <th>0</th>\n",
       "      <td>1</td>\n",
       "      <td>1193</td>\n",
       "      <td>5</td>\n",
       "      <td>978300760</td>\n",
       "      <td>One Flew Over the Cuckoo's Nest (1975)</td>\n",
       "      <td>Drama</td>\n",
       "    </tr>\n",
       "    <tr>\n",
       "      <th>1</th>\n",
       "      <td>2</td>\n",
       "      <td>1193</td>\n",
       "      <td>5</td>\n",
       "      <td>978298413</td>\n",
       "      <td>One Flew Over the Cuckoo's Nest (1975)</td>\n",
       "      <td>Drama</td>\n",
       "    </tr>\n",
       "    <tr>\n",
       "      <th>2</th>\n",
       "      <td>12</td>\n",
       "      <td>1193</td>\n",
       "      <td>4</td>\n",
       "      <td>978220179</td>\n",
       "      <td>One Flew Over the Cuckoo's Nest (1975)</td>\n",
       "      <td>Drama</td>\n",
       "    </tr>\n",
       "    <tr>\n",
       "      <th>3</th>\n",
       "      <td>15</td>\n",
       "      <td>1193</td>\n",
       "      <td>4</td>\n",
       "      <td>978199279</td>\n",
       "      <td>One Flew Over the Cuckoo's Nest (1975)</td>\n",
       "      <td>Drama</td>\n",
       "    </tr>\n",
       "    <tr>\n",
       "      <th>4</th>\n",
       "      <td>17</td>\n",
       "      <td>1193</td>\n",
       "      <td>5</td>\n",
       "      <td>978158471</td>\n",
       "      <td>One Flew Over the Cuckoo's Nest (1975)</td>\n",
       "      <td>Drama</td>\n",
       "    </tr>\n",
       "    <tr>\n",
       "      <th>5</th>\n",
       "      <td>18</td>\n",
       "      <td>1193</td>\n",
       "      <td>4</td>\n",
       "      <td>978156168</td>\n",
       "      <td>One Flew Over the Cuckoo's Nest (1975)</td>\n",
       "      <td>Drama</td>\n",
       "    </tr>\n",
       "    <tr>\n",
       "      <th>6</th>\n",
       "      <td>19</td>\n",
       "      <td>1193</td>\n",
       "      <td>5</td>\n",
       "      <td>982730936</td>\n",
       "      <td>One Flew Over the Cuckoo's Nest (1975)</td>\n",
       "      <td>Drama</td>\n",
       "    </tr>\n",
       "    <tr>\n",
       "      <th>7</th>\n",
       "      <td>24</td>\n",
       "      <td>1193</td>\n",
       "      <td>5</td>\n",
       "      <td>978136709</td>\n",
       "      <td>One Flew Over the Cuckoo's Nest (1975)</td>\n",
       "      <td>Drama</td>\n",
       "    </tr>\n",
       "    <tr>\n",
       "      <th>8</th>\n",
       "      <td>28</td>\n",
       "      <td>1193</td>\n",
       "      <td>3</td>\n",
       "      <td>978125194</td>\n",
       "      <td>One Flew Over the Cuckoo's Nest (1975)</td>\n",
       "      <td>Drama</td>\n",
       "    </tr>\n",
       "    <tr>\n",
       "      <th>9</th>\n",
       "      <td>33</td>\n",
       "      <td>1193</td>\n",
       "      <td>5</td>\n",
       "      <td>978557765</td>\n",
       "      <td>One Flew Over the Cuckoo's Nest (1975)</td>\n",
       "      <td>Drama</td>\n",
       "    </tr>\n",
       "  </tbody>\n",
       "</table>\n",
       "</div>"
      ],
      "text/plain": [
       "   user_id  movie_id  count  timestamp  \\\n",
       "0        1      1193      5  978300760   \n",
       "1        2      1193      5  978298413   \n",
       "2       12      1193      4  978220179   \n",
       "3       15      1193      4  978199279   \n",
       "4       17      1193      5  978158471   \n",
       "5       18      1193      4  978156168   \n",
       "6       19      1193      5  982730936   \n",
       "7       24      1193      5  978136709   \n",
       "8       28      1193      3  978125194   \n",
       "9       33      1193      5  978557765   \n",
       "\n",
       "                                    title  genre  \n",
       "0  One Flew Over the Cuckoo's Nest (1975)  Drama  \n",
       "1  One Flew Over the Cuckoo's Nest (1975)  Drama  \n",
       "2  One Flew Over the Cuckoo's Nest (1975)  Drama  \n",
       "3  One Flew Over the Cuckoo's Nest (1975)  Drama  \n",
       "4  One Flew Over the Cuckoo's Nest (1975)  Drama  \n",
       "5  One Flew Over the Cuckoo's Nest (1975)  Drama  \n",
       "6  One Flew Over the Cuckoo's Nest (1975)  Drama  \n",
       "7  One Flew Over the Cuckoo's Nest (1975)  Drama  \n",
       "8  One Flew Over the Cuckoo's Nest (1975)  Drama  \n",
       "9  One Flew Over the Cuckoo's Nest (1975)  Drama  "
      ]
     },
     "execution_count": 8,
     "metadata": {},
     "output_type": "execute_result"
    }
   ],
   "source": [
    "movies_data = pd.merge(left = ratings , right = movies, how = \"inner\", on = \"movie_id\")\n",
    "movies_data.head(10)"
   ]
  },
  {
   "cell_type": "markdown",
   "id": "increased-tuition",
   "metadata": {},
   "source": [
    "#### 결측치 확인"
   ]
  },
  {
   "cell_type": "code",
   "execution_count": 9,
   "id": "reflected-three",
   "metadata": {
    "scrolled": false
   },
   "outputs": [
    {
     "data": {
      "text/plain": [
       "user_id      0\n",
       "movie_id     0\n",
       "count        0\n",
       "timestamp    0\n",
       "title        0\n",
       "genre        0\n",
       "dtype: int64"
      ]
     },
     "execution_count": 9,
     "metadata": {},
     "output_type": "execute_result"
    }
   ],
   "source": [
    "movies_data.isnull().sum()"
   ]
  },
  {
   "cell_type": "markdown",
   "id": "cleared-freeware",
   "metadata": {},
   "source": [
    "### 가장 인기 있는 영화 30개(인기순)"
   ]
  },
  {
   "cell_type": "code",
   "execution_count": 10,
   "id": "impaired-coral",
   "metadata": {
    "scrolled": false
   },
   "outputs": [
    {
     "data": {
      "text/plain": [
       "title\n",
       "American Beauty (1999)                                   3211\n",
       "Star Wars: Episode IV - A New Hope (1977)                2910\n",
       "Star Wars: Episode V - The Empire Strikes Back (1980)    2885\n",
       "Star Wars: Episode VI - Return of the Jedi (1983)        2716\n",
       "Saving Private Ryan (1998)                               2561\n",
       "Terminator 2: Judgment Day (1991)                        2509\n",
       "Silence of the Lambs, The (1991)                         2498\n",
       "Raiders of the Lost Ark (1981)                           2473\n",
       "Back to the Future (1985)                                2460\n",
       "Matrix, The (1999)                                       2434\n",
       "Jurassic Park (1993)                                     2413\n",
       "Sixth Sense, The (1999)                                  2385\n",
       "Fargo (1996)                                             2371\n",
       "Braveheart (1995)                                        2314\n",
       "Men in Black (1997)                                      2297\n",
       "Schindler's List (1993)                                  2257\n",
       "Princess Bride, The (1987)                               2252\n",
       "Shakespeare in Love (1998)                               2213\n",
       "L.A. Confidential (1997)                                 2210\n",
       "Shawshank Redemption, The (1994)                         2194\n",
       "Godfather, The (1972)                                    2167\n",
       "Groundhog Day (1993)                                     2121\n",
       "E.T. the Extra-Terrestrial (1982)                        2102\n",
       "Being John Malkovich (1999)                              2066\n",
       "Ghostbusters (1984)                                      2051\n",
       "Pulp Fiction (1994)                                      2030\n",
       "Forrest Gump (1994)                                      2022\n",
       "Terminator, The (1984)                                   2019\n",
       "Toy Story (1995)                                         2000\n",
       "Fugitive, The (1993)                                     1941\n",
       "Name: count, dtype: int64"
      ]
     },
     "execution_count": 10,
     "metadata": {},
     "output_type": "execute_result"
    }
   ],
   "source": [
    "# 평점 3,4,5 모두 인기있는 경우라고 정한다.\n",
    "# 3,4,5점을 한번 받으면 1 count로 정하고, 각 영화에 대한 총 count수를 로 정렬한다. \n",
    "movies_count = movies_data.groupby('title')['count'].count()\n",
    "\n",
    "movies_count.sort_values(ascending=False).head(30)"
   ]
  },
  {
   "cell_type": "markdown",
   "id": "acquired-shape",
   "metadata": {},
   "source": [
    "# 3) 내가 선호하는 영화를 5가지 골라서 rating에 추가해 줍시다."
   ]
  },
  {
   "cell_type": "markdown",
   "id": "prospective-clinic",
   "metadata": {},
   "source": [
    "판다스 함수    \n",
    "https://dandyrilla.github.io/2017-08-12/pandas-10min/#2-%EB%8D%B0%EC%9D%B4%ED%84%B0-%ED%99%95%EC%9D%B8%ED%95%98%EA%B8%B0-viewing-data\n",
    "\n",
    "\n"
   ]
  },
  {
   "cell_type": "markdown",
   "id": "detected-marshall",
   "metadata": {},
   "source": [
    "```\n",
    "moives_data   :'user_id','movie_id','count','timestamp','title','genre'\n",
    "my_favorite   : 5개의 영화 title 리스트\n",
    "dir_favorite  : {'title' :'movie_id'}\n",
    "my_moivelist  : \n",
    "\n",
    "```"
   ]
  },
  {
   "cell_type": "markdown",
   "id": "convenient-exhibit",
   "metadata": {},
   "source": [
    "### title 입력시 -> movie_id 반환 함수"
   ]
  },
  {
   "cell_type": "code",
   "execution_count": 11,
   "id": "quick-implement",
   "metadata": {},
   "outputs": [
    {
     "data": {
      "text/plain": [
       "2"
      ]
     },
     "execution_count": 11,
     "metadata": {},
     "output_type": "execute_result"
    }
   ],
   "source": [
    "# [title] input -> [movie_id] output\n",
    "def title_in_id_out(title):\n",
    "    a=movies_data[movies_data['title'].isin([title])] # title칼럼중 인자로 들어온 title과 같은 행렬 추출\n",
    "    mv_id=a.iloc[0,1] #추출된 행렬중 0번째 행의 1번째칼럼[movie_id] 값 가져온다.\n",
    "    return mv_id\n",
    "#title가 'Jumanji (1995)'인 movie_id 출력\n",
    "title_in_id_out('Jumanji (1995)')"
   ]
  },
  {
   "cell_type": "markdown",
   "id": "sealed-genesis",
   "metadata": {},
   "source": [
    "### movie_id 입력시 -> title  반환 함수¶"
   ]
  },
  {
   "cell_type": "code",
   "execution_count": 12,
   "id": "fabulous-prospect",
   "metadata": {},
   "outputs": [
    {
     "data": {
      "text/plain": [
       "'Assassins (1995)'"
      ]
     },
     "execution_count": 12,
     "metadata": {},
     "output_type": "execute_result"
    }
   ],
   "source": [
    "# [movie_id] output -> [title] input\n",
    "def id_in_title_out(movie_id):\n",
    "    a=movies_data[movies_data['movie_id'].isin([movie_id])] # movie_id칼럼중 인자에 들어온 영화id와 같은 행렬 추출\n",
    "    title=a.iloc[0,4] #추출된 행렬중 0번째 행의 4번째칼럼[title] 값 가져온다.\n",
    "    return title\n",
    "\n",
    "#moive_id가 23인 title값 출력\n",
    "id_in_title_out(23)"
   ]
  },
  {
   "cell_type": "markdown",
   "id": "comparative-bolivia",
   "metadata": {},
   "source": [
    "### 선호하는 영화 리스트 ,딕셔너리 만들기( title과 movie_id )"
   ]
  },
  {
   "cell_type": "code",
   "execution_count": 13,
   "id": "personalized-instruction",
   "metadata": {
    "scrolled": false
   },
   "outputs": [
    {
     "name": "stdout",
     "output_type": "stream",
     "text": [
      "영화명: Toy Story (1995) \t\t 무비id: 1\n",
      "영화명: Toy Story (1995) \t\t 무비id: 1\n",
      "영화명: Terminator, The (1984) \t\t 무비id: 1240\n",
      "영화명: Terminator, The (1984) \t\t 무비id: 1240\n",
      "영화명: Matrix, The (1999) \t\t 무비id: 2571\n",
      "영화명: Matrix, The (1999) \t\t 무비id: 2571\n",
      "영화명: Toy Story 2 (1999) \t\t 무비id: 3114\n",
      "영화명: Toy Story 2 (1999) \t\t 무비id: 3114\n",
      "영화명: Jumanji (1995) \t\t 무비id: 2\n",
      "영화명: Jumanji (1995) \t\t 무비id: 2\n"
     ]
    },
    {
     "data": {
      "text/plain": [
       "[1, 1240, 2571, 3114, 2]"
      ]
     },
     "execution_count": 13,
     "metadata": {},
     "output_type": "execute_result"
    }
   ],
   "source": [
    "# 영화 이름은 꼭 데이터셋에 있는 것과 동일하게 맞춰주세요. \n",
    "#선호 영화 리스트 생성\n",
    "my_favorite = ['Toy Story (1995)' , 'Terminator, The (1984)' ,'Matrix, The (1999)' ,'Toy Story 2 (1999)' ,'Jumanji (1995)']\n",
    "my_movie_id = []\n",
    "\n",
    "\n",
    "#선호 영화 딕셔너리 생성\n",
    "dir_favorite ={} #{'title' :'movie_id'} 딕셔너리\n",
    " \n",
    "for title in my_favorite:\n",
    "    mv_id = title_in_id_out(title)\n",
    "    my_movie_id.append(mv_id) \n",
    "    print('영화명:',title,'\\t\\t 무비id:', mv_id)\n",
    "    \n",
    "    dir_favorite[title]=int(mv_id)\n",
    "    print('영화명:',title,'\\t\\t 무비id:', dir_favorite[title])\n",
    "    \n",
    "       \n",
    "\n",
    "#print(movies_data.columns)\n",
    "#movies_data.sort_values(by='movie_id')\n",
    "my_movie_id"
   ]
  },
  {
   "cell_type": "markdown",
   "id": "studied-vienna",
   "metadata": {},
   "source": [
    "### user_id 순으로 정렬하기"
   ]
  },
  {
   "cell_type": "code",
   "execution_count": 14,
   "id": "first-photographer",
   "metadata": {
    "scrolled": false
   },
   "outputs": [
    {
     "name": "stdout",
     "output_type": "stream",
     "text": [
      "6039\n"
     ]
    },
    {
     "data": {
      "text/html": [
       "<div>\n",
       "<style scoped>\n",
       "    .dataframe tbody tr th:only-of-type {\n",
       "        vertical-align: middle;\n",
       "    }\n",
       "\n",
       "    .dataframe tbody tr th {\n",
       "        vertical-align: top;\n",
       "    }\n",
       "\n",
       "    .dataframe thead th {\n",
       "        text-align: right;\n",
       "    }\n",
       "</style>\n",
       "<table border=\"1\" class=\"dataframe\">\n",
       "  <thead>\n",
       "    <tr style=\"text-align: right;\">\n",
       "      <th></th>\n",
       "      <th>user_id</th>\n",
       "      <th>movie_id</th>\n",
       "      <th>count</th>\n",
       "      <th>timestamp</th>\n",
       "      <th>title</th>\n",
       "      <th>genre</th>\n",
       "    </tr>\n",
       "  </thead>\n",
       "  <tbody>\n",
       "    <tr>\n",
       "      <th>0</th>\n",
       "      <td>1</td>\n",
       "      <td>1193</td>\n",
       "      <td>5</td>\n",
       "      <td>978300760</td>\n",
       "      <td>One Flew Over the Cuckoo's Nest (1975)</td>\n",
       "      <td>Drama</td>\n",
       "    </tr>\n",
       "    <tr>\n",
       "      <th>31113</th>\n",
       "      <td>1</td>\n",
       "      <td>2294</td>\n",
       "      <td>4</td>\n",
       "      <td>978824291</td>\n",
       "      <td>Antz (1998)</td>\n",
       "      <td>Animation|Children's</td>\n",
       "    </tr>\n",
       "    <tr>\n",
       "      <th>31674</th>\n",
       "      <td>1</td>\n",
       "      <td>3186</td>\n",
       "      <td>4</td>\n",
       "      <td>978300019</td>\n",
       "      <td>Girl, Interrupted (1999)</td>\n",
       "      <td>Drama</td>\n",
       "    </tr>\n",
       "    <tr>\n",
       "      <th>32044</th>\n",
       "      <td>1</td>\n",
       "      <td>1566</td>\n",
       "      <td>4</td>\n",
       "      <td>978824330</td>\n",
       "      <td>Hercules (1997)</td>\n",
       "      <td>Adventure|Animation|Children's|Comedy|Musical</td>\n",
       "    </tr>\n",
       "    <tr>\n",
       "      <th>32415</th>\n",
       "      <td>1</td>\n",
       "      <td>588</td>\n",
       "      <td>4</td>\n",
       "      <td>978824268</td>\n",
       "      <td>Aladdin (1992)</td>\n",
       "      <td>Animation|Children's|Comedy|Musical</td>\n",
       "    </tr>\n",
       "    <tr>\n",
       "      <th>...</th>\n",
       "      <td>...</td>\n",
       "      <td>...</td>\n",
       "      <td>...</td>\n",
       "      <td>...</td>\n",
       "      <td>...</td>\n",
       "      <td>...</td>\n",
       "    </tr>\n",
       "    <tr>\n",
       "      <th>657728</th>\n",
       "      <td>6040</td>\n",
       "      <td>334</td>\n",
       "      <td>4</td>\n",
       "      <td>957717503</td>\n",
       "      <td>Vanya on 42nd Street (1994)</td>\n",
       "      <td>Drama</td>\n",
       "    </tr>\n",
       "    <tr>\n",
       "      <th>393446</th>\n",
       "      <td>6040</td>\n",
       "      <td>1294</td>\n",
       "      <td>4</td>\n",
       "      <td>957716949</td>\n",
       "      <td>M*A*S*H (1970)</td>\n",
       "      <td>Comedy|War</td>\n",
       "    </tr>\n",
       "    <tr>\n",
       "      <th>253075</th>\n",
       "      <td>6040</td>\n",
       "      <td>994</td>\n",
       "      <td>3</td>\n",
       "      <td>960972693</td>\n",
       "      <td>Big Night (1996)</td>\n",
       "      <td>Drama</td>\n",
       "    </tr>\n",
       "    <tr>\n",
       "      <th>127665</th>\n",
       "      <td>6040</td>\n",
       "      <td>2396</td>\n",
       "      <td>3</td>\n",
       "      <td>956704475</td>\n",
       "      <td>Shakespeare in Love (1998)</td>\n",
       "      <td>Comedy|Romance</td>\n",
       "    </tr>\n",
       "    <tr>\n",
       "      <th>738957</th>\n",
       "      <td>6040</td>\n",
       "      <td>2725</td>\n",
       "      <td>4</td>\n",
       "      <td>997454180</td>\n",
       "      <td>Twin Falls Idaho (1999)</td>\n",
       "      <td>Drama</td>\n",
       "    </tr>\n",
       "  </tbody>\n",
       "</table>\n",
       "<p>836478 rows × 6 columns</p>\n",
       "</div>"
      ],
      "text/plain": [
       "        user_id  movie_id  count  timestamp  \\\n",
       "0             1      1193      5  978300760   \n",
       "31113         1      2294      4  978824291   \n",
       "31674         1      3186      4  978300019   \n",
       "32044         1      1566      4  978824330   \n",
       "32415         1       588      4  978824268   \n",
       "...         ...       ...    ...        ...   \n",
       "657728     6040       334      4  957717503   \n",
       "393446     6040      1294      4  957716949   \n",
       "253075     6040       994      3  960972693   \n",
       "127665     6040      2396      3  956704475   \n",
       "738957     6040      2725      4  997454180   \n",
       "\n",
       "                                         title  \\\n",
       "0       One Flew Over the Cuckoo's Nest (1975)   \n",
       "31113                              Antz (1998)   \n",
       "31674                 Girl, Interrupted (1999)   \n",
       "32044                          Hercules (1997)   \n",
       "32415                           Aladdin (1992)   \n",
       "...                                        ...   \n",
       "657728             Vanya on 42nd Street (1994)   \n",
       "393446                          M*A*S*H (1970)   \n",
       "253075                        Big Night (1996)   \n",
       "127665              Shakespeare in Love (1998)   \n",
       "738957                 Twin Falls Idaho (1999)   \n",
       "\n",
       "                                                genre  \n",
       "0                                               Drama  \n",
       "31113                            Animation|Children's  \n",
       "31674                                           Drama  \n",
       "32044   Adventure|Animation|Children's|Comedy|Musical  \n",
       "32415             Animation|Children's|Comedy|Musical  \n",
       "...                                               ...  \n",
       "657728                                          Drama  \n",
       "393446                                     Comedy|War  \n",
       "253075                                          Drama  \n",
       "127665                                 Comedy|Romance  \n",
       "738957                                          Drama  \n",
       "\n",
       "[836478 rows x 6 columns]"
      ]
     },
     "execution_count": 14,
     "metadata": {},
     "output_type": "execute_result"
    }
   ],
   "source": [
    "# user_id 마지막은 6040\n",
    "# user_id은 1부터 시작해서 6040개로 끝난다면 유니크한 값은 6040개가 되어야되는데 6039개다 ,그럼 중간에 한개의 값이 없다고 추측된다.\n",
    "print(ratings['user_id'].nunique()) \n",
    "movies_data.sort_values(by='user_id',ascending=True, inplace=False)"
   ]
  },
  {
   "cell_type": "markdown",
   "id": "valid-disposition",
   "metadata": {},
   "source": [
    "### 새로운 사용자 정보 추가\n",
    "위에서 생성한 선호 영화5개를 좋아하는 syj계정을 ratings의 DataFrame에 추가한다."
   ]
  },
  {
   "cell_type": "code",
   "execution_count": 15,
   "id": "premium-quilt",
   "metadata": {
    "scrolled": true
   },
   "outputs": [
    {
     "data": {
      "text/html": [
       "<div>\n",
       "<style scoped>\n",
       "    .dataframe tbody tr th:only-of-type {\n",
       "        vertical-align: middle;\n",
       "    }\n",
       "\n",
       "    .dataframe tbody tr th {\n",
       "        vertical-align: top;\n",
       "    }\n",
       "\n",
       "    .dataframe thead th {\n",
       "        text-align: right;\n",
       "    }\n",
       "</style>\n",
       "<table border=\"1\" class=\"dataframe\">\n",
       "  <thead>\n",
       "    <tr style=\"text-align: right;\">\n",
       "      <th></th>\n",
       "      <th>user_id</th>\n",
       "      <th>movie_id</th>\n",
       "      <th>count</th>\n",
       "      <th>timestamp</th>\n",
       "    </tr>\n",
       "  </thead>\n",
       "  <tbody>\n",
       "    <tr>\n",
       "      <th>1000203</th>\n",
       "      <td>6040</td>\n",
       "      <td>1090</td>\n",
       "      <td>3</td>\n",
       "      <td>956715518.0</td>\n",
       "    </tr>\n",
       "    <tr>\n",
       "      <th>1000205</th>\n",
       "      <td>6040</td>\n",
       "      <td>1094</td>\n",
       "      <td>5</td>\n",
       "      <td>956704887.0</td>\n",
       "    </tr>\n",
       "    <tr>\n",
       "      <th>1000206</th>\n",
       "      <td>6040</td>\n",
       "      <td>562</td>\n",
       "      <td>5</td>\n",
       "      <td>956704746.0</td>\n",
       "    </tr>\n",
       "    <tr>\n",
       "      <th>1000207</th>\n",
       "      <td>6040</td>\n",
       "      <td>1096</td>\n",
       "      <td>4</td>\n",
       "      <td>956715648.0</td>\n",
       "    </tr>\n",
       "    <tr>\n",
       "      <th>1000208</th>\n",
       "      <td>6040</td>\n",
       "      <td>1097</td>\n",
       "      <td>4</td>\n",
       "      <td>956715569.0</td>\n",
       "    </tr>\n",
       "    <tr>\n",
       "      <th>0</th>\n",
       "      <td>syj</td>\n",
       "      <td>1</td>\n",
       "      <td>5</td>\n",
       "      <td>NaN</td>\n",
       "    </tr>\n",
       "    <tr>\n",
       "      <th>1</th>\n",
       "      <td>syj</td>\n",
       "      <td>1240</td>\n",
       "      <td>5</td>\n",
       "      <td>NaN</td>\n",
       "    </tr>\n",
       "    <tr>\n",
       "      <th>2</th>\n",
       "      <td>syj</td>\n",
       "      <td>2571</td>\n",
       "      <td>5</td>\n",
       "      <td>NaN</td>\n",
       "    </tr>\n",
       "    <tr>\n",
       "      <th>3</th>\n",
       "      <td>syj</td>\n",
       "      <td>3114</td>\n",
       "      <td>5</td>\n",
       "      <td>NaN</td>\n",
       "    </tr>\n",
       "    <tr>\n",
       "      <th>4</th>\n",
       "      <td>syj</td>\n",
       "      <td>2</td>\n",
       "      <td>5</td>\n",
       "      <td>NaN</td>\n",
       "    </tr>\n",
       "  </tbody>\n",
       "</table>\n",
       "</div>"
      ],
      "text/plain": [
       "        user_id  movie_id  count    timestamp\n",
       "1000203    6040      1090      3  956715518.0\n",
       "1000205    6040      1094      5  956704887.0\n",
       "1000206    6040       562      5  956704746.0\n",
       "1000207    6040      1096      4  956715648.0\n",
       "1000208    6040      1097      4  956715569.0\n",
       "0           syj         1      5          NaN\n",
       "1           syj      1240      5          NaN\n",
       "2           syj      2571      5          NaN\n",
       "3           syj      3114      5          NaN\n",
       "4           syj         2      5          NaN"
      ]
     },
     "execution_count": 15,
     "metadata": {},
     "output_type": "execute_result"
    }
   ],
   "source": [
    "\n",
    " \n",
    "#my_moivelist = pd.DataFrame({'user_id': [0]*5, 'movie_id': my_movie_id, 'count':[5]*5})\n",
    "my_moivelist = pd.DataFrame({'user_id': ['syj']*5, 'movie_id': my_movie_id, 'count':[5]*5})\n",
    "\n",
    "# 사용자는 6039이였기때문에  나에대한 유저번호는 6040으로 설정한다.\n",
    "if not ratings.isin({'user_id':[6041]})['user_id'].any():  # user_id에 'zimin'이라는 데이터가 없다면\n",
    "    ratings = ratings.append(my_moivelist)              \n",
    "\n",
    "ratings.tail(10)"
   ]
  },
  {
   "cell_type": "markdown",
   "id": "tribal-rebate",
   "metadata": {},
   "source": [
    "### 두 DataFrame(새로운 데이터를 갖은ratings와 movies)를 기준 컬럼(movie_id) 기준으로 Join"
   ]
  },
  {
   "cell_type": "markdown",
   "id": "flush-minutes",
   "metadata": {},
   "source": [
    "836478->836483 기존 ratings에서 5개의 행이 추가되었다."
   ]
  },
  {
   "cell_type": "code",
   "execution_count": 16,
   "id": "analyzed-invalid",
   "metadata": {
    "scrolled": false
   },
   "outputs": [
    {
     "name": "stdout",
     "output_type": "stream",
     "text": [
      "기본행 개수 836478\n",
      "추가후 행 개수 836483\n"
     ]
    },
    {
     "data": {
      "text/html": [
       "<div>\n",
       "<style scoped>\n",
       "    .dataframe tbody tr th:only-of-type {\n",
       "        vertical-align: middle;\n",
       "    }\n",
       "\n",
       "    .dataframe tbody tr th {\n",
       "        vertical-align: top;\n",
       "    }\n",
       "\n",
       "    .dataframe thead th {\n",
       "        text-align: right;\n",
       "    }\n",
       "</style>\n",
       "<table border=\"1\" class=\"dataframe\">\n",
       "  <thead>\n",
       "    <tr style=\"text-align: right;\">\n",
       "      <th></th>\n",
       "      <th>user_id</th>\n",
       "      <th>movie_id</th>\n",
       "      <th>count</th>\n",
       "      <th>timestamp</th>\n",
       "      <th>title</th>\n",
       "      <th>genre</th>\n",
       "    </tr>\n",
       "  </thead>\n",
       "  <tbody>\n",
       "    <tr>\n",
       "      <th>836478</th>\n",
       "      <td>5851</td>\n",
       "      <td>3607</td>\n",
       "      <td>5</td>\n",
       "      <td>9.577566e+08</td>\n",
       "      <td>One Little Indian (1973)</td>\n",
       "      <td>Comedy|Drama|Western</td>\n",
       "    </tr>\n",
       "    <tr>\n",
       "      <th>836479</th>\n",
       "      <td>5854</td>\n",
       "      <td>3026</td>\n",
       "      <td>4</td>\n",
       "      <td>9.583469e+08</td>\n",
       "      <td>Slaughterhouse (1987)</td>\n",
       "      <td>Horror</td>\n",
       "    </tr>\n",
       "    <tr>\n",
       "      <th>836480</th>\n",
       "      <td>5854</td>\n",
       "      <td>690</td>\n",
       "      <td>3</td>\n",
       "      <td>9.577443e+08</td>\n",
       "      <td>Promise, The (Versprechen, Das) (1994)</td>\n",
       "      <td>Romance</td>\n",
       "    </tr>\n",
       "    <tr>\n",
       "      <th>836481</th>\n",
       "      <td>5938</td>\n",
       "      <td>2909</td>\n",
       "      <td>4</td>\n",
       "      <td>9.572734e+08</td>\n",
       "      <td>Five Wives, Three Secretaries and Me (1998)</td>\n",
       "      <td>Documentary</td>\n",
       "    </tr>\n",
       "    <tr>\n",
       "      <th>836482</th>\n",
       "      <td>5948</td>\n",
       "      <td>1360</td>\n",
       "      <td>5</td>\n",
       "      <td>1.016564e+09</td>\n",
       "      <td>Identification of a Woman (Identificazione di ...</td>\n",
       "      <td>Drama</td>\n",
       "    </tr>\n",
       "  </tbody>\n",
       "</table>\n",
       "</div>"
      ],
      "text/plain": [
       "       user_id  movie_id  count     timestamp  \\\n",
       "836478    5851      3607      5  9.577566e+08   \n",
       "836479    5854      3026      4  9.583469e+08   \n",
       "836480    5854       690      3  9.577443e+08   \n",
       "836481    5938      2909      4  9.572734e+08   \n",
       "836482    5948      1360      5  1.016564e+09   \n",
       "\n",
       "                                                    title  \\\n",
       "836478                           One Little Indian (1973)   \n",
       "836479                              Slaughterhouse (1987)   \n",
       "836480             Promise, The (Versprechen, Das) (1994)   \n",
       "836481        Five Wives, Three Secretaries and Me (1998)   \n",
       "836482  Identification of a Woman (Identificazione di ...   \n",
       "\n",
       "                       genre  \n",
       "836478  Comedy|Drama|Western  \n",
       "836479                Horror  \n",
       "836480               Romance  \n",
       "836481           Documentary  \n",
       "836482                 Drama  "
      ]
     },
     "execution_count": 16,
     "metadata": {},
     "output_type": "execute_result"
    }
   ],
   "source": [
    "print('기본행 개수',len(movies_data))\n",
    "movies_data = pd.merge(left = ratings , right = movies, how = \"inner\", on = \"movie_id\")\n",
    "movies_data.head(10)\n",
    "print('추가후 행 개수',len(movies_data))\n",
    "movies_data.tail(5)"
   ]
  },
  {
   "cell_type": "markdown",
   "id": "american-guest",
   "metadata": {},
   "source": [
    "### movies_data중 활용할 칼럼만 movies_tmp(DataFrame)으로 뽑는다."
   ]
  },
  {
   "cell_type": "code",
   "execution_count": 17,
   "id": "finite-repository",
   "metadata": {
    "scrolled": true
   },
   "outputs": [
    {
     "data": {
      "text/html": [
       "<div>\n",
       "<style scoped>\n",
       "    .dataframe tbody tr th:only-of-type {\n",
       "        vertical-align: middle;\n",
       "    }\n",
       "\n",
       "    .dataframe tbody tr th {\n",
       "        vertical-align: top;\n",
       "    }\n",
       "\n",
       "    .dataframe thead th {\n",
       "        text-align: right;\n",
       "    }\n",
       "</style>\n",
       "<table border=\"1\" class=\"dataframe\">\n",
       "  <thead>\n",
       "    <tr style=\"text-align: right;\">\n",
       "      <th></th>\n",
       "      <th>user_id</th>\n",
       "      <th>movie_id</th>\n",
       "      <th>count</th>\n",
       "    </tr>\n",
       "  </thead>\n",
       "  <tbody>\n",
       "    <tr>\n",
       "      <th>0</th>\n",
       "      <td>1</td>\n",
       "      <td>1193</td>\n",
       "      <td>5</td>\n",
       "    </tr>\n",
       "    <tr>\n",
       "      <th>1</th>\n",
       "      <td>2</td>\n",
       "      <td>1193</td>\n",
       "      <td>5</td>\n",
       "    </tr>\n",
       "    <tr>\n",
       "      <th>2</th>\n",
       "      <td>12</td>\n",
       "      <td>1193</td>\n",
       "      <td>4</td>\n",
       "    </tr>\n",
       "    <tr>\n",
       "      <th>3</th>\n",
       "      <td>15</td>\n",
       "      <td>1193</td>\n",
       "      <td>4</td>\n",
       "    </tr>\n",
       "    <tr>\n",
       "      <th>4</th>\n",
       "      <td>17</td>\n",
       "      <td>1193</td>\n",
       "      <td>5</td>\n",
       "    </tr>\n",
       "    <tr>\n",
       "      <th>...</th>\n",
       "      <td>...</td>\n",
       "      <td>...</td>\n",
       "      <td>...</td>\n",
       "    </tr>\n",
       "    <tr>\n",
       "      <th>836478</th>\n",
       "      <td>5851</td>\n",
       "      <td>3607</td>\n",
       "      <td>5</td>\n",
       "    </tr>\n",
       "    <tr>\n",
       "      <th>836479</th>\n",
       "      <td>5854</td>\n",
       "      <td>3026</td>\n",
       "      <td>4</td>\n",
       "    </tr>\n",
       "    <tr>\n",
       "      <th>836480</th>\n",
       "      <td>5854</td>\n",
       "      <td>690</td>\n",
       "      <td>3</td>\n",
       "    </tr>\n",
       "    <tr>\n",
       "      <th>836481</th>\n",
       "      <td>5938</td>\n",
       "      <td>2909</td>\n",
       "      <td>4</td>\n",
       "    </tr>\n",
       "    <tr>\n",
       "      <th>836482</th>\n",
       "      <td>5948</td>\n",
       "      <td>1360</td>\n",
       "      <td>5</td>\n",
       "    </tr>\n",
       "  </tbody>\n",
       "</table>\n",
       "<p>836483 rows × 3 columns</p>\n",
       "</div>"
      ],
      "text/plain": [
       "       user_id  movie_id  count\n",
       "0            1      1193      5\n",
       "1            2      1193      5\n",
       "2           12      1193      4\n",
       "3           15      1193      4\n",
       "4           17      1193      5\n",
       "...        ...       ...    ...\n",
       "836478    5851      3607      5\n",
       "836479    5854      3026      4\n",
       "836480    5854       690      3\n",
       "836481    5938      2909      4\n",
       "836482    5948      1360      5\n",
       "\n",
       "[836483 rows x 3 columns]"
      ]
     },
     "execution_count": 17,
     "metadata": {},
     "output_type": "execute_result"
    }
   ],
   "source": [
    "movies_tmp= movies_data.loc[:,['user_id','movie_id','count']]\n",
    "movies_tmp"
   ]
  },
  {
   "cell_type": "markdown",
   "id": "arbitrary-stream",
   "metadata": {},
   "source": [
    "# indexing\n",
    "- 데이터를 식별하기 위한 데이터 인덱싱 작업\n",
    "- 우린 user_id와 movie_id 각각에 번호를 붙인다.\n",
    "- user_id 경우 syj이라는 문자열이 존재한다. moive_id경우 모두 숫자이다.그러므로 user_id만 재 변경해주자."
   ]
  },
  {
   "cell_type": "code",
   "execution_count": 18,
   "id": "collective-tomorrow",
   "metadata": {
    "scrolled": true
   },
   "outputs": [],
   "source": [
    "# 고유한 유저, movie_id를 찾아내는 코드\n",
    "user_unique = movies_tmp['user_id'].unique()\n",
    "movie_unique = movies_tmp['movie_id'].unique()\n",
    "\n",
    "# 유저id, 영화id indexing 하는 코드 idx는 index의 약자입니다.\n",
    "user_to_idx = {v:k for k,v in enumerate(user_unique)}\n",
    "movie_to_idx = {v:k for k,v in enumerate(movie_unique)}"
   ]
  },
  {
   "cell_type": "markdown",
   "id": "respective-yellow",
   "metadata": {},
   "source": [
    "### user_id의 인덱싱정보"
   ]
  },
  {
   "cell_type": "code",
   "execution_count": 19,
   "id": "raising-specific",
   "metadata": {
    "scrolled": true
   },
   "outputs": [
    {
     "name": "stdout",
     "output_type": "stream",
     "text": [
      "user_id:1    ,user_idx:0\n",
      "user_id:2    ,user_idx:1\n",
      "user_id:12    ,user_idx:2\n",
      "user_id:15    ,user_idx:3\n",
      "user_id:17    ,user_idx:4\n",
      "user_id:18    ,user_idx:5\n",
      "user_to_idx의 사이즈: 6040\n"
     ]
    }
   ],
   "source": [
    "num=0\n",
    "for key, value in user_to_idx.items():\n",
    "    print('user_id:{}    ,user_idx:{}'.format(key, value))\n",
    "    num+=1\n",
    "    if num>5:\n",
    "        break\n",
    "print('user_to_idx의 사이즈:', len(user_to_idx))       "
   ]
  },
  {
   "cell_type": "markdown",
   "id": "native-savannah",
   "metadata": {},
   "source": [
    "### moive_id의 인덱싱정보"
   ]
  },
  {
   "cell_type": "code",
   "execution_count": 20,
   "id": "fitted-temple",
   "metadata": {
    "scrolled": true
   },
   "outputs": [
    {
     "name": "stdout",
     "output_type": "stream",
     "text": [
      "movie_id:1193    ,movie_idx:0\n",
      "movie_id:661    ,movie_idx:1\n",
      "movie_id:914    ,movie_idx:2\n",
      "movie_id:3408    ,movie_idx:3\n",
      "movie_id:2355    ,movie_idx:4\n",
      "movie_id:1197    ,movie_idx:5\n",
      "user_to_idx의 사이즈: 3628\n"
     ]
    }
   ],
   "source": [
    "num=0\n",
    "for key, value in movie_to_idx.items():\n",
    "    print('movie_id:{}    ,movie_idx:{}'.format(key, value))\n",
    "    num+=1\n",
    "    if num>5:\n",
    "        break\n",
    "print('user_to_idx의 사이즈:', len(movie_to_idx))       "
   ]
  },
  {
   "cell_type": "markdown",
   "id": "through-tennis",
   "metadata": {},
   "source": [
    "### movies_tmp에 인덱싱(id,movie)된 데이터로 저장"
   ]
  },
  {
   "cell_type": "code",
   "execution_count": 21,
   "id": "behind-traveler",
   "metadata": {
    "scrolled": false
   },
   "outputs": [
    {
     "name": "stdout",
     "output_type": "stream",
     "text": [
      "user_id column indexing OK!!\n",
      "movie column indexing OK!!\n"
     ]
    },
    {
     "data": {
      "text/html": [
       "<div>\n",
       "<style scoped>\n",
       "    .dataframe tbody tr th:only-of-type {\n",
       "        vertical-align: middle;\n",
       "    }\n",
       "\n",
       "    .dataframe tbody tr th {\n",
       "        vertical-align: top;\n",
       "    }\n",
       "\n",
       "    .dataframe thead th {\n",
       "        text-align: right;\n",
       "    }\n",
       "</style>\n",
       "<table border=\"1\" class=\"dataframe\">\n",
       "  <thead>\n",
       "    <tr style=\"text-align: right;\">\n",
       "      <th></th>\n",
       "      <th>user_id</th>\n",
       "      <th>movie_id</th>\n",
       "      <th>count</th>\n",
       "    </tr>\n",
       "  </thead>\n",
       "  <tbody>\n",
       "    <tr>\n",
       "      <th>0</th>\n",
       "      <td>0</td>\n",
       "      <td>0</td>\n",
       "      <td>5</td>\n",
       "    </tr>\n",
       "    <tr>\n",
       "      <th>1</th>\n",
       "      <td>1</td>\n",
       "      <td>0</td>\n",
       "      <td>5</td>\n",
       "    </tr>\n",
       "    <tr>\n",
       "      <th>2</th>\n",
       "      <td>2</td>\n",
       "      <td>0</td>\n",
       "      <td>4</td>\n",
       "    </tr>\n",
       "    <tr>\n",
       "      <th>3</th>\n",
       "      <td>3</td>\n",
       "      <td>0</td>\n",
       "      <td>4</td>\n",
       "    </tr>\n",
       "    <tr>\n",
       "      <th>4</th>\n",
       "      <td>4</td>\n",
       "      <td>0</td>\n",
       "      <td>5</td>\n",
       "    </tr>\n",
       "    <tr>\n",
       "      <th>...</th>\n",
       "      <td>...</td>\n",
       "      <td>...</td>\n",
       "      <td>...</td>\n",
       "    </tr>\n",
       "    <tr>\n",
       "      <th>836478</th>\n",
       "      <td>1621</td>\n",
       "      <td>3623</td>\n",
       "      <td>5</td>\n",
       "    </tr>\n",
       "    <tr>\n",
       "      <th>836479</th>\n",
       "      <td>3481</td>\n",
       "      <td>3624</td>\n",
       "      <td>4</td>\n",
       "    </tr>\n",
       "    <tr>\n",
       "      <th>836480</th>\n",
       "      <td>3481</td>\n",
       "      <td>3625</td>\n",
       "      <td>3</td>\n",
       "    </tr>\n",
       "    <tr>\n",
       "      <th>836481</th>\n",
       "      <td>4159</td>\n",
       "      <td>3626</td>\n",
       "      <td>4</td>\n",
       "    </tr>\n",
       "    <tr>\n",
       "      <th>836482</th>\n",
       "      <td>1648</td>\n",
       "      <td>3627</td>\n",
       "      <td>5</td>\n",
       "    </tr>\n",
       "  </tbody>\n",
       "</table>\n",
       "<p>836483 rows × 3 columns</p>\n",
       "</div>"
      ],
      "text/plain": [
       "        user_id  movie_id  count\n",
       "0             0         0      5\n",
       "1             1         0      5\n",
       "2             2         0      4\n",
       "3             3         0      4\n",
       "4             4         0      5\n",
       "...         ...       ...    ...\n",
       "836478     1621      3623      5\n",
       "836479     3481      3624      4\n",
       "836480     3481      3625      3\n",
       "836481     4159      3626      4\n",
       "836482     1648      3627      5\n",
       "\n",
       "[836483 rows x 3 columns]"
      ]
     },
     "execution_count": 21,
     "metadata": {},
     "output_type": "execute_result"
    }
   ],
   "source": [
    "# indexing을 통해 데이터 컬럼 내 값을 바꾸는 코드\n",
    "# dictionary 자료형의 get 함수는 https://wikidocs.net/16 을 참고하세요.\n",
    "\n",
    "# user_to_idx.get을 통해 user_id 컬럼의 모든 값을 인덱싱한 Series를 구해 봅시다. \n",
    "# 혹시 정상적으로 인덱싱되지 않은 row가 있다면 인덱스가 NaN이 될 테니 dropna()로 제거합니다. \n",
    "temp_user_data = movies_tmp['user_id'].map(user_to_idx.get).dropna()\n",
    "if len(temp_user_data) == len(movies_tmp):   # 모든 row가 정상적으로 인덱싱되었다면\n",
    "    print('user_id column indexing OK!!')\n",
    "    movies_tmp['user_id'] = temp_user_data   # movies_tmp['user_id']을 인덱싱된 Series로 교체해 줍니다. \n",
    "else:\n",
    "    print('user_id column indexing Fail!!')\n",
    "\n",
    "#movie_id를 통해 movie 컬럼도 동일한 방식으로 인덱싱해 줍니다. \n",
    "temp_movie_data = movies_tmp['movie_id'].map(movie_to_idx.get).dropna()\n",
    "if len(temp_movie_data) == len(movies_tmp):\n",
    "    print('movie column indexing OK!!')\n",
    "    movies_tmp['movie_id'] = temp_movie_data\n",
    "else:\n",
    "    print('movie column indexing Fail!!')\n",
    "\n",
    "movies_tmp"
   ]
  },
  {
   "cell_type": "markdown",
   "id": "compressed-standard",
   "metadata": {},
   "source": [
    "# CSR matrix\n",
    "\n",
    "## CSR란\n",
    "-Compressed Sparse Row 의 약자입니다.    \n",
    "-CSR Matrix는 Sparse한 matrix에서 0이 아닌 유효한 데이터로 채워지는 데이터의 값과 좌표 정보만으로 구성하여 메모리 사용량을 최소화하면서도 Sparse한 matrix와 동일한 행렬을 표현할 수 있도록 하는 데이터 구조입니다. \n",
    "- https://lovit.github.io/nlp/machine%20learning/2018/04/09/sparse_mtarix_handling/#csr-matrix\n",
    "- https://stackoverflow.com/questions/53254104/cant-understand-scipy-sparse-csr-matrix-example/62118005#62118005\n",
    "![CSR]( https://lovit.github.io/assets/figures/sparse_matrix_csr.png )"
   ]
  },
  {
   "cell_type": "markdown",
   "id": "bright-effectiveness",
   "metadata": {},
   "source": [
    "[8-6. CSR] csr_matrix의 indices 와 indptr 개념\n",
    "https://rfriend.tistory.com/551\n",
    "![ㅁ](https://t1.daumcdn.net/cfile/tistory/99C845445F69BC8A32)"
   ]
  },
  {
   "cell_type": "markdown",
   "id": "welsh-clearing",
   "metadata": {},
   "source": [
    "# 4) CSR matrix를 직접 만들기"
   ]
  },
  {
   "cell_type": "code",
   "execution_count": 22,
   "id": "taken-operator",
   "metadata": {},
   "outputs": [],
   "source": [
    "#SciPy(사이파이)는 과학 컴퓨팅과 기술 컴퓨팅에 사용되는 자유-오픈 소스 파이썬 라이브러리이다\n",
    "from scipy.sparse import csr_matrix\n",
    "\n",
    "num_user = movies_tmp['user_id'].nunique()\n",
    "num_movie = movies_tmp['movie_id'].nunique()\n",
    "\n",
    "\n",
    "#=> csr_matrix((data, indices, indptr), shape=(row, col))\n",
    "csr_data = csr_matrix((movies_tmp['count'], (movies_tmp['user_id'], movies_tmp['movie_id'])), shape= (num_user, num_movie))\n",
    "#csr_data"
   ]
  },
  {
   "cell_type": "markdown",
   "id": "worth-approach",
   "metadata": {},
   "source": [
    "#  5) als_model = AlternatingLeastSquares 모델을 직접 구성하여 훈련하기\n",
    "- Matrix Factorization에서 쪼개진 두 Feature Matrix를 한꺼번에 훈련하는 것은 잘 수렴하지 않기 때문에, 한쪽을 고정시키고 다른 쪽을 학습하는 방식을 번갈아 수행하는 AlternatingLeastSquares 방식이 효과적인 것으로 알려져 있다."
   ]
  },
  {
   "cell_type": "code",
   "execution_count": 23,
   "id": "durable-awareness",
   "metadata": {},
   "outputs": [],
   "source": [
    "from implicit.als import AlternatingLeastSquares\n",
    "import os\n",
    "import numpy as np\n",
    "\n",
    "# implicit 라이브러리에서 권장하고 있는 부분입니다. 학습 내용과는 무관합니다.\n",
    "os.environ['OPENBLAS_NUM_THREADS']='1'\n",
    "os.environ['KMP_DUPLICATE_LIB_OK']='True'\n",
    "os.environ['MKL_NUM_THREADS']='1'"
   ]
  },
  {
   "cell_type": "markdown",
   "id": "latin-science",
   "metadata": {},
   "source": [
    "``` \n",
    " 1. factors : 유저와 아이템의 벡터를 몇 차원으로 할 것인지 \n",
    " 2. regularization : 과적합을 방지하기 위해 정규화 값을 얼마나 사용할 것인지\n",
    " 3. use_gpu : GPU를 사용할 것인지 \n",
    " 4. iterations : epochs와 같은 의미\n",
    "``` "
   ]
  },
  {
   "cell_type": "code",
   "execution_count": 24,
   "id": "induced-happening",
   "metadata": {},
   "outputs": [],
   "source": [
    "# Implicit AlternatingLeastSquares 모델의 선언\n",
    "als_model = AlternatingLeastSquares(\\\n",
    "        factors=100, regularization=0.01, use_gpu=False, iterations=15, dtype=np.float32)"
   ]
  },
  {
   "cell_type": "markdown",
   "id": "increased-contact",
   "metadata": {},
   "source": [
    "```\n",
    " als_model          :Implicit AlternatingLeastSquares 모델\n",
    " csr_data           : user_id'와 'movie_id'를 가지고 scipy라이브러리가 적용된 csr_matrix\n",
    " csr_data_transpose : csr_data를 내적하기 쉽게 Transpose해준다.\n",
    "```"
   ]
  },
  {
   "cell_type": "code",
   "execution_count": 25,
   "id": "signed-tennis",
   "metadata": {
    "scrolled": true
   },
   "outputs": [
    {
     "data": {
      "text/plain": [
       "<3628x6040 sparse matrix of type '<class 'numpy.int64'>'\n",
       "\twith 836483 stored elements in Compressed Sparse Column format>"
      ]
     },
     "execution_count": 25,
     "metadata": {},
     "output_type": "execute_result"
    }
   ],
   "source": [
    "# als 모델은 input으로 (item X user 꼴의 matrix를 받기 때문에 Transpose해줍니다.)\n",
    "csr_data_transpose = csr_data.T\n",
    "csr_data_transpose"
   ]
  },
  {
   "cell_type": "code",
   "execution_count": 26,
   "id": "damaged-ribbon",
   "metadata": {
    "scrolled": true
   },
   "outputs": [
    {
     "data": {
      "application/vnd.jupyter.widget-view+json": {
       "model_id": "d4904a26ff5c4c9c915782668ec47787",
       "version_major": 2,
       "version_minor": 0
      },
      "text/plain": [
       "  0%|          | 0/15 [00:00<?, ?it/s]"
      ]
     },
     "metadata": {},
     "output_type": "display_data"
    }
   ],
   "source": [
    "# 모델 훈련\n",
    "als_model.fit(csr_data_transpose)"
   ]
  },
  {
   "cell_type": "markdown",
   "id": "brown-daniel",
   "metadata": {},
   "source": [
    "#  6) 내가 선호하는 5가지 영화 중 하나와 그 외의 영화 하나를 골라 훈련된 모델이 예측한 나의 선호도를 파악해 보세요."
   ]
  },
  {
   "cell_type": "markdown",
   "id": "thrown-console",
   "metadata": {},
   "source": [
    "### 나의 선호 영화 정보 찾는법\n",
    "  1.사용자id, 선호 영화제목로 직접 입력한다.(노드 진행방식)/이 방식으로 진행하겠다.   \n",
    "  2.밑과 같이 접근한다."
   ]
  },
  {
   "cell_type": "code",
   "execution_count": 27,
   "id": "previous-boulder",
   "metadata": {},
   "outputs": [
    {
     "name": "stdout",
     "output_type": "stream",
     "text": [
      "5677\n"
     ]
    },
    {
     "data": {
      "text/html": [
       "<div>\n",
       "<style scoped>\n",
       "    .dataframe tbody tr th:only-of-type {\n",
       "        vertical-align: middle;\n",
       "    }\n",
       "\n",
       "    .dataframe tbody tr th {\n",
       "        vertical-align: top;\n",
       "    }\n",
       "\n",
       "    .dataframe thead th {\n",
       "        text-align: right;\n",
       "    }\n",
       "</style>\n",
       "<table border=\"1\" class=\"dataframe\">\n",
       "  <thead>\n",
       "    <tr style=\"text-align: right;\">\n",
       "      <th></th>\n",
       "      <th>user_id</th>\n",
       "      <th>movie_id</th>\n",
       "      <th>count</th>\n",
       "    </tr>\n",
       "  </thead>\n",
       "  <tbody>\n",
       "    <tr>\n",
       "      <th>40620</th>\n",
       "      <td>5677</td>\n",
       "      <td>40</td>\n",
       "      <td>5</td>\n",
       "    </tr>\n",
       "    <tr>\n",
       "      <th>53173</th>\n",
       "      <td>5677</td>\n",
       "      <td>50</td>\n",
       "      <td>5</td>\n",
       "    </tr>\n",
       "    <tr>\n",
       "      <th>124655</th>\n",
       "      <td>5677</td>\n",
       "      <td>124</td>\n",
       "      <td>5</td>\n",
       "    </tr>\n",
       "    <tr>\n",
       "      <th>193101</th>\n",
       "      <td>5677</td>\n",
       "      <td>200</td>\n",
       "      <td>5</td>\n",
       "    </tr>\n",
       "    <tr>\n",
       "      <th>362920</th>\n",
       "      <td>5677</td>\n",
       "      <td>513</td>\n",
       "      <td>5</td>\n",
       "    </tr>\n",
       "  </tbody>\n",
       "</table>\n",
       "</div>"
      ],
      "text/plain": [
       "        user_id  movie_id  count\n",
       "40620      5677        40      5\n",
       "53173      5677        50      5\n",
       "124655     5677       124      5\n",
       "193101     5677       200      5\n",
       "362920     5677       513      5"
      ]
     },
     "execution_count": 27,
     "metadata": {},
     "output_type": "execute_result"
    }
   ],
   "source": [
    "# syj idx값 찾기\n",
    "syj_idx_num = user_to_idx['syj']\n",
    "print(syj_idx_num)\n",
    "\n",
    "#syj의 데이터정보만 가져온다.\n",
    "is_moives_syj = movies_tmp['user_id'] == 5677 #56\n",
    "moives_syj = movies_tmp[is_moives_syj]\n",
    "moives_syj"
   ]
  },
  {
   "cell_type": "markdown",
   "id": "driving-synthetic",
   "metadata": {},
   "source": [
    "### Feature Matrix 확인하기 (als모델로 훈련된)\n",
    "```\n",
    "1)모델(als_model)이 syj유저와 가수의 벡터를 확인해보자\n",
    "2)두 벡터를 곱하면 어떻값이 나오는지 살펴보겠다.\n",
    "\n",
    "als_model.user_factors[syj]                   :  syj의 Feature Matrix       \n",
    "als_model.item_factors[dir_favorite['Toy Story (1995)'] : Toy Story (1995)의 Feature Matrix\n",
    "\n",
    "user_factors[~],item_factors[~]는 AlternatingLeastSquares의 변수인가?????\n",
    "```"
   ]
  },
  {
   "cell_type": "code",
   "execution_count": 28,
   "id": "closed-increase",
   "metadata": {},
   "outputs": [
    {
     "name": "stdout",
     "output_type": "stream",
     "text": [
      "syj의 인덱스:5677  ,toystory1995의 인덱스:40\n",
      "슝=3\n"
     ]
    }
   ],
   "source": [
    "syj_idx, toystory1995_idx = user_to_idx['syj'], movie_to_idx[dir_favorite['Toy Story (1995)']]\n",
    "syj_vector, toystory1995_vector = als_model.user_factors[syj_idx], als_model.item_factors[toystory1995_idx]\n",
    "\n",
    "\n",
    "print('syj의 인덱스:{}  ,toystory1995의 인덱스:{}'.format(syj_idx, toystory1995_idx) )\n",
    "print('슝=3')\n",
    "\n"
   ]
  },
  {
   "cell_type": "code",
   "execution_count": 29,
   "id": "increased-camera",
   "metadata": {
    "scrolled": true
   },
   "outputs": [
    {
     "data": {
      "text/plain": [
       "array([ 2.75577635e-01,  1.50722221e-01, -1.26729831e-01,  3.19408208e-01,\n",
       "        6.61623955e-01,  8.00710261e-01,  4.43611145e-01, -2.03582942e-01,\n",
       "        8.22215497e-01, -2.92089403e-01, -7.25150228e-01, -1.54909208e-01,\n",
       "        5.89912772e-01,  3.82928222e-01, -6.31511390e-01,  5.76340139e-01,\n",
       "        8.08112085e-01, -4.40448582e-01,  4.24861088e-02,  5.55863738e-01,\n",
       "       -4.40339625e-01,  6.26808584e-01,  7.66437352e-01, -8.76595080e-02,\n",
       "        7.64390975e-02, -2.14399830e-01, -8.37233901e-01,  1.52785349e+00,\n",
       "        5.03781319e-01,  2.27519590e-02,  1.05064785e+00,  3.09169024e-01,\n",
       "       -1.91409618e-01,  7.43554175e-01, -4.59949434e-01, -1.02716446e+00,\n",
       "       -2.60585099e-01, -7.98849985e-02,  9.08718165e-03,  1.15952089e-01,\n",
       "       -1.09015845e-01, -1.09346747e+00,  5.41121177e-02, -8.24396729e-01,\n",
       "       -1.40833294e+00,  1.87456265e-01,  3.74525815e-01, -4.88101959e-01,\n",
       "        8.40960860e-01,  3.76989812e-01, -8.86246979e-01, -7.77499285e-04,\n",
       "        4.74207371e-01, -3.35697144e-01,  1.28753185e-02, -4.78397012e-01,\n",
       "        7.69273564e-02, -3.10411721e-01, -3.52068931e-01,  4.76291060e-01,\n",
       "        8.61731544e-02,  1.91665217e-01,  2.70125002e-01, -3.14590961e-01,\n",
       "        7.27180541e-01,  1.47774547e-01, -1.03132159e-01,  1.37111709e-01,\n",
       "        2.73693860e-01,  4.48177695e-01,  9.02482450e-01,  2.95508891e-01,\n",
       "       -1.72010705e-01, -4.79935020e-01,  8.53640020e-01,  6.67047501e-01,\n",
       "       -4.26733553e-01, -4.37460423e-01,  1.12044632e+00, -1.94516465e-01,\n",
       "        1.27363279e-01, -8.42907093e-03, -3.37202817e-01, -5.73069751e-01,\n",
       "       -6.28316641e-01, -3.16571444e-01, -5.17371655e-01, -1.26553506e-01,\n",
       "       -7.03952551e-01, -5.29418290e-01,  3.92047316e-01, -8.01041126e-02,\n",
       "        8.96014750e-01, -4.78158593e-01,  3.76928210e-01, -1.15404755e-01,\n",
       "        7.08137900e-02, -8.37249458e-01, -9.21142817e-01, -5.07414997e-01],\n",
       "      dtype=float32)"
      ]
     },
     "execution_count": 29,
     "metadata": {},
     "output_type": "execute_result"
    }
   ],
   "source": [
    "syj_vector"
   ]
  },
  {
   "cell_type": "code",
   "execution_count": 30,
   "id": "juvenile-enclosure",
   "metadata": {
    "scrolled": true
   },
   "outputs": [
    {
     "data": {
      "text/plain": [
       "array([ 0.01584552,  0.00124755,  0.01059674,  0.03097196,  0.03855089,\n",
       "        0.02645783,  0.01210599,  0.00439516,  0.0178262 , -0.00436286,\n",
       "       -0.00720635, -0.00264205, -0.00694914,  0.028927  , -0.01144978,\n",
       "        0.01617156,  0.04634731, -0.01475057,  0.02368647,  0.02121501,\n",
       "       -0.01364448, -0.00399538,  0.01202685, -0.01337743, -0.01853056,\n",
       "       -0.01561294, -0.01535387,  0.01987721,  0.02097918,  0.01067194,\n",
       "        0.03924847,  0.01431063, -0.00453917,  0.00752472, -0.01178272,\n",
       "       -0.01316751,  0.00600548, -0.01334532, -0.00352343,  0.0041913 ,\n",
       "        0.02143768, -0.01785178,  0.02163541, -0.03636651, -0.01095393,\n",
       "       -0.006711  , -0.00493587,  0.00292111,  0.0085131 ,  0.01307432,\n",
       "       -0.04283176,  0.02007706,  0.04570417, -0.02712072,  0.01087983,\n",
       "       -0.01431392,  0.00901246, -0.00993346, -0.02069543,  0.03849772,\n",
       "        0.03458782,  0.00142369,  0.00527123,  0.01204033,  0.0294358 ,\n",
       "       -0.01950151,  0.00483327,  0.01067477,  0.01927969,  0.00933224,\n",
       "        0.03435856,  0.02343587, -0.016823  ,  0.01032948,  0.0227986 ,\n",
       "        0.00068375,  0.01850393, -0.01238047,  0.04877837,  0.01336669,\n",
       "        0.01733348,  0.01117484, -0.01428707, -0.02661938, -0.00369091,\n",
       "        0.02037232,  0.01043261,  0.00941121, -0.0035001 , -0.01087719,\n",
       "       -0.00060387,  0.01322443,  0.00864298,  0.00424833, -0.00588781,\n",
       "        0.01576926,  0.01044219, -0.01268553, -0.02370122, -0.02262559],\n",
       "      dtype=float32)"
      ]
     },
     "execution_count": 30,
     "metadata": {},
     "output_type": "execute_result"
    }
   ],
   "source": [
    "toystory1995_vector"
   ]
  },
  {
   "cell_type": "code",
   "execution_count": 31,
   "id": "attached-wagon",
   "metadata": {},
   "outputs": [
    {
     "data": {
      "text/plain": [
       "0.68336535"
      ]
     },
     "execution_count": 31,
     "metadata": {},
     "output_type": "execute_result"
    }
   ],
   "source": [
    "# syj과 toy story 1995 내적하는 코드\n",
    "np.dot(syj_vector, toystory1995_vector)"
   ]
  },
  {
   "cell_type": "markdown",
   "id": "viral-protest",
   "metadata": {},
   "source": [
    "### 선호 이외의 영화 비교해보기 'Men in Black (1997)'"
   ]
  },
  {
   "cell_type": "code",
   "execution_count": 32,
   "id": "outdoor-deployment",
   "metadata": {
    "scrolled": true
   },
   "outputs": [
    {
     "name": "stdout",
     "output_type": "stream",
     "text": [
      "175\n"
     ]
    },
    {
     "data": {
      "text/plain": [
       "0.13536981"
      ]
     },
     "execution_count": 32,
     "metadata": {},
     "output_type": "execute_result"
    }
   ],
   "source": [
    "men_in_black_1997   = movie_to_idx[title_in_id_out('Men in Black (1997)')]\n",
    "print(men_in_black_1997)              \n",
    "men_in_black_1997_vector = als_model.item_factors[men_in_black_1997]\n",
    "\n",
    "# syj과 'Men in Black (1997)' 내적하는 코드\n",
    "np.dot(syj_vector, men_in_black_1997_vector)"
   ]
  },
  {
   "cell_type": "markdown",
   "id": "naval-trauma",
   "metadata": {},
   "source": [
    "내가 좋아하는  toy story 1995보다 더좋은 내적값이 나왔다. 즉 나와 취향이 동일한 사용자들은 'Men in Black (1997)'를  좋아한다고 추측할수 있다."
   ]
  },
  {
   "cell_type": "markdown",
   "id": "civil-arthritis",
   "metadata": {},
   "source": [
    "#  7) 내가 좋아하는 영화와 비슷한 영화를 추천받아 봅시다."
   ]
  },
  {
   "cell_type": "code",
   "execution_count": 33,
   "id": "emotional-intellectual",
   "metadata": {
    "scrolled": true
   },
   "outputs": [
    {
     "name": "stdout",
     "output_type": "stream",
     "text": [
      "Terminator, The (1984)\n"
     ]
    },
    {
     "data": {
      "text/plain": [
       "[(200, 1.0000001),\n",
       " (651, 0.7845759),\n",
       " (194, 0.6933006),\n",
       " (193, 0.6548679),\n",
       " (865, 0.64831036),\n",
       " (92, 0.61977553),\n",
       " (124, 0.5843173),\n",
       " (928, 0.5118662),\n",
       " (62, 0.5115304),\n",
       " (882, 0.5046484)]"
      ]
     },
     "execution_count": 33,
     "metadata": {},
     "output_type": "execute_result"
    }
   ],
   "source": [
    "#AlternatingLeastSquares 클래스 \n",
    "#similar_items 메서드를 통하여 비슷한 영화를 찾습니다\n",
    "print(my_favorite[1])\n",
    "\n",
    "favorite_movie = 'Terminator, The (1984)'\n",
    "movie_id = movie_to_idx[title_in_id_out(favorite_movie)]\n",
    "similar_movie = als_model.similar_items(movie_id, N=10)\n",
    "similar_movie\n",
    "#(영화의 idx, 유사도) Tuple 로 반환"
   ]
  },
  {
   "cell_type": "code",
   "execution_count": 34,
   "id": "compatible-wings",
   "metadata": {},
   "outputs": [
    {
     "name": "stdout",
     "output_type": "stream",
     "text": [
      "idx:200,   moive_id:1240 \n",
      "Terminator, The (1984) \n",
      "\n",
      "idx:651,   moive_id:1200 \n",
      "Aliens (1986) \n",
      "\n",
      "idx:194,   moive_id:1036 \n",
      "Die Hard (1988) \n",
      "\n",
      "idx:193,   moive_id:1214 \n",
      "Alien (1979) \n",
      "\n",
      "idx:865,   moive_id:3527 \n",
      "Predator (1987) \n",
      "\n",
      "idx:92,   moive_id:589 \n",
      "Terminator 2: Judgment Day (1991) \n",
      "\n",
      "idx:124,   moive_id:2571 \n",
      "Matrix, The (1999) \n",
      "\n",
      "idx:928,   moive_id:2985 \n",
      "Robocop (1987) \n",
      "\n",
      "idx:62,   moive_id:2916 \n",
      "Total Recall (1990) \n",
      "\n",
      "idx:882,   moive_id:3703 \n",
      "Mad Max 2 (a.k.a. The Road Warrior) (1981) \n",
      "\n"
     ]
    }
   ],
   "source": [
    "#movie_to_idx 를 뒤집어, index로부터 movie_id를  얻는 dict를 생성합니다. \n",
    "idx_to_movie = {v:k for k,v in movie_to_idx.items()}\n",
    "\n",
    "for i in similar_movie:\n",
    "    idx = i[0]\n",
    "    moive_id = idx_to_movie[idx]\n",
    "    print('idx:{},   moive_id:{} '.format(idx,moive_id))\n",
    "    print(id_in_title_out(moive_id),'\\n')\n"
   ]
  },
  {
   "cell_type": "markdown",
   "id": "devoted-stations",
   "metadata": {},
   "source": [
    "#  8) 내가 가장 좋아할 만한 영화들을 추천받아 봅시다."
   ]
  },
  {
   "cell_type": "markdown",
   "id": "proper-governor",
   "metadata": {},
   "source": [
    "recommend메서드를 통해 유저가 좋아하는 영화를 추천받을수 있다.    \n",
    "filter_already_li아ked_items =true는 유저가 이미 평가한 아이템을 제거한다."
   ]
  },
  {
   "cell_type": "code",
   "execution_count": 55,
   "id": "detected-punishment",
   "metadata": {
    "scrolled": false
   },
   "outputs": [
    {
     "data": {
      "text/plain": [
       "[(92, 0.5014723),\n",
       " (4, 0.36299428),\n",
       " (651, 0.32149833),\n",
       " (62, 0.32128203),\n",
       " (458, 0.30617693),\n",
       " (33, 0.26538277),\n",
       " (141, 0.2608834)]"
      ]
     },
     "execution_count": 55,
     "metadata": {},
     "output_type": "execute_result"
    }
   ],
   "source": [
    "user = user_to_idx['syj']\n",
    "# recommend에서는 user*[???] CSR Matrix를 받습니다.\n",
    "movie_recommended = als_model.recommend(user, csr_data, N=7, filter_already_liked_items=True)\n",
    "movie_recommended"
   ]
  },
  {
   "cell_type": "markdown",
   "id": "found-lounge",
   "metadata": {},
   "source": [
    "### syj유저가 좋아할 만한 영화 추천"
   ]
  },
  {
   "cell_type": "code",
   "execution_count": 56,
   "id": "textile-therapist",
   "metadata": {
    "scrolled": false
   },
   "outputs": [
    {
     "name": "stdout",
     "output_type": "stream",
     "text": [
      "idx:92,   moive_id:589 \n",
      "Terminator 2: Judgment Day (1991) \n",
      "\n",
      "idx:4,   moive_id:2355 \n",
      "Bug's Life, A (1998) \n",
      "\n",
      "idx:651,   moive_id:1200 \n",
      "Aliens (1986) \n",
      "\n",
      "idx:62,   moive_id:2916 \n",
      "Total Recall (1990) \n",
      "\n",
      "idx:458,   moive_id:367 \n",
      "Mask, The (1994) \n",
      "\n",
      "idx:33,   moive_id:588 \n",
      "Aladdin (1992) \n",
      "\n",
      "idx:141,   moive_id:457 \n",
      "Fugitive, The (1993) \n",
      "\n"
     ]
    }
   ],
   "source": [
    "#movie_to_idx 를 뒤집어, index로부터 movie_id를  얻는 dict를 생성합니다. \n",
    "idx_to_movie = {v:k for k,v in movie_to_idx.items()}\n",
    "for i in movie_recommended:\n",
    "    idx = i[0]\n",
    "    moive_id = idx_to_movie[idx]\n",
    "    print('idx:{},   moive_id:{} '.format(idx,moive_id))\n",
    "    print(id_in_title_out(moive_id),'\\n')\n",
    "\n"
   ]
  },
  {
   "cell_type": "markdown",
   "id": "infrared-functionality",
   "metadata": {},
   "source": [
    "aladdin1992영화를 추천받고 있다.   \n",
    "explain 매소드를 사용하면 유저가 기록을 남긴 데이터 중 이 추천에 기영한 정도를 알수 있다."
   ]
  },
  {
   "cell_type": "code",
   "execution_count": 85,
   "id": "available-dylan",
   "metadata": {},
   "outputs": [],
   "source": [
    "aladdin1992   = movie_to_idx[title_in_id_out('Aladdin (1992)')]\n",
    "explain = als_model.explain(user, csr_data, itemid=aladdin1992)"
   ]
  },
  {
   "cell_type": "markdown",
   "id": "annual-automation",
   "metadata": {},
   "source": [
    " 추천한 콘텐츠의 점수에 기여한 다른 콘텐츠와 기여도(합이 콘텐츠의 점수가 됩니다.)를 반환한다.\n"
   ]
  },
  {
   "cell_type": "code",
   "execution_count": 86,
   "id": "elegant-moisture",
   "metadata": {},
   "outputs": [
    {
     "data": {
      "text/plain": [
       "[('Toy Story (1995)', 0.178152230616999),\n",
       " ('Toy Story 2 (1999)', 0.07045848351997247),\n",
       " ('Jumanji (1995)', 0.01572862127026238),\n",
       " ('Terminator, The (1984)', 0.00946572202662881),\n",
       " ('Matrix, The (1999)', -0.013866678657256572)]"
      ]
     },
     "execution_count": 86,
     "metadata": {},
     "output_type": "execute_result"
    }
   ],
   "source": [
    "[(id_in_title_out(idx_to_movie[i[0]]), i[1]) for i in explain[1]]"
   ]
  },
  {
   "cell_type": "markdown",
   "id": "contained-jumping",
   "metadata": {},
   "source": [
    "```\n",
    "하다가 정리한것 마지막부분의 변수는 안적음\n",
    "\n",
    "변수\n",
    "ratings            : 유저id,무비id,평점,timestamp(DataFrame)\n",
    "movies             : 무비id,영화명,장르(DataFrame)\n",
    "orginal_data_size  : 평점이 1~5인 영화 갯수(1000209)(int)\n",
    "filtered_data_size : 평점이 3이상인 영화 갯수(836478)(int)\n",
    "\n",
    "\n",
    "ratings에 있는 유니크한 영화 개수 : 3628\n",
    "ratings에 있는 유니크한 사용자 수 : 6039(syj추가되면 6040)\n",
    "\n",
    "movies_data : ratings과 movies join한다 \n",
    "\n",
    "movies_count : 평점 3,4,5대상 title,count DataFrame\n",
    "\n",
    "my_favorite     :  선택한 선호 영화 5개 리스트[title]\n",
    "my_movie_id   : 선택한 선호 영화 5개 리스트[moive_id]\n",
    "dir_favorite     : 선택한 선호 영화 5개  딕셔너리{'title' :'movie_id'} \n",
    "\n",
    "my_moivelist :  새로운사용자(5개의 선호영화포함) 영화정보데이터(user_id,\tmovie_id, count, timestamp)DataFrame\n",
    "movies_tmp  : 연산될 칼럼만 저장된 데이터  (user_id, movie_id, count)Dataframe\n",
    "\n",
    "user_unique ,num_user :  고유한 유저 수\n",
    "movie_unique, num_movie : 고유한 영화 수\n",
    "user_to_idx      :  인덱싱작업이 된 유저id 딕셔너리(id : idx)\n",
    "movie_to_idx  : 인덱싱작업이 된 영화id 딕셔너리 (id : idx)\n",
    "movies_tmp   : 인덱싱작업이된 user_id와 moive_id 저장  (user_id, movie_id, count)DataFrame\n",
    "als_model         : AlternatingLeastSquares 모델\n",
    "\n",
    "함수\n",
    "title_in_id_out(title)              :title 입력시 -> movie_id 반환 함수\n",
    "id_in_title_out(movie_id)  :movie_id 입력시 -> title 반환 함수\n",
    "\n",
    "```"
   ]
  },
  {
   "cell_type": "markdown",
   "id": "parliamentary-kingston",
   "metadata": {},
   "source": [
    "#  새로 학습한 내용\n",
    "\n",
    "#### 판다스 함수    \n",
    "Series.describe() -> 그룹의 기술 통계량 출력     \n",
    "DataFrame.groupby함수    \n",
    "data.groupby('user_id')['play'].median()    \n",
    "data.groupby('user_id')['artist'].count()    \n",
    "- https://dacon.io/codeshare/582    \n",
    "- https://ponyozzang.tistory.com/291 -> groupby  \n",
    "\n",
    "Pandas 특정 조건을 만족하는 데이터 행 뽑기  \n",
    "https://hogni.tistory.com/9\n",
    "\n",
    "\n",
    "#### 딕셔너리 함수\n",
    "get()       \n",
    "-> dic.get(x)는 x라는 Key에 대응되는 Value를 돌려준다. \n",
    "-https://wikidocs.net/16\n",
    "\n",
    "\n",
    "\n",
    "####  Matrix Factorization(MF)\n",
    "MF는 CF(Collaborative Filtering)의 한 기법이다. MF는 user-item의 매트릭스에 비어있는 요소를 채우는 기술이다.     \n",
    "추천 시스템의 다양한 모델 하나(행렬분해, MF)    \n",
    "(m,n) 사이즈의 행렬 R을 (m,k) 사이즈의 행렬 P와 (k,n) 사이즈의 행렬 Q로 분해한다면 R이란 그저 P와 Q의 행렬곱으로 표현 가능할 수 있다는 간단한 아이디어입니다.    \n",
    "단순함에도 불구하고 MF 모델은 성능이 준수하고 Scalability(확장성)가 좋아서 많이 사용되는 모델      \n",
    "Collaborative Filtering for Implicit Feedback Datasets 논문         \n",
    "http://yifanhu.net/PUB/cf.pdf        \n",
    "참고자료   \n",
    "https://towardsdatascience.com/recommendation-system-matrix-factorization-d61978660b4b   \n",
    "\n",
    "\n",
    "#### CSR\n",
    "-Compressed Sparse Row 의 약자   \n",
    "-CSR Matrix는 Sparse한 matrix에서 0이 아닌 유효한 데이터로 채워지는 데이터의 값과 좌표 정보만으로 구성하여 메모리 사용량을 최소화하면서도 Sparse한 matrix와 동일한 행렬을 표현할 수 있도록 하는 데이터 구조입니다.    \n",
    "\n",
    "\n",
    "#### SciPy(사이파이)\n",
    "는 과학 컴퓨팅과 기술 컴퓨팅에 사용되는 자유-오픈 소스 파이썬 라이브러리.    \n",
    "scipy.sparse.csr_matrix \n",
    " 사용법 https://docs.scipy.org/doc/scipy/reference/generated/scipy.sparse.csr_matrix.html\n",
    " \n",
    " \n",
    "#### als(AlternatingLeastSquares) 모델\n",
    "Matrix Factorization에서 쪼개진 두 Feature Matrix를 한꺼번에 훈련하는 것은 잘 수렴하지 않기 때문에, 한쪽을 고정시키고 다른 쪽을 학습하는 방식을 번갈아 수행하는 AlternatingLeastSquares 방식이 효과적인 방식이라고 한다.\n",
    "\n"
   ]
  },
  {
   "cell_type": "markdown",
   "id": "beginning-helen",
   "metadata": {},
   "source": [
    "# 질문\n",
    "\n",
    "1.print(ratings['user_id'].nunique()) 인경우 6039값이 나옴    \n",
    "movies_data.sort_values(by='user_id',ascending=True, inplace=False) 인경우 미지막 값은 6040 나옴   \n",
    "->user_id은 첫번째값은 1, 마지막값은 6039값으로 설정됐다. 유니크한 값은 6040개가 되어야되는데 6039개다 ,그럼 중간에 한개의 값이 없다고 추측된다.(중간의 모든값을 보는방법이 있는가?)\n",
    "\n",
    "\n",
    "2.my_moivelist = pd.DataFrame({'user_id': ['syj']*5, 'movie_id': my_movie_id, 'count':[5]*5})\n",
    "에서 'user_id': [0]*5 으로 하면 굳이 인덱싱 과정을 하지 않아도 되지않나?\n",
    " -> csr에서 오류남 왜인지는 모르겠다.\n",
    "\n",
    "3.join은 무엇인가?   \n",
    "->두 개의 DataFrame을 합치는 것   \n",
    "->Inner join : 두 DataFrame의 기준 컬럼에서 둘다 존재하는 데이터만 조인한다.\n",
    "https://programmerpsy.tistory.com/17\n",
    "\n",
    "\n",
    "4.MF를 바로 사용하지 않고 CSR 작업한 한 이유는?   \n",
    " -> MF같은 경우는 대부분 값이 0으로 채워진 행렬을 희소 행렬(Sparse Matrix)이다.\n",
    " 희소 행렬은 너무 많은 불필요한 0 값으로 인해 메모리 낭비가 심하다. 또한 행렬의 크기가 커서 연산 시 시간도 많이 소모됩니다. 따라서 이런 희소 행렬을 메모리 낭비가 적도록 변환해야 하는데, 대표적인 방법이 COO 형식과 CSR 형식이다.\n",
    " https://bkshin.tistory.com/entry/NLP-7-%ED%9D%AC%EC%86%8C-%ED%96%89%EB%A0%AC-Sparse-Matrix-COO-%ED%98%95%EC%8B%9D-CSR-%ED%98%95%EC%8B%9D\n",
    " \n",
    "5.협업필터링과 콘텐트기반 필터링 차이점   \n",
    " -> 협업 필터링은 다수의 사용자의 구매이력,시청이력 등 행동정보를 분석하여 사용자간 유사성 및 아이템 간 유사성을 파악하여 좋아할만한 항목을 추천해주는 기술이다.   \n",
    " -> 콘텐츠 기반 필터링은 아이템의 고유의 정보를 바탕으로 아이템 간 유사성을 파악하여 추천해주는 기술    \n",
    "https://blog.naver.com/navehag/222241684742\n",
    "\n",
    "6.명시적(Explicit) 데이터와 암시적(Implicit) 데이터는 무엇인가?    \n",
    "[Explicit Datasets]    \n",
    "(1).유저가 자신의 선호도를 직접(Explicit) 표현   \n",
    "(2).데이터를 얻기 힘들다   \n",
    "[Implicit Datasets]   \n",
    "(1)Implicit Data는 유저가 간접적(Implicit)으로 선호, 취향을 나타내는 데이터   \n",
    "(2)부정적인 피드백이 없다(No Negative Feedback)    \n",
    "(3)애초에 잡음이 많다(Inherently Noisy) :영상을 잠들고보던가,강제로볼수도 있기때문    \n",
    "(4)수치는 신뢰도를 의미한다.(The numerical value of implicit feedback indicates confidence) /선호하는 영화같은경우 똑같은 영화를 자주본다.    \n",
    "(5)Implicit-feedback Recommender System     \n",
    "https://orill.tistory.com/entry/Explicit-vs-Implicit-Feedback-Datasets?category=1066301"
   ]
  },
  {
   "cell_type": "code",
   "execution_count": null,
   "id": "historic-productivity",
   "metadata": {},
   "outputs": [],
   "source": []
  }
 ],
 "metadata": {
  "kernelspec": {
   "display_name": "aiffel",
   "language": "python",
   "name": "aiffel"
  },
  "language_info": {
   "codemirror_mode": {
    "name": "ipython",
    "version": 3
   },
   "file_extension": ".py",
   "mimetype": "text/x-python",
   "name": "python",
   "nbconvert_exporter": "python",
   "pygments_lexer": "ipython3",
   "version": "3.7.9"
  }
 },
 "nbformat": 4,
 "nbformat_minor": 5
}
